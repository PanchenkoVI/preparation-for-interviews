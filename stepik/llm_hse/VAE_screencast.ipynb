{
  "cells": [
    {
      "cell_type": "markdown",
      "metadata": {
        "id": "NhaPK6l4FFq4"
      },
      "source": [
        "# Variational Autoencoder (VAE)"
      ]
    },
    {
      "cell_type": "markdown",
      "metadata": {
        "id": "trnDfFKvFFrE"
      },
      "source": [
        "* Теперь мы будем с помощью кодировщика предсказывать не конкретную точку $z$ в латентном представлении, а распределение $q(z | x)$\n",
        "\n",
        "* Также будем требовать, чтобы наше латентное представление было многомерным нормальным распределением $\\mathcal{N} (\\mu, \\sigma)$ с параметрами среднего и дисперсии, которые будут получаться из энкодера\n",
        "\n",
        "Технически разница будет в том, что после энкодинга объекта нам нужно будет получить не один вектор, а два.\n",
        "\n",
        "Функция потерь для VAE выглядит так:\n",
        "\n",
        "$$\n",
        "\\sum_{i = 1}^{\\ell} \\left( \\mathbb{E}_{q(z|x_i)} \\log p(x_i | z) - KL(q(z | x_i) \\; || \\; \\mathcal{N}(0, 1)) \\right) \\to max.\n",
        "$$\n",
        "\n",
        "Как же на практике вычислить такой лосс?\n",
        "- В нашей реализации мы максимально упростим вычисление матожидания: будем оценивать его по одному семплу\n",
        "- Помимо всего этого, на выходе из VAE обычно предсказывают не напрямую реконструкцию объекта, а параметры `mu_reconstruction` и `sigma_reconstruction` для распределения этой самой реконструкции.\n",
        "Мы и тут упростим себе задачу тем, что вместо распределения будем предказывать точечную оценку реконструкции абсолютно аналогично тому, что происходило в обычных автокодировщиках.\n",
        "\n",
        "В такой постановке первое слагаемое лосса станет просто MSE между исходным объектом и восстановленным."
      ]
    },
    {
      "cell_type": "code",
      "source": [
        "from typing import Type, Union\n",
        "\n",
        "import matplotlib.pyplot as plt\n",
        "import numpy as np\n",
        "import torch\n",
        "import torchvision\n",
        "import torchvision.transforms as transforms\n",
        "from IPython.display import clear_output, display\n",
        "from ipywidgets import Output\n",
        "from torch import nn, optim\n",
        "from tqdm.auto import trange\n",
        "\n",
        "%matplotlib inline\n",
        "\n",
        "device = \"cuda\" if torch.cuda.is_available() else \"cpu\""
      ],
      "metadata": {
        "id": "bUrcoTet82kM"
      },
      "execution_count": null,
      "outputs": []
    },
    {
      "cell_type": "code",
      "execution_count": null,
      "metadata": {
        "id": "A2WCErYVFFrF"
      },
      "outputs": [],
      "source": [
        "class MNISTEncoder_vae(nn.Module):\n",
        "    def __init__(self, lat_size: int):\n",
        "        super().__init__()\n",
        "\n",
        "        self.lat_size = lat_size\n",
        "\n",
        "        self.enc = nn.Sequential(\n",
        "            nn.Flatten(), nn.Linear(784, 512), nn.ReLU(), nn.Linear(512, 256), nn.ReLU()\n",
        "        )\n",
        "\n",
        "        self.mu = nn.Linear(256, self.lat_size)\n",
        "        self.log_sigma = nn.Linear(256, self.lat_size)\n",
        "\n",
        "    def forward(self, x: torch.Tensor):\n",
        "        z = self.enc(x)\n",
        "        mu, log_sigma = self.mu(z), self.log_sigma(z)\n",
        "\n",
        "        return mu, log_sigma\n",
        "\n",
        "\n",
        "class MNISTDecoder_vae(nn.Module):\n",
        "    def __init__(self, lat_size: int):\n",
        "        super().__init__()\n",
        "\n",
        "        self.lat_size = lat_size\n",
        "\n",
        "        self.dec = nn.Sequential(\n",
        "            nn.Linear(self.lat_size, 128), nn.ReLU(), nn.Linear(128, 784), nn.Sigmoid()\n",
        "        )\n",
        "\n",
        "    def forward(self, z: torch.Tensor):\n",
        "        x_reconstructed = self.dec(z)\n",
        "        x_reconstructed = x_reconstructed.view(-1, 1, 28, 28)\n",
        "\n",
        "        return x_reconstructed"
      ]
    },
    {
      "cell_type": "code",
      "execution_count": null,
      "metadata": {
        "id": "SxzUiZebFFrF"
      },
      "outputs": [],
      "source": [
        "class VariationalAutoEncoder(nn.Module):\n",
        "    def __init__(\n",
        "        self,\n",
        "        lat_size: int,\n",
        "        KL_weight: float = 0.001,\n",
        "        encoder_class: Type[MNISTEncoder_vae] = MNISTEncoder_vae,\n",
        "        decoder_class: Type[MNISTDecoder_vae] = MNISTDecoder_vae,\n",
        "        criterion_class: Type[nn.MSELoss] = nn.MSELoss,\n",
        "    ) -> None:\n",
        "        super().__init__()\n",
        "\n",
        "        self.lat_size = lat_size\n",
        "        self.enc = encoder_class(lat_size)\n",
        "        self.dec = decoder_class(lat_size)\n",
        "        self.criterion = criterion_class()\n",
        "        self.k = 0\n",
        "        self.KL_weight = KL_weight\n",
        "\n",
        "    def encode(self, x: torch.Tensor) -> torch.Tensor:\n",
        "        return self.enc(x)\n",
        "\n",
        "    def decode(self, z: torch.Tensor) -> torch.Tensor:\n",
        "        return self.dec(z)\n",
        "\n",
        "    def sample_z(self, mu: torch.Tensor, log_sigma: torch.Tensor) -> torch.Tensor:\n",
        "        eps = torch.randn(mu.size(), device=mu.device)\n",
        "\n",
        "        return mu + torch.exp(log_sigma / 2) * eps\n",
        "\n",
        "    def custom_loss(\n",
        "        self,\n",
        "        x: torch.Tensor,\n",
        "        reconstructed_x: torch.Tensor,\n",
        "        mu: torch.Tensor,\n",
        "        log_sigma: torch.Tensor,\n",
        "    ) -> torch.Tensor:\n",
        "        KL = torch.mean(\n",
        "            -0.5 * torch.sum(1 + log_sigma - mu**2 - log_sigma.exp(), dim=1), dim=0\n",
        "        )\n",
        "        reconstruction_loss = self.criterion(x, reconstructed_x)\n",
        "\n",
        "        return KL * self.KL_weight + reconstruction_loss\n",
        "\n",
        "    def compute_loss(\n",
        "        self, x: torch.Tensor, return_reconstruction: bool = False\n",
        "    ) -> Union[tuple[torch.Tensor, torch.Tensor], torch.Tensor]:\n",
        "        mu, log_sigma = self.encode(x)\n",
        "        z = self.sample_z(mu, log_sigma)\n",
        "        reconstructed_x = self.decode(z)\n",
        "\n",
        "        loss = self.custom_loss(x, reconstructed_x, mu, log_sigma)\n",
        "\n",
        "        if return_reconstruction:\n",
        "            return loss, reconstructed_x\n",
        "        else:\n",
        "            return loss"
      ]
    },
    {
      "cell_type": "markdown",
      "source": [
        "Загрузим данные"
      ],
      "metadata": {
        "id": "Y93gPELT8iD8"
      }
    },
    {
      "cell_type": "code",
      "source": [
        "transform = transforms.Compose([transforms.ToTensor()])\n",
        "\n",
        "train_dataset = torchvision.datasets.MNIST(\n",
        "    root=\"./mnist\", train=True, download=True, transform=transform\n",
        ")\n",
        "test_dataset = torchvision.datasets.MNIST(\n",
        "    root=\"./mnist\", train=False, download=True, transform=transform\n",
        ")\n",
        "\n",
        "train_dataloader = torch.utils.data.DataLoader(\n",
        "    train_dataset, batch_size=256, shuffle=True, num_workers=1\n",
        ")\n",
        "test_dataloader = torch.utils.data.DataLoader(\n",
        "    test_dataset, batch_size=256, shuffle=False, num_workers=1\n",
        ")"
      ],
      "metadata": {
        "id": "5-cd_KgL8jKl",
        "colab": {
          "base_uri": "https://localhost:8080/"
        },
        "outputId": "ce8b53f3-3e02-4231-8803-329e763ed167"
      },
      "execution_count": null,
      "outputs": [
        {
          "output_type": "stream",
          "name": "stderr",
          "text": [
            "100%|██████████| 9.91M/9.91M [00:00<00:00, 11.5MB/s]\n",
            "100%|██████████| 28.9k/28.9k [00:00<00:00, 338kB/s]\n",
            "100%|██████████| 1.65M/1.65M [00:00<00:00, 3.17MB/s]\n",
            "100%|██████████| 4.54k/4.54k [00:00<00:00, 6.31MB/s]\n"
          ]
        }
      ]
    },
    {
      "cell_type": "code",
      "source": [
        "def train_epoch(\n",
        "    model: nn.Module,\n",
        "    train_dataloader: torch.utils.data.DataLoader,\n",
        "    optimizer: torch.optim.Optimizer,\n",
        "    verbose_num_iters: int = 32,\n",
        "    device: torch.device = \"cuda\",\n",
        ") -> list[float]:\n",
        "    model.to(device)\n",
        "    model.train()\n",
        "    epoch_loss_trace = []\n",
        "\n",
        "    display()\n",
        "    out = Output()\n",
        "    display(out)\n",
        "\n",
        "    for i, batch in enumerate(train_dataloader):\n",
        "        x, y = batch\n",
        "        x = x.to(device)\n",
        "\n",
        "        loss, reconstructed_x = model.compute_loss(x, return_reconstruction=True)\n",
        "\n",
        "        loss.backward()\n",
        "        optimizer.step()\n",
        "        optimizer.zero_grad()\n",
        "        epoch_loss_trace.append(loss.item())\n",
        "\n",
        "        if (i + 1) % verbose_num_iters == 0:\n",
        "            with out:\n",
        "                clear_output(wait=True)\n",
        "\n",
        "                plt.figure(figsize=(10, 5))\n",
        "                plt.subplot(1, 2, 1)\n",
        "                plt.title(\"Current epoch loss\", fontsize=22)\n",
        "                plt.xlabel(\"Iteration\", fontsize=16)\n",
        "                plt.ylabel(\"Reconstruction loss\", fontsize=16)\n",
        "                plt.grid()\n",
        "                plt.plot(epoch_loss_trace)\n",
        "\n",
        "                for j in range(3):\n",
        "                    plt.subplot(2, 6, 4 + j)\n",
        "                    plt.axis(\"off\")\n",
        "                    plt.imshow(x[j, 0].cpu().detach().numpy(), cmap=\"gray\")\n",
        "\n",
        "                    plt.subplot(2, 6, 10 + j)\n",
        "                    plt.axis(\"off\")\n",
        "                    plt.imshow(\n",
        "                        reconstructed_x[j, 0].cpu().detach().numpy(), cmap=\"gray\"\n",
        "                    )\n",
        "\n",
        "                plt.show()\n",
        "\n",
        "    out.clear_output()\n",
        "\n",
        "    return epoch_loss_trace\n",
        "\n",
        "\n",
        "def train_model(\n",
        "    model: nn.Module,\n",
        "    train_dataloader: torch.utils.data.DataLoader,\n",
        "    optimizer: torch.optim.Optimizer,\n",
        "    num_epochs: int = 5,\n",
        "    verbose_num_iters: int = 32,\n",
        "    device: torch.device = \"cuda\",\n",
        ") -> None:\n",
        "    loss_trace = []\n",
        "    for epoch in trange(num_epochs, desc=\"Epoch: \", leave=True):\n",
        "        epoch_loss_trace = train_epoch(\n",
        "            model=model,\n",
        "            train_dataloader=train_dataloader,\n",
        "            optimizer=optimizer,\n",
        "            verbose_num_iters=verbose_num_iters,\n",
        "            device=device,\n",
        "        )\n",
        "\n",
        "        loss_trace += epoch_loss_trace\n",
        "\n",
        "    plt.figure(figsize=(10, 5))\n",
        "    plt.title(\"Total training loss\", fontsize=22)\n",
        "    plt.xlabel(\"Iteration\", fontsize=16)\n",
        "    plt.ylabel(\"Reconstruction loss\", fontsize=16)\n",
        "    plt.grid()\n",
        "    plt.plot(loss_trace)\n",
        "    plt.show()\n",
        "\n",
        "    model.eval()"
      ],
      "metadata": {
        "id": "p5MvuES-9Lzx"
      },
      "execution_count": null,
      "outputs": []
    },
    {
      "cell_type": "code",
      "execution_count": null,
      "metadata": {
        "colab": {
          "referenced_widgets": [
            "9202a55b273c40f79342779dffcfa383",
            "d7c3f857b0924b3b9a3bc120358a2713",
            "4e6c69a3ddfa4da39bdd0a981c7df4a4",
            "851ecc5554244a309d3e18f30935e94d",
            "0bafcc9165184b9a94eb0ff21d203417",
            "14a3d57a16344d67992048a1c301e940",
            "cdbf190862574c29b480606a31df3e35",
            "54cbaf27709548dd84e045237d084c03",
            "a68cdb42f4914d1aafce80cb78173a0e",
            "53eb01c811e34056ab30861d6ee483b0",
            "612bbf9349cf4748b5e8b721828fe1a8",
            "fdcd229980b74860968f730c9e13c34e",
            "6899e6ba02e046e2803a4c0977ca6cbe",
            "f97bd491d6714cff9899ac9d7aeaa10a",
            "ab137bdb26f74acb90647683c027122b",
            "8f8c5286586546cba223930494e7fd6b",
            "d5f177a2f2664967aadddc8845535d29",
            "f980fbf52bc84b6ea487677d980bf18b",
            "e1d8d27e692749c5b7a7e0587c605b4c",
            "3fdfe6a8c1444804999ff3b60906cc9e",
            "1aa9b46eed2e443a9a632c7e0d3ddde8",
            "6a5d76ea1bba4ddea444de1dcb6ed26f",
            "79f5479fff5644deb022052cf52e3c58",
            "bbd472c3072247a9b16735dc7c3568e6",
            "0115ee187fc54c28969b193eee5d65ae",
            "889bb7cacb974aebb7170e70862903dc",
            "0a1c929e5fe8405fb64404d8819741a9",
            "9d19b02efe58430c910eabd311d8b2e8",
            "08f244128e47405f87efa14c2e3c431c",
            "f8e6b858f1184c928e478a1b86944826",
            "ca18c25e55e04346aa9e513b0abe4ebd"
          ],
          "base_uri": "https://localhost:8080/",
          "height": 536
        },
        "id": "aj-QzZitFFrF",
        "outputId": "c5d9eebf-4390-445e-c73e-8abf69007c83"
      },
      "outputs": [
        {
          "output_type": "display_data",
          "data": {
            "text/plain": [
              "Epoch:   0%|          | 0/10 [00:00<?, ?it/s]"
            ],
            "application/vnd.jupyter.widget-view+json": {
              "version_major": 2,
              "version_minor": 0,
              "model_id": "9202a55b273c40f79342779dffcfa383"
            }
          },
          "metadata": {}
        },
        {
          "output_type": "display_data",
          "data": {
            "text/plain": [
              "Output()"
            ],
            "application/vnd.jupyter.widget-view+json": {
              "version_major": 2,
              "version_minor": 0,
              "model_id": "fdcd229980b74860968f730c9e13c34e"
            }
          },
          "metadata": {}
        },
        {
          "output_type": "display_data",
          "data": {
            "text/plain": [
              "Output()"
            ],
            "application/vnd.jupyter.widget-view+json": {
              "version_major": 2,
              "version_minor": 0,
              "model_id": "f97bd491d6714cff9899ac9d7aeaa10a"
            }
          },
          "metadata": {}
        },
        {
          "output_type": "display_data",
          "data": {
            "text/plain": [
              "Output()"
            ],
            "application/vnd.jupyter.widget-view+json": {
              "version_major": 2,
              "version_minor": 0,
              "model_id": "8f8c5286586546cba223930494e7fd6b"
            }
          },
          "metadata": {}
        },
        {
          "output_type": "display_data",
          "data": {
            "text/plain": [
              "Output()"
            ],
            "application/vnd.jupyter.widget-view+json": {
              "version_major": 2,
              "version_minor": 0,
              "model_id": "f980fbf52bc84b6ea487677d980bf18b"
            }
          },
          "metadata": {}
        },
        {
          "output_type": "display_data",
          "data": {
            "text/plain": [
              "Output()"
            ],
            "application/vnd.jupyter.widget-view+json": {
              "version_major": 2,
              "version_minor": 0,
              "model_id": "3fdfe6a8c1444804999ff3b60906cc9e"
            }
          },
          "metadata": {}
        },
        {
          "output_type": "display_data",
          "data": {
            "text/plain": [
              "Output()"
            ],
            "application/vnd.jupyter.widget-view+json": {
              "version_major": 2,
              "version_minor": 0,
              "model_id": "6a5d76ea1bba4ddea444de1dcb6ed26f"
            }
          },
          "metadata": {}
        },
        {
          "output_type": "display_data",
          "data": {
            "text/plain": [
              "Output()"
            ],
            "application/vnd.jupyter.widget-view+json": {
              "version_major": 2,
              "version_minor": 0,
              "model_id": "bbd472c3072247a9b16735dc7c3568e6"
            }
          },
          "metadata": {}
        },
        {
          "output_type": "display_data",
          "data": {
            "text/plain": [
              "Output()"
            ],
            "application/vnd.jupyter.widget-view+json": {
              "version_major": 2,
              "version_minor": 0,
              "model_id": "889bb7cacb974aebb7170e70862903dc"
            }
          },
          "metadata": {}
        },
        {
          "output_type": "display_data",
          "data": {
            "text/plain": [
              "Output()"
            ],
            "application/vnd.jupyter.widget-view+json": {
              "version_major": 2,
              "version_minor": 0,
              "model_id": "9d19b02efe58430c910eabd311d8b2e8"
            }
          },
          "metadata": {}
        },
        {
          "output_type": "display_data",
          "data": {
            "text/plain": [
              "Output()"
            ],
            "application/vnd.jupyter.widget-view+json": {
              "version_major": 2,
              "version_minor": 0,
              "model_id": "f8e6b858f1184c928e478a1b86944826"
            }
          },
          "metadata": {}
        },
        {
          "output_type": "display_data",
          "data": {
            "text/plain": [
              "<Figure size 1000x500 with 1 Axes>"
            ],
            "image/png": "[encoded data removed]"
          },
          "metadata": {}
        }
      ],
      "source": [
        "hidden_dim = 2\n",
        "model_vae = VariationalAutoEncoder(hidden_dim, 0.002)\n",
        "optimizer = optim.Adam(model_vae.parameters(), lr=1e-3)\n",
        "\n",
        "train_model(model_vae, train_dataloader, optimizer, 10)"
      ]
    },
    {
      "cell_type": "markdown",
      "metadata": {
        "id": "OLODtDjMFFrF"
      },
      "source": [
        "### Интерполяция латентных кодов"
      ]
    },
    {
      "cell_type": "code",
      "execution_count": null,
      "metadata": {
        "id": "fKc9Z5hKFFrF",
        "outputId": "e79f1208-6fdf-47cd-ed71-fe51751ecc1b",
        "colab": {
          "base_uri": "https://localhost:8080/",
          "height": 202
        }
      },
      "outputs": [
        {
          "output_type": "display_data",
          "data": {
            "text/plain": [
              "<Figure size 400x200 with 2 Axes>"
            ],
            "image/png": "[encoded data removed]"
          },
          "metadata": {}
        }
      ],
      "source": [
        "x, _ = next(iter(train_dataloader))\n",
        "\n",
        "x1 = x[0].to(device)\n",
        "x2 = x[1].to(device)\n",
        "fig, axs = plt.subplots(1, 2, figsize=(4, 2))\n",
        "\n",
        "axs[0].axis(\"off\")\n",
        "axs[0].set_title(\"x1\")\n",
        "axs[0].imshow(x1[0].cpu().detach().numpy(), cmap=\"gray\")\n",
        "axs[1].axis(\"off\")\n",
        "axs[1].set_title(\"x2\")\n",
        "axs[1].imshow(x2[0].cpu().detach().numpy(), cmap=\"gray\");"
      ]
    },
    {
      "cell_type": "code",
      "execution_count": null,
      "metadata": {
        "id": "YgItHjzwFFrF"
      },
      "outputs": [],
      "source": [
        "# латентные коды объектов\n",
        "z_1_mu, z_1_logs = model_vae.encode(x1[None, :, :, :])\n",
        "z_2_mu, z_2_logs = model_vae.encode(x2[None, :, :, :])\n",
        "z_1 = model_vae.sample_z(z_1_mu, z_1_logs)\n",
        "z_2 = model_vae.sample_z(z_2_mu, z_2_logs)\n",
        "\n",
        "# батч с интерполяцией этих латентных кодов по прямой в 11 точках\n",
        "linspace = torch.linspace(0, 1, 11)[:, None].to(device)\n",
        "z_linspace = z_2 * linspace + z_1 * (1 - linspace)\n",
        "\n",
        "# восстановленные из латентных кодов изображения\n",
        "x_linspace = model_vae.decode(z_linspace)"
      ]
    },
    {
      "cell_type": "code",
      "execution_count": null,
      "metadata": {
        "scrolled": false,
        "id": "Kxozg7KlFFrG",
        "outputId": "9ce913a2-aff0-4d10-92f6-10bcd4216f6c",
        "colab": {
          "base_uri": "https://localhost:8080/",
          "height": 180
        }
      },
      "outputs": [
        {
          "output_type": "display_data",
          "data": {
            "text/plain": [
              "<Figure size 2000x2000 with 11 Axes>"
            ],
            "image/png": "[encoded data removed]"
          },
          "metadata": {}
        }
      ],
      "source": [
        "# рисуем проинтерполированные объекты\n",
        "fig, axs = plt.subplots(1, 11, figsize=(20, 20))\n",
        "\n",
        "for i, d in enumerate(np.linspace(0, 1, 11)):\n",
        "    axs[i].axis(\"off\")\n",
        "    axs[i].set_title(f\"{d:.2}\")\n",
        "    axs[i].imshow(x_linspace[i, 0].cpu().detach().numpy(), cmap=\"gray\")"
      ]
    },
    {
      "cell_type": "code",
      "source": [],
      "metadata": {
        "id": "p0DFSxhrvSFs"
      },
      "execution_count": null,
      "outputs": []
    }
  ],
  "metadata": {
    "kernelspec": {
      "display_name": "Python 3",
      "name": "python3"
    },
    "language_info": {
      "codemirror_mode": {
        "name": "ipython",
        "version": 3
      },
      "file_extension": ".py",
      "mimetype": "text/x-python",
      "name": "python",
      "nbconvert_exporter": "python",
      "pygments_lexer": "ipython3",
      "version": "3.9.7"
    },
    "colab": {
      "provenance": [],
      "gpuType": "T4"
    },
    "widgets": {
      "application/vnd.jupyter.widget-state+json": {
        "9202a55b273c40f79342779dffcfa383": {
          "model_module": "@jupyter-widgets/controls",
          "model_name": "HBoxModel",
          "model_module_version": "1.5.0",
          "state": {
            "_dom_classes": [],
            "_model_module": "@jupyter-widgets/controls",
            "_model_module_version": "1.5.0",
            "_model_name": "HBoxModel",
            "_view_count": null,
            "_view_module": "@jupyter-widgets/controls",
            "_view_module_version": "1.5.0",
            "_view_name": "HBoxView",
            "box_style": "",
            "children": [
              "IPY_MODEL_d7c3f857b0924b3b9a3bc120358a2713",
              "IPY_MODEL_4e6c69a3ddfa4da39bdd0a981c7df4a4",
              "IPY_MODEL_851ecc5554244a309d3e18f30935e94d"
            ],
            "layout": "IPY_MODEL_0bafcc9165184b9a94eb0ff21d203417"
          }
        },
        "d7c3f857b0924b3b9a3bc120358a2713": {
          "model_module": "@jupyter-widgets/controls",
          "model_name": "HTMLModel",
          "model_module_version": "1.5.0",
          "state": {
            "_dom_classes": [],
            "_model_module": "@jupyter-widgets/controls",
            "_model_module_version": "1.5.0",
            "_model_name": "HTMLModel",
            "_view_count": null,
            "_view_module": "@jupyter-widgets/controls",
            "_view_module_version": "1.5.0",
            "_view_name": "HTMLView",
            "description": "",
            "description_tooltip": null,
            "layout": "IPY_MODEL_14a3d57a16344d67992048a1c301e940",
            "placeholder": "​",
            "style": "IPY_MODEL_cdbf190862574c29b480606a31df3e35",
            "value": "Epoch: 100%"
          }
        },
        "4e6c69a3ddfa4da39bdd0a981c7df4a4": {
          "model_module": "@jupyter-widgets/controls",
          "model_name": "FloatProgressModel",
          "model_module_version": "1.5.0",
          "state": {
            "_dom_classes": [],
            "_model_module": "@jupyter-widgets/controls",
            "_model_module_version": "1.5.0",
            "_model_name": "FloatProgressModel",
            "_view_count": null,
            "_view_module": "@jupyter-widgets/controls",
            "_view_module_version": "1.5.0",
            "_view_name": "ProgressView",
            "bar_style": "success",
            "description": "",
            "description_tooltip": null,
            "layout": "IPY_MODEL_54cbaf27709548dd84e045237d084c03",
            "max": 10,
            "min": 0,
            "orientation": "horizontal",
            "style": "IPY_MODEL_a68cdb42f4914d1aafce80cb78173a0e",
            "value": 10
          }
        },
        "851ecc5554244a309d3e18f30935e94d": {
          "model_module": "@jupyter-widgets/controls",
          "model_name": "HTMLModel",
          "model_module_version": "1.5.0",
          "state": {
            "_dom_classes": [],
            "_model_module": "@jupyter-widgets/controls",
            "_model_module_version": "1.5.0",
            "_model_name": "HTMLModel",
            "_view_count": null,
            "_view_module": "@jupyter-widgets/controls",
            "_view_module_version": "1.5.0",
            "_view_name": "HTMLView",
            "description": "",
            "description_tooltip": null,
            "layout": "IPY_MODEL_53eb01c811e34056ab30861d6ee483b0",
            "placeholder": "​",
            "style": "IPY_MODEL_612bbf9349cf4748b5e8b721828fe1a8",
            "value": " 10/10 [01:30&lt;00:00,  9.05s/it]"
          }
        },
        "0bafcc9165184b9a94eb0ff21d203417": {
          "model_module": "@jupyter-widgets/base",
          "model_name": "LayoutModel",
          "model_module_version": "1.2.0",
          "state": {
            "_model_module": "@jupyter-widgets/base",
            "_model_module_version": "1.2.0",
            "_model_name": "LayoutModel",
            "_view_count": null,
            "_view_module": "@jupyter-widgets/base",
            "_view_module_version": "1.2.0",
            "_view_name": "LayoutView",
            "align_content": null,
            "align_items": null,
            "align_self": null,
            "border": null,
            "bottom": null,
            "display": null,
            "flex": null,
            "flex_flow": null,
            "grid_area": null,
            "grid_auto_columns": null,
            "grid_auto_flow": null,
            "grid_auto_rows": null,
            "grid_column": null,
            "grid_gap": null,
            "grid_row": null,
            "grid_template_areas": null,
            "grid_template_columns": null,
            "grid_template_rows": null,
            "height": null,
            "justify_content": null,
            "justify_items": null,
            "left": null,
            "margin": null,
            "max_height": null,
            "max_width": null,
            "min_height": null,
            "min_width": null,
            "object_fit": null,
            "object_position": null,
            "order": null,
            "overflow": null,
            "overflow_x": null,
            "overflow_y": null,
            "padding": null,
            "right": null,
            "top": null,
            "visibility": null,
            "width": null
          }
        },
        "14a3d57a16344d67992048a1c301e940": {
          "model_module": "@jupyter-widgets/base",
          "model_name": "LayoutModel",
          "model_module_version": "1.2.0",
          "state": {
            "_model_module": "@jupyter-widgets/base",
            "_model_module_version": "1.2.0",
            "_model_name": "LayoutModel",
            "_view_count": null,
            "_view_module": "@jupyter-widgets/base",
            "_view_module_version": "1.2.0",
            "_view_name": "LayoutView",
            "align_content": null,
            "align_items": null,
            "align_self": null,
            "border": null,
            "bottom": null,
            "display": null,
            "flex": null,
            "flex_flow": null,
            "grid_area": null,
            "grid_auto_columns": null,
            "grid_auto_flow": null,
            "grid_auto_rows": null,
            "grid_column": null,
            "grid_gap": null,
            "grid_row": null,
            "grid_template_areas": null,
            "grid_template_columns": null,
            "grid_template_rows": null,
            "height": null,
            "justify_content": null,
            "justify_items": null,
            "left": null,
            "margin": null,
            "max_height": null,
            "max_width": null,
            "min_height": null,
            "min_width": null,
            "object_fit": null,
            "object_position": null,
            "order": null,
            "overflow": null,
            "overflow_x": null,
            "overflow_y": null,
            "padding": null,
            "right": null,
            "top": null,
            "visibility": null,
            "width": null
          }
        },
        "cdbf190862574c29b480606a31df3e35": {
          "model_module": "@jupyter-widgets/controls",
          "model_name": "DescriptionStyleModel",
          "model_module_version": "1.5.0",
          "state": {
            "_model_module": "@jupyter-widgets/controls",
            "_model_module_version": "1.5.0",
            "_model_name": "DescriptionStyleModel",
            "_view_count": null,
            "_view_module": "@jupyter-widgets/base",
            "_view_module_version": "1.2.0",
            "_view_name": "StyleView",
            "description_width": ""
          }
        },
        "54cbaf27709548dd84e045237d084c03": {
          "model_module": "@jupyter-widgets/base",
          "model_name": "LayoutModel",
          "model_module_version": "1.2.0",
          "state": {
            "_model_module": "@jupyter-widgets/base",
            "_model_module_version": "1.2.0",
            "_model_name": "LayoutModel",
            "_view_count": null,
            "_view_module": "@jupyter-widgets/base",
            "_view_module_version": "1.2.0",
            "_view_name": "LayoutView",
            "align_content": null,
            "align_items": null,
            "align_self": null,
            "border": null,
            "bottom": null,
            "display": null,
            "flex": null,
            "flex_flow": null,
            "grid_area": null,
            "grid_auto_columns": null,
            "grid_auto_flow": null,
            "grid_auto_rows": null,
            "grid_column": null,
            "grid_gap": null,
            "grid_row": null,
            "grid_template_areas": null,
            "grid_template_columns": null,
            "grid_template_rows": null,
            "height": null,
            "justify_content": null,
            "justify_items": null,
            "left": null,
            "margin": null,
            "max_height": null,
            "max_width": null,
            "min_height": null,
            "min_width": null,
            "object_fit": null,
            "object_position": null,
            "order": null,
            "overflow": null,
            "overflow_x": null,
            "overflow_y": null,
            "padding": null,
            "right": null,
            "top": null,
            "visibility": null,
            "width": null
          }
        },
        "a68cdb42f4914d1aafce80cb78173a0e": {
          "model_module": "@jupyter-widgets/controls",
          "model_name": "ProgressStyleModel",
          "model_module_version": "1.5.0",
          "state": {
            "_model_module": "@jupyter-widgets/controls",
            "_model_module_version": "1.5.0",
            "_model_name": "ProgressStyleModel",
            "_view_count": null,
            "_view_module": "@jupyter-widgets/base",
            "_view_module_version": "1.2.0",
            "_view_name": "StyleView",
            "bar_color": null,
            "description_width": ""
          }
        },
        "53eb01c811e34056ab30861d6ee483b0": {
          "model_module": "@jupyter-widgets/base",
          "model_name": "LayoutModel",
          "model_module_version": "1.2.0",
          "state": {
            "_model_module": "@jupyter-widgets/base",
            "_model_module_version": "1.2.0",
            "_model_name": "LayoutModel",
            "_view_count": null,
            "_view_module": "@jupyter-widgets/base",
            "_view_module_version": "1.2.0",
            "_view_name": "LayoutView",
            "align_content": null,
            "align_items": null,
            "align_self": null,
            "border": null,
            "bottom": null,
            "display": null,
            "flex": null,
            "flex_flow": null,
            "grid_area": null,
            "grid_auto_columns": null,
            "grid_auto_flow": null,
            "grid_auto_rows": null,
            "grid_column": null,
            "grid_gap": null,
            "grid_row": null,
            "grid_template_areas": null,
            "grid_template_columns": null,
            "grid_template_rows": null,
            "height": null,
            "justify_content": null,
            "justify_items": null,
            "left": null,
            "margin": null,
            "max_height": null,
            "max_width": null,
            "min_height": null,
            "min_width": null,
            "object_fit": null,
            "object_position": null,
            "order": null,
            "overflow": null,
            "overflow_x": null,
            "overflow_y": null,
            "padding": null,
            "right": null,
            "top": null,
            "visibility": null,
            "width": null
          }
        },
        "612bbf9349cf4748b5e8b721828fe1a8": {
          "model_module": "@jupyter-widgets/controls",
          "model_name": "DescriptionStyleModel",
          "model_module_version": "1.5.0",
          "state": {
            "_model_module": "@jupyter-widgets/controls",
            "_model_module_version": "1.5.0",
            "_model_name": "DescriptionStyleModel",
            "_view_count": null,
            "_view_module": "@jupyter-widgets/base",
            "_view_module_version": "1.2.0",
            "_view_name": "StyleView",
            "description_width": ""
          }
        },
        "fdcd229980b74860968f730c9e13c34e": {
          "model_module": "@jupyter-widgets/output",
          "model_name": "OutputModel",
          "model_module_version": "1.0.0",
          "state": {
            "_dom_classes": [],
            "_model_module": "@jupyter-widgets/output",
            "_model_module_version": "1.0.0",
            "_model_name": "OutputModel",
            "_view_count": null,
            "_view_module": "@jupyter-widgets/output",
            "_view_module_version": "1.0.0",
            "_view_name": "OutputView",
            "layout": "IPY_MODEL_6899e6ba02e046e2803a4c0977ca6cbe",
            "msg_id": "",
            "outputs": []
          }
        },
        "6899e6ba02e046e2803a4c0977ca6cbe": {
          "model_module": "@jupyter-widgets/base",
          "model_name": "LayoutModel",
          "model_module_version": "1.2.0",
          "state": {
            "_model_module": "@jupyter-widgets/base",
            "_model_module_version": "1.2.0",
            "_model_name": "LayoutModel",
            "_view_count": null,
            "_view_module": "@jupyter-widgets/base",
            "_view_module_version": "1.2.0",
            "_view_name": "LayoutView",
            "align_content": null,
            "align_items": null,
            "align_self": null,
            "border": null,
            "bottom": null,
            "display": null,
            "flex": null,
            "flex_flow": null,
            "grid_area": null,
            "grid_auto_columns": null,
            "grid_auto_flow": null,
            "grid_auto_rows": null,
            "grid_column": null,
            "grid_gap": null,
            "grid_row": null,
            "grid_template_areas": null,
            "grid_template_columns": null,
            "grid_template_rows": null,
            "height": null,
            "justify_content": null,
            "justify_items": null,
            "left": null,
            "margin": null,
            "max_height": null,
            "max_width": null,
            "min_height": null,
            "min_width": null,
            "object_fit": null,
            "object_position": null,
            "order": null,
            "overflow": null,
            "overflow_x": null,
            "overflow_y": null,
            "padding": null,
            "right": null,
            "top": null,
            "visibility": null,
            "width": null
          }
        },
        "f97bd491d6714cff9899ac9d7aeaa10a": {
          "model_module": "@jupyter-widgets/output",
          "model_name": "OutputModel",
          "model_module_version": "1.0.0",
          "state": {
            "_dom_classes": [],
            "_model_module": "@jupyter-widgets/output",
            "_model_module_version": "1.0.0",
            "_model_name": "OutputModel",
            "_view_count": null,
            "_view_module": "@jupyter-widgets/output",
            "_view_module_version": "1.0.0",
            "_view_name": "OutputView",
            "layout": "IPY_MODEL_ab137bdb26f74acb90647683c027122b",
            "msg_id": "",
            "outputs": []
          }
        },
        "ab137bdb26f74acb90647683c027122b": {
          "model_module": "@jupyter-widgets/base",
          "model_name": "LayoutModel",
          "model_module_version": "1.2.0",
          "state": {
            "_model_module": "@jupyter-widgets/base",
            "_model_module_version": "1.2.0",
            "_model_name": "LayoutModel",
            "_view_count": null,
            "_view_module": "@jupyter-widgets/base",
            "_view_module_version": "1.2.0",
            "_view_name": "LayoutView",
            "align_content": null,
            "align_items": null,
            "align_self": null,
            "border": null,
            "bottom": null,
            "display": null,
            "flex": null,
            "flex_flow": null,
            "grid_area": null,
            "grid_auto_columns": null,
            "grid_auto_flow": null,
            "grid_auto_rows": null,
            "grid_column": null,
            "grid_gap": null,
            "grid_row": null,
            "grid_template_areas": null,
            "grid_template_columns": null,
            "grid_template_rows": null,
            "height": null,
            "justify_content": null,
            "justify_items": null,
            "left": null,
            "margin": null,
            "max_height": null,
            "max_width": null,
            "min_height": null,
            "min_width": null,
            "object_fit": null,
            "object_position": null,
            "order": null,
            "overflow": null,
            "overflow_x": null,
            "overflow_y": null,
            "padding": null,
            "right": null,
            "top": null,
            "visibility": null,
            "width": null
          }
        },
        "8f8c5286586546cba223930494e7fd6b": {
          "model_module": "@jupyter-widgets/output",
          "model_name": "OutputModel",
          "model_module_version": "1.0.0",
          "state": {
            "_dom_classes": [],
            "_model_module": "@jupyter-widgets/output",
            "_model_module_version": "1.0.0",
            "_model_name": "OutputModel",
            "_view_count": null,
            "_view_module": "@jupyter-widgets/output",
            "_view_module_version": "1.0.0",
            "_view_name": "OutputView",
            "layout": "IPY_MODEL_d5f177a2f2664967aadddc8845535d29",
            "msg_id": "",
            "outputs": []
          }
        },
        "d5f177a2f2664967aadddc8845535d29": {
          "model_module": "@jupyter-widgets/base",
          "model_name": "LayoutModel",
          "model_module_version": "1.2.0",
          "state": {
            "_model_module": "@jupyter-widgets/base",
            "_model_module_version": "1.2.0",
            "_model_name": "LayoutModel",
            "_view_count": null,
            "_view_module": "@jupyter-widgets/base",
            "_view_module_version": "1.2.0",
            "_view_name": "LayoutView",
            "align_content": null,
            "align_items": null,
            "align_self": null,
            "border": null,
            "bottom": null,
            "display": null,
            "flex": null,
            "flex_flow": null,
            "grid_area": null,
            "grid_auto_columns": null,
            "grid_auto_flow": null,
            "grid_auto_rows": null,
            "grid_column": null,
            "grid_gap": null,
            "grid_row": null,
            "grid_template_areas": null,
            "grid_template_columns": null,
            "grid_template_rows": null,
            "height": null,
            "justify_content": null,
            "justify_items": null,
            "left": null,
            "margin": null,
            "max_height": null,
            "max_width": null,
            "min_height": null,
            "min_width": null,
            "object_fit": null,
            "object_position": null,
            "order": null,
            "overflow": null,
            "overflow_x": null,
            "overflow_y": null,
            "padding": null,
            "right": null,
            "top": null,
            "visibility": null,
            "width": null
          }
        },
        "f980fbf52bc84b6ea487677d980bf18b": {
          "model_module": "@jupyter-widgets/output",
          "model_name": "OutputModel",
          "model_module_version": "1.0.0",
          "state": {
            "_dom_classes": [],
            "_model_module": "@jupyter-widgets/output",
            "_model_module_version": "1.0.0",
            "_model_name": "OutputModel",
            "_view_count": null,
            "_view_module": "@jupyter-widgets/output",
            "_view_module_version": "1.0.0",
            "_view_name": "OutputView",
            "layout": "IPY_MODEL_e1d8d27e692749c5b7a7e0587c605b4c",
            "msg_id": "",
            "outputs": []
          }
        },
        "e1d8d27e692749c5b7a7e0587c605b4c": {
          "model_module": "@jupyter-widgets/base",
          "model_name": "LayoutModel",
          "model_module_version": "1.2.0",
          "state": {
            "_model_module": "@jupyter-widgets/base",
            "_model_module_version": "1.2.0",
            "_model_name": "LayoutModel",
            "_view_count": null,
            "_view_module": "@jupyter-widgets/base",
            "_view_module_version": "1.2.0",
            "_view_name": "LayoutView",
            "align_content": null,
            "align_items": null,
            "align_self": null,
            "border": null,
            "bottom": null,
            "display": null,
            "flex": null,
            "flex_flow": null,
            "grid_area": null,
            "grid_auto_columns": null,
            "grid_auto_flow": null,
            "grid_auto_rows": null,
            "grid_column": null,
            "grid_gap": null,
            "grid_row": null,
            "grid_template_areas": null,
            "grid_template_columns": null,
            "grid_template_rows": null,
            "height": null,
            "justify_content": null,
            "justify_items": null,
            "left": null,
            "margin": null,
            "max_height": null,
            "max_width": null,
            "min_height": null,
            "min_width": null,
            "object_fit": null,
            "object_position": null,
            "order": null,
            "overflow": null,
            "overflow_x": null,
            "overflow_y": null,
            "padding": null,
            "right": null,
            "top": null,
            "visibility": null,
            "width": null
          }
        },
        "3fdfe6a8c1444804999ff3b60906cc9e": {
          "model_module": "@jupyter-widgets/output",
          "model_name": "OutputModel",
          "model_module_version": "1.0.0",
          "state": {
            "_dom_classes": [],
            "_model_module": "@jupyter-widgets/output",
            "_model_module_version": "1.0.0",
            "_model_name": "OutputModel",
            "_view_count": null,
            "_view_module": "@jupyter-widgets/output",
            "_view_module_version": "1.0.0",
            "_view_name": "OutputView",
            "layout": "IPY_MODEL_1aa9b46eed2e443a9a632c7e0d3ddde8",
            "msg_id": "",
            "outputs": []
          }
        },
        "1aa9b46eed2e443a9a632c7e0d3ddde8": {
          "model_module": "@jupyter-widgets/base",
          "model_name": "LayoutModel",
          "model_module_version": "1.2.0",
          "state": {
            "_model_module": "@jupyter-widgets/base",
            "_model_module_version": "1.2.0",
            "_model_name": "LayoutModel",
            "_view_count": null,
            "_view_module": "@jupyter-widgets/base",
            "_view_module_version": "1.2.0",
            "_view_name": "LayoutView",
            "align_content": null,
            "align_items": null,
            "align_self": null,
            "border": null,
            "bottom": null,
            "display": null,
            "flex": null,
            "flex_flow": null,
            "grid_area": null,
            "grid_auto_columns": null,
            "grid_auto_flow": null,
            "grid_auto_rows": null,
            "grid_column": null,
            "grid_gap": null,
            "grid_row": null,
            "grid_template_areas": null,
            "grid_template_columns": null,
            "grid_template_rows": null,
            "height": null,
            "justify_content": null,
            "justify_items": null,
            "left": null,
            "margin": null,
            "max_height": null,
            "max_width": null,
            "min_height": null,
            "min_width": null,
            "object_fit": null,
            "object_position": null,
            "order": null,
            "overflow": null,
            "overflow_x": null,
            "overflow_y": null,
            "padding": null,
            "right": null,
            "top": null,
            "visibility": null,
            "width": null
          }
        },
        "6a5d76ea1bba4ddea444de1dcb6ed26f": {
          "model_module": "@jupyter-widgets/output",
          "model_name": "OutputModel",
          "model_module_version": "1.0.0",
          "state": {
            "_dom_classes": [],
            "_model_module": "@jupyter-widgets/output",
            "_model_module_version": "1.0.0",
            "_model_name": "OutputModel",
            "_view_count": null,
            "_view_module": "@jupyter-widgets/output",
            "_view_module_version": "1.0.0",
            "_view_name": "OutputView",
            "layout": "IPY_MODEL_79f5479fff5644deb022052cf52e3c58",
            "msg_id": "",
            "outputs": []
          }
        },
        "79f5479fff5644deb022052cf52e3c58": {
          "model_module": "@jupyter-widgets/base",
          "model_name": "LayoutModel",
          "model_module_version": "1.2.0",
          "state": {
            "_model_module": "@jupyter-widgets/base",
            "_model_module_version": "1.2.0",
            "_model_name": "LayoutModel",
            "_view_count": null,
            "_view_module": "@jupyter-widgets/base",
            "_view_module_version": "1.2.0",
            "_view_name": "LayoutView",
            "align_content": null,
            "align_items": null,
            "align_self": null,
            "border": null,
            "bottom": null,
            "display": null,
            "flex": null,
            "flex_flow": null,
            "grid_area": null,
            "grid_auto_columns": null,
            "grid_auto_flow": null,
            "grid_auto_rows": null,
            "grid_column": null,
            "grid_gap": null,
            "grid_row": null,
            "grid_template_areas": null,
            "grid_template_columns": null,
            "grid_template_rows": null,
            "height": null,
            "justify_content": null,
            "justify_items": null,
            "left": null,
            "margin": null,
            "max_height": null,
            "max_width": null,
            "min_height": null,
            "min_width": null,
            "object_fit": null,
            "object_position": null,
            "order": null,
            "overflow": null,
            "overflow_x": null,
            "overflow_y": null,
            "padding": null,
            "right": null,
            "top": null,
            "visibility": null,
            "width": null
          }
        },
        "bbd472c3072247a9b16735dc7c3568e6": {
          "model_module": "@jupyter-widgets/output",
          "model_name": "OutputModel",
          "model_module_version": "1.0.0",
          "state": {
            "_dom_classes": [],
            "_model_module": "@jupyter-widgets/output",
            "_model_module_version": "1.0.0",
            "_model_name": "OutputModel",
            "_view_count": null,
            "_view_module": "@jupyter-widgets/output",
            "_view_module_version": "1.0.0",
            "_view_name": "OutputView",
            "layout": "IPY_MODEL_0115ee187fc54c28969b193eee5d65ae",
            "msg_id": "",
            "outputs": []
          }
        },
        "0115ee187fc54c28969b193eee5d65ae": {
          "model_module": "@jupyter-widgets/base",
          "model_name": "LayoutModel",
          "model_module_version": "1.2.0",
          "state": {
            "_model_module": "@jupyter-widgets/base",
            "_model_module_version": "1.2.0",
            "_model_name": "LayoutModel",
            "_view_count": null,
            "_view_module": "@jupyter-widgets/base",
            "_view_module_version": "1.2.0",
            "_view_name": "LayoutView",
            "align_content": null,
            "align_items": null,
            "align_self": null,
            "border": null,
            "bottom": null,
            "display": null,
            "flex": null,
            "flex_flow": null,
            "grid_area": null,
            "grid_auto_columns": null,
            "grid_auto_flow": null,
            "grid_auto_rows": null,
            "grid_column": null,
            "grid_gap": null,
            "grid_row": null,
            "grid_template_areas": null,
            "grid_template_columns": null,
            "grid_template_rows": null,
            "height": null,
            "justify_content": null,
            "justify_items": null,
            "left": null,
            "margin": null,
            "max_height": null,
            "max_width": null,
            "min_height": null,
            "min_width": null,
            "object_fit": null,
            "object_position": null,
            "order": null,
            "overflow": null,
            "overflow_x": null,
            "overflow_y": null,
            "padding": null,
            "right": null,
            "top": null,
            "visibility": null,
            "width": null
          }
        },
        "889bb7cacb974aebb7170e70862903dc": {
          "model_module": "@jupyter-widgets/output",
          "model_name": "OutputModel",
          "model_module_version": "1.0.0",
          "state": {
            "_dom_classes": [],
            "_model_module": "@jupyter-widgets/output",
            "_model_module_version": "1.0.0",
            "_model_name": "OutputModel",
            "_view_count": null,
            "_view_module": "@jupyter-widgets/output",
            "_view_module_version": "1.0.0",
            "_view_name": "OutputView",
            "layout": "IPY_MODEL_0a1c929e5fe8405fb64404d8819741a9",
            "msg_id": "",
            "outputs": []
          }
        },
        "0a1c929e5fe8405fb64404d8819741a9": {
          "model_module": "@jupyter-widgets/base",
          "model_name": "LayoutModel",
          "model_module_version": "1.2.0",
          "state": {
            "_model_module": "@jupyter-widgets/base",
            "_model_module_version": "1.2.0",
            "_model_name": "LayoutModel",
            "_view_count": null,
            "_view_module": "@jupyter-widgets/base",
            "_view_module_version": "1.2.0",
            "_view_name": "LayoutView",
            "align_content": null,
            "align_items": null,
            "align_self": null,
            "border": null,
            "bottom": null,
            "display": null,
            "flex": null,
            "flex_flow": null,
            "grid_area": null,
            "grid_auto_columns": null,
            "grid_auto_flow": null,
            "grid_auto_rows": null,
            "grid_column": null,
            "grid_gap": null,
            "grid_row": null,
            "grid_template_areas": null,
            "grid_template_columns": null,
            "grid_template_rows": null,
            "height": null,
            "justify_content": null,
            "justify_items": null,
            "left": null,
            "margin": null,
            "max_height": null,
            "max_width": null,
            "min_height": null,
            "min_width": null,
            "object_fit": null,
            "object_position": null,
            "order": null,
            "overflow": null,
            "overflow_x": null,
            "overflow_y": null,
            "padding": null,
            "right": null,
            "top": null,
            "visibility": null,
            "width": null
          }
        },
        "9d19b02efe58430c910eabd311d8b2e8": {
          "model_module": "@jupyter-widgets/output",
          "model_name": "OutputModel",
          "model_module_version": "1.0.0",
          "state": {
            "_dom_classes": [],
            "_model_module": "@jupyter-widgets/output",
            "_model_module_version": "1.0.0",
            "_model_name": "OutputModel",
            "_view_count": null,
            "_view_module": "@jupyter-widgets/output",
            "_view_module_version": "1.0.0",
            "_view_name": "OutputView",
            "layout": "IPY_MODEL_08f244128e47405f87efa14c2e3c431c",
            "msg_id": "",
            "outputs": []
          }
        },
        "08f244128e47405f87efa14c2e3c431c": {
          "model_module": "@jupyter-widgets/base",
          "model_name": "LayoutModel",
          "model_module_version": "1.2.0",
          "state": {
            "_model_module": "@jupyter-widgets/base",
            "_model_module_version": "1.2.0",
            "_model_name": "LayoutModel",
            "_view_count": null,
            "_view_module": "@jupyter-widgets/base",
            "_view_module_version": "1.2.0",
            "_view_name": "LayoutView",
            "align_content": null,
            "align_items": null,
            "align_self": null,
            "border": null,
            "bottom": null,
            "display": null,
            "flex": null,
            "flex_flow": null,
            "grid_area": null,
            "grid_auto_columns": null,
            "grid_auto_flow": null,
            "grid_auto_rows": null,
            "grid_column": null,
            "grid_gap": null,
            "grid_row": null,
            "grid_template_areas": null,
            "grid_template_columns": null,
            "grid_template_rows": null,
            "height": null,
            "justify_content": null,
            "justify_items": null,
            "left": null,
            "margin": null,
            "max_height": null,
            "max_width": null,
            "min_height": null,
            "min_width": null,
            "object_fit": null,
            "object_position": null,
            "order": null,
            "overflow": null,
            "overflow_x": null,
            "overflow_y": null,
            "padding": null,
            "right": null,
            "top": null,
            "visibility": null,
            "width": null
          }
        },
        "f8e6b858f1184c928e478a1b86944826": {
          "model_module": "@jupyter-widgets/output",
          "model_name": "OutputModel",
          "model_module_version": "1.0.0",
          "state": {
            "_dom_classes": [],
            "_model_module": "@jupyter-widgets/output",
            "_model_module_version": "1.0.0",
            "_model_name": "OutputModel",
            "_view_count": null,
            "_view_module": "@jupyter-widgets/output",
            "_view_module_version": "1.0.0",
            "_view_name": "OutputView",
            "layout": "IPY_MODEL_ca18c25e55e04346aa9e513b0abe4ebd",
            "msg_id": "",
            "outputs": []
          }
        },
        "ca18c25e55e04346aa9e513b0abe4ebd": {
          "model_module": "@jupyter-widgets/base",
          "model_name": "LayoutModel",
          "model_module_version": "1.2.0",
          "state": {
            "_model_module": "@jupyter-widgets/base",
            "_model_module_version": "1.2.0",
            "_model_name": "LayoutModel",
            "_view_count": null,
            "_view_module": "@jupyter-widgets/base",
            "_view_module_version": "1.2.0",
            "_view_name": "LayoutView",
            "align_content": null,
            "align_items": null,
            "align_self": null,
            "border": null,
            "bottom": null,
            "display": null,
            "flex": null,
            "flex_flow": null,
            "grid_area": null,
            "grid_auto_columns": null,
            "grid_auto_flow": null,
            "grid_auto_rows": null,
            "grid_column": null,
            "grid_gap": null,
            "grid_row": null,
            "grid_template_areas": null,
            "grid_template_columns": null,
            "grid_template_rows": null,
            "height": null,
            "justify_content": null,
            "justify_items": null,
            "left": null,
            "margin": null,
            "max_height": null,
            "max_width": null,
            "min_height": null,
            "min_width": null,
            "object_fit": null,
            "object_position": null,
            "order": null,
            "overflow": null,
            "overflow_x": null,
            "overflow_y": null,
            "padding": null,
            "right": null,
            "top": null,
            "visibility": null,
            "width": null
          }
        }
      }
    },
    "accelerator": "GPU"
  },
  "nbformat": 4,
  "nbformat_minor": 0
}