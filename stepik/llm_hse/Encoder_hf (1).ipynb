{
  "metadata": {
    "colab": {
      "provenance": [],
      "gpuType": "T4"
    },
    "kernelspec": {
      "name": "python3",
      "display_name": "Python 3",
      "language": "python"
    },
    "language_info": {
      "name": "python",
      "version": "3.10.13",
      "mimetype": "text/x-python",
      "codemirror_mode": {
        "name": "ipython",
        "version": 3
      },
      "pygments_lexer": "ipython3",
      "nbconvert_exporter": "python",
      "file_extension": ".py"
    },
    "accelerator": "GPU",
    "widgets": {
      "application/vnd.jupyter.widget-state+json": {
        "a388007776444989976bac1a80f6c25f": {
          "model_module": "@jupyter-widgets/controls",
          "model_name": "HBoxModel",
          "model_module_version": "1.5.0",
          "state": {
            "_dom_classes": [],
            "_model_module": "@jupyter-widgets/controls",
            "_model_module_version": "1.5.0",
            "_model_name": "HBoxModel",
            "_view_count": null,
            "_view_module": "@jupyter-widgets/controls",
            "_view_module_version": "1.5.0",
            "_view_name": "HBoxView",
            "box_style": "",
            "children": [
              "IPY_MODEL_fd3650f9b98d48f98a16ee1989aaa71e",
              "IPY_MODEL_3c81af2d500a4e718dc625975d482758",
              "IPY_MODEL_664e3818f9204901b0b3c269db7daa76"
            ],
            "layout": "IPY_MODEL_35a0f2c883f94c3f93108f9b470d9e8a"
          }
        },
        "fd3650f9b98d48f98a16ee1989aaa71e": {
          "model_module": "@jupyter-widgets/controls",
          "model_name": "HTMLModel",
          "model_module_version": "1.5.0",
          "state": {
            "_dom_classes": [],
            "_model_module": "@jupyter-widgets/controls",
            "_model_module_version": "1.5.0",
            "_model_name": "HTMLModel",
            "_view_count": null,
            "_view_module": "@jupyter-widgets/controls",
            "_view_module_version": "1.5.0",
            "_view_name": "HTMLView",
            "description": "",
            "description_tooltip": null,
            "layout": "IPY_MODEL_ee82ead5c21243a6859e454ad0591182",
            "placeholder": "​",
            "style": "IPY_MODEL_1e1227d2aeaa43eab2cdb47bde9b9078",
            "value": "Map: 100%"
          }
        },
        "3c81af2d500a4e718dc625975d482758": {
          "model_module": "@jupyter-widgets/controls",
          "model_name": "FloatProgressModel",
          "model_module_version": "1.5.0",
          "state": {
            "_dom_classes": [],
            "_model_module": "@jupyter-widgets/controls",
            "_model_module_version": "1.5.0",
            "_model_name": "FloatProgressModel",
            "_view_count": null,
            "_view_module": "@jupyter-widgets/controls",
            "_view_module_version": "1.5.0",
            "_view_name": "ProgressView",
            "bar_style": "success",
            "description": "",
            "description_tooltip": null,
            "layout": "IPY_MODEL_e78fea896d494967abc4e34ad5ee82ce",
            "max": 18112,
            "min": 0,
            "orientation": "horizontal",
            "style": "IPY_MODEL_7135de9e2f8345b7b7968fadeef8ca32",
            "value": 18112
          }
        },
        "664e3818f9204901b0b3c269db7daa76": {
          "model_module": "@jupyter-widgets/controls",
          "model_name": "HTMLModel",
          "model_module_version": "1.5.0",
          "state": {
            "_dom_classes": [],
            "_model_module": "@jupyter-widgets/controls",
            "_model_module_version": "1.5.0",
            "_model_name": "HTMLModel",
            "_view_count": null,
            "_view_module": "@jupyter-widgets/controls",
            "_view_module_version": "1.5.0",
            "_view_name": "HTMLView",
            "description": "",
            "description_tooltip": null,
            "layout": "IPY_MODEL_681ac1da115c45cd92a8bce0dd6ee72d",
            "placeholder": "​",
            "style": "IPY_MODEL_90ca08fc681d49c48d7c9a2f12a36fae",
            "value": " 18112/18112 [00:21&lt;00:00, 842.20 examples/s]"
          }
        },
        "35a0f2c883f94c3f93108f9b470d9e8a": {
          "model_module": "@jupyter-widgets/base",
          "model_name": "LayoutModel",
          "model_module_version": "1.2.0",
          "state": {
            "_model_module": "@jupyter-widgets/base",
            "_model_module_version": "1.2.0",
            "_model_name": "LayoutModel",
            "_view_count": null,
            "_view_module": "@jupyter-widgets/base",
            "_view_module_version": "1.2.0",
            "_view_name": "LayoutView",
            "align_content": null,
            "align_items": null,
            "align_self": null,
            "border": null,
            "bottom": null,
            "display": null,
            "flex": null,
            "flex_flow": null,
            "grid_area": null,
            "grid_auto_columns": null,
            "grid_auto_flow": null,
            "grid_auto_rows": null,
            "grid_column": null,
            "grid_gap": null,
            "grid_row": null,
            "grid_template_areas": null,
            "grid_template_columns": null,
            "grid_template_rows": null,
            "height": null,
            "justify_content": null,
            "justify_items": null,
            "left": null,
            "margin": null,
            "max_height": null,
            "max_width": null,
            "min_height": null,
            "min_width": null,
            "object_fit": null,
            "object_position": null,
            "order": null,
            "overflow": null,
            "overflow_x": null,
            "overflow_y": null,
            "padding": null,
            "right": null,
            "top": null,
            "visibility": null,
            "width": null
          }
        },
        "ee82ead5c21243a6859e454ad0591182": {
          "model_module": "@jupyter-widgets/base",
          "model_name": "LayoutModel",
          "model_module_version": "1.2.0",
          "state": {
            "_model_module": "@jupyter-widgets/base",
            "_model_module_version": "1.2.0",
            "_model_name": "LayoutModel",
            "_view_count": null,
            "_view_module": "@jupyter-widgets/base",
            "_view_module_version": "1.2.0",
            "_view_name": "LayoutView",
            "align_content": null,
            "align_items": null,
            "align_self": null,
            "border": null,
            "bottom": null,
            "display": null,
            "flex": null,
            "flex_flow": null,
            "grid_area": null,
            "grid_auto_columns": null,
            "grid_auto_flow": null,
            "grid_auto_rows": null,
            "grid_column": null,
            "grid_gap": null,
            "grid_row": null,
            "grid_template_areas": null,
            "grid_template_columns": null,
            "grid_template_rows": null,
            "height": null,
            "justify_content": null,
            "justify_items": null,
            "left": null,
            "margin": null,
            "max_height": null,
            "max_width": null,
            "min_height": null,
            "min_width": null,
            "object_fit": null,
            "object_position": null,
            "order": null,
            "overflow": null,
            "overflow_x": null,
            "overflow_y": null,
            "padding": null,
            "right": null,
            "top": null,
            "visibility": null,
            "width": null
          }
        },
        "1e1227d2aeaa43eab2cdb47bde9b9078": {
          "model_module": "@jupyter-widgets/controls",
          "model_name": "DescriptionStyleModel",
          "model_module_version": "1.5.0",
          "state": {
            "_model_module": "@jupyter-widgets/controls",
            "_model_module_version": "1.5.0",
            "_model_name": "DescriptionStyleModel",
            "_view_count": null,
            "_view_module": "@jupyter-widgets/base",
            "_view_module_version": "1.2.0",
            "_view_name": "StyleView",
            "description_width": ""
          }
        },
        "e78fea896d494967abc4e34ad5ee82ce": {
          "model_module": "@jupyter-widgets/base",
          "model_name": "LayoutModel",
          "model_module_version": "1.2.0",
          "state": {
            "_model_module": "@jupyter-widgets/base",
            "_model_module_version": "1.2.0",
            "_model_name": "LayoutModel",
            "_view_count": null,
            "_view_module": "@jupyter-widgets/base",
            "_view_module_version": "1.2.0",
            "_view_name": "LayoutView",
            "align_content": null,
            "align_items": null,
            "align_self": null,
            "border": null,
            "bottom": null,
            "display": null,
            "flex": null,
            "flex_flow": null,
            "grid_area": null,
            "grid_auto_columns": null,
            "grid_auto_flow": null,
            "grid_auto_rows": null,
            "grid_column": null,
            "grid_gap": null,
            "grid_row": null,
            "grid_template_areas": null,
            "grid_template_columns": null,
            "grid_template_rows": null,
            "height": null,
            "justify_content": null,
            "justify_items": null,
            "left": null,
            "margin": null,
            "max_height": null,
            "max_width": null,
            "min_height": null,
            "min_width": null,
            "object_fit": null,
            "object_position": null,
            "order": null,
            "overflow": null,
            "overflow_x": null,
            "overflow_y": null,
            "padding": null,
            "right": null,
            "top": null,
            "visibility": null,
            "width": null
          }
        },
        "7135de9e2f8345b7b7968fadeef8ca32": {
          "model_module": "@jupyter-widgets/controls",
          "model_name": "ProgressStyleModel",
          "model_module_version": "1.5.0",
          "state": {
            "_model_module": "@jupyter-widgets/controls",
            "_model_module_version": "1.5.0",
            "_model_name": "ProgressStyleModel",
            "_view_count": null,
            "_view_module": "@jupyter-widgets/base",
            "_view_module_version": "1.2.0",
            "_view_name": "StyleView",
            "bar_color": null,
            "description_width": ""
          }
        },
        "681ac1da115c45cd92a8bce0dd6ee72d": {
          "model_module": "@jupyter-widgets/base",
          "model_name": "LayoutModel",
          "model_module_version": "1.2.0",
          "state": {
            "_model_module": "@jupyter-widgets/base",
            "_model_module_version": "1.2.0",
            "_model_name": "LayoutModel",
            "_view_count": null,
            "_view_module": "@jupyter-widgets/base",
            "_view_module_version": "1.2.0",
            "_view_name": "LayoutView",
            "align_content": null,
            "align_items": null,
            "align_self": null,
            "border": null,
            "bottom": null,
            "display": null,
            "flex": null,
            "flex_flow": null,
            "grid_area": null,
            "grid_auto_columns": null,
            "grid_auto_flow": null,
            "grid_auto_rows": null,
            "grid_column": null,
            "grid_gap": null,
            "grid_row": null,
            "grid_template_areas": null,
            "grid_template_columns": null,
            "grid_template_rows": null,
            "height": null,
            "justify_content": null,
            "justify_items": null,
            "left": null,
            "margin": null,
            "max_height": null,
            "max_width": null,
            "min_height": null,
            "min_width": null,
            "object_fit": null,
            "object_position": null,
            "order": null,
            "overflow": null,
            "overflow_x": null,
            "overflow_y": null,
            "padding": null,
            "right": null,
            "top": null,
            "visibility": null,
            "width": null
          }
        },
        "90ca08fc681d49c48d7c9a2f12a36fae": {
          "model_module": "@jupyter-widgets/controls",
          "model_name": "DescriptionStyleModel",
          "model_module_version": "1.5.0",
          "state": {
            "_model_module": "@jupyter-widgets/controls",
            "_model_module_version": "1.5.0",
            "_model_name": "DescriptionStyleModel",
            "_view_count": null,
            "_view_module": "@jupyter-widgets/base",
            "_view_module_version": "1.2.0",
            "_view_name": "StyleView",
            "description_width": ""
          }
        },
        "dce61a957cb64a8bb7536418f61ab086": {
          "model_module": "@jupyter-widgets/controls",
          "model_name": "HBoxModel",
          "model_module_version": "1.5.0",
          "state": {
            "_dom_classes": [],
            "_model_module": "@jupyter-widgets/controls",
            "_model_module_version": "1.5.0",
            "_model_name": "HBoxModel",
            "_view_count": null,
            "_view_module": "@jupyter-widgets/controls",
            "_view_module_version": "1.5.0",
            "_view_name": "HBoxView",
            "box_style": "",
            "children": [
              "IPY_MODEL_56d920147e744151a7953e00df27b219",
              "IPY_MODEL_a2f35c00142a4999b23ca71409c2b9b5",
              "IPY_MODEL_eea9d31eef35481da318537f2b1bbb83"
            ],
            "layout": "IPY_MODEL_7e7e0f3ce2ca467f8ae4db7a63421485"
          }
        },
        "56d920147e744151a7953e00df27b219": {
          "model_module": "@jupyter-widgets/controls",
          "model_name": "HTMLModel",
          "model_module_version": "1.5.0",
          "state": {
            "_dom_classes": [],
            "_model_module": "@jupyter-widgets/controls",
            "_model_module_version": "1.5.0",
            "_model_name": "HTMLModel",
            "_view_count": null,
            "_view_module": "@jupyter-widgets/controls",
            "_view_module_version": "1.5.0",
            "_view_name": "HTMLView",
            "description": "",
            "description_tooltip": null,
            "layout": "IPY_MODEL_5f3b06c8f3e348e49305178cb56625aa",
            "placeholder": "​",
            "style": "IPY_MODEL_f7a1260d44dd4c20ac6849a892b595fe",
            "value": "Map: 100%"
          }
        },
        "a2f35c00142a4999b23ca71409c2b9b5": {
          "model_module": "@jupyter-widgets/controls",
          "model_name": "FloatProgressModel",
          "model_module_version": "1.5.0",
          "state": {
            "_dom_classes": [],
            "_model_module": "@jupyter-widgets/controls",
            "_model_module_version": "1.5.0",
            "_model_name": "FloatProgressModel",
            "_view_count": null,
            "_view_module": "@jupyter-widgets/controls",
            "_view_module_version": "1.5.0",
            "_view_name": "ProgressView",
            "bar_style": "success",
            "description": "",
            "description_tooltip": null,
            "layout": "IPY_MODEL_965aa0e79e5e422ba0cc78861d4ea1b8",
            "max": 4529,
            "min": 0,
            "orientation": "horizontal",
            "style": "IPY_MODEL_3b5dfa5b086f450bab72162a68f4d90a",
            "value": 4529
          }
        },
        "eea9d31eef35481da318537f2b1bbb83": {
          "model_module": "@jupyter-widgets/controls",
          "model_name": "HTMLModel",
          "model_module_version": "1.5.0",
          "state": {
            "_dom_classes": [],
            "_model_module": "@jupyter-widgets/controls",
            "_model_module_version": "1.5.0",
            "_model_name": "HTMLModel",
            "_view_count": null,
            "_view_module": "@jupyter-widgets/controls",
            "_view_module_version": "1.5.0",
            "_view_name": "HTMLView",
            "description": "",
            "description_tooltip": null,
            "layout": "IPY_MODEL_a6c4490bb2fd4c8a8ffeecb13a462451",
            "placeholder": "​",
            "style": "IPY_MODEL_a306a6355f4144b18e6101989434c031",
            "value": " 4529/4529 [00:04&lt;00:00, 1094.35 examples/s]"
          }
        },
        "7e7e0f3ce2ca467f8ae4db7a63421485": {
          "model_module": "@jupyter-widgets/base",
          "model_name": "LayoutModel",
          "model_module_version": "1.2.0",
          "state": {
            "_model_module": "@jupyter-widgets/base",
            "_model_module_version": "1.2.0",
            "_model_name": "LayoutModel",
            "_view_count": null,
            "_view_module": "@jupyter-widgets/base",
            "_view_module_version": "1.2.0",
            "_view_name": "LayoutView",
            "align_content": null,
            "align_items": null,
            "align_self": null,
            "border": null,
            "bottom": null,
            "display": null,
            "flex": null,
            "flex_flow": null,
            "grid_area": null,
            "grid_auto_columns": null,
            "grid_auto_flow": null,
            "grid_auto_rows": null,
            "grid_column": null,
            "grid_gap": null,
            "grid_row": null,
            "grid_template_areas": null,
            "grid_template_columns": null,
            "grid_template_rows": null,
            "height": null,
            "justify_content": null,
            "justify_items": null,
            "left": null,
            "margin": null,
            "max_height": null,
            "max_width": null,
            "min_height": null,
            "min_width": null,
            "object_fit": null,
            "object_position": null,
            "order": null,
            "overflow": null,
            "overflow_x": null,
            "overflow_y": null,
            "padding": null,
            "right": null,
            "top": null,
            "visibility": null,
            "width": null
          }
        },
        "5f3b06c8f3e348e49305178cb56625aa": {
          "model_module": "@jupyter-widgets/base",
          "model_name": "LayoutModel",
          "model_module_version": "1.2.0",
          "state": {
            "_model_module": "@jupyter-widgets/base",
            "_model_module_version": "1.2.0",
            "_model_name": "LayoutModel",
            "_view_count": null,
            "_view_module": "@jupyter-widgets/base",
            "_view_module_version": "1.2.0",
            "_view_name": "LayoutView",
            "align_content": null,
            "align_items": null,
            "align_self": null,
            "border": null,
            "bottom": null,
            "display": null,
            "flex": null,
            "flex_flow": null,
            "grid_area": null,
            "grid_auto_columns": null,
            "grid_auto_flow": null,
            "grid_auto_rows": null,
            "grid_column": null,
            "grid_gap": null,
            "grid_row": null,
            "grid_template_areas": null,
            "grid_template_columns": null,
            "grid_template_rows": null,
            "height": null,
            "justify_content": null,
            "justify_items": null,
            "left": null,
            "margin": null,
            "max_height": null,
            "max_width": null,
            "min_height": null,
            "min_width": null,
            "object_fit": null,
            "object_position": null,
            "order": null,
            "overflow": null,
            "overflow_x": null,
            "overflow_y": null,
            "padding": null,
            "right": null,
            "top": null,
            "visibility": null,
            "width": null
          }
        },
        "f7a1260d44dd4c20ac6849a892b595fe": {
          "model_module": "@jupyter-widgets/controls",
          "model_name": "DescriptionStyleModel",
          "model_module_version": "1.5.0",
          "state": {
            "_model_module": "@jupyter-widgets/controls",
            "_model_module_version": "1.5.0",
            "_model_name": "DescriptionStyleModel",
            "_view_count": null,
            "_view_module": "@jupyter-widgets/base",
            "_view_module_version": "1.2.0",
            "_view_name": "StyleView",
            "description_width": ""
          }
        },
        "965aa0e79e5e422ba0cc78861d4ea1b8": {
          "model_module": "@jupyter-widgets/base",
          "model_name": "LayoutModel",
          "model_module_version": "1.2.0",
          "state": {
            "_model_module": "@jupyter-widgets/base",
            "_model_module_version": "1.2.0",
            "_model_name": "LayoutModel",
            "_view_count": null,
            "_view_module": "@jupyter-widgets/base",
            "_view_module_version": "1.2.0",
            "_view_name": "LayoutView",
            "align_content": null,
            "align_items": null,
            "align_self": null,
            "border": null,
            "bottom": null,
            "display": null,
            "flex": null,
            "flex_flow": null,
            "grid_area": null,
            "grid_auto_columns": null,
            "grid_auto_flow": null,
            "grid_auto_rows": null,
            "grid_column": null,
            "grid_gap": null,
            "grid_row": null,
            "grid_template_areas": null,
            "grid_template_columns": null,
            "grid_template_rows": null,
            "height": null,
            "justify_content": null,
            "justify_items": null,
            "left": null,
            "margin": null,
            "max_height": null,
            "max_width": null,
            "min_height": null,
            "min_width": null,
            "object_fit": null,
            "object_position": null,
            "order": null,
            "overflow": null,
            "overflow_x": null,
            "overflow_y": null,
            "padding": null,
            "right": null,
            "top": null,
            "visibility": null,
            "width": null
          }
        },
        "3b5dfa5b086f450bab72162a68f4d90a": {
          "model_module": "@jupyter-widgets/controls",
          "model_name": "ProgressStyleModel",
          "model_module_version": "1.5.0",
          "state": {
            "_model_module": "@jupyter-widgets/controls",
            "_model_module_version": "1.5.0",
            "_model_name": "ProgressStyleModel",
            "_view_count": null,
            "_view_module": "@jupyter-widgets/base",
            "_view_module_version": "1.2.0",
            "_view_name": "StyleView",
            "bar_color": null,
            "description_width": ""
          }
        },
        "a6c4490bb2fd4c8a8ffeecb13a462451": {
          "model_module": "@jupyter-widgets/base",
          "model_name": "LayoutModel",
          "model_module_version": "1.2.0",
          "state": {
            "_model_module": "@jupyter-widgets/base",
            "_model_module_version": "1.2.0",
            "_model_name": "LayoutModel",
            "_view_count": null,
            "_view_module": "@jupyter-widgets/base",
            "_view_module_version": "1.2.0",
            "_view_name": "LayoutView",
            "align_content": null,
            "align_items": null,
            "align_self": null,
            "border": null,
            "bottom": null,
            "display": null,
            "flex": null,
            "flex_flow": null,
            "grid_area": null,
            "grid_auto_columns": null,
            "grid_auto_flow": null,
            "grid_auto_rows": null,
            "grid_column": null,
            "grid_gap": null,
            "grid_row": null,
            "grid_template_areas": null,
            "grid_template_columns": null,
            "grid_template_rows": null,
            "height": null,
            "justify_content": null,
            "justify_items": null,
            "left": null,
            "margin": null,
            "max_height": null,
            "max_width": null,
            "min_height": null,
            "min_width": null,
            "object_fit": null,
            "object_position": null,
            "order": null,
            "overflow": null,
            "overflow_x": null,
            "overflow_y": null,
            "padding": null,
            "right": null,
            "top": null,
            "visibility": null,
            "width": null
          }
        },
        "a306a6355f4144b18e6101989434c031": {
          "model_module": "@jupyter-widgets/controls",
          "model_name": "DescriptionStyleModel",
          "model_module_version": "1.5.0",
          "state": {
            "_model_module": "@jupyter-widgets/controls",
            "_model_module_version": "1.5.0",
            "_model_name": "DescriptionStyleModel",
            "_view_count": null,
            "_view_module": "@jupyter-widgets/base",
            "_view_module_version": "1.2.0",
            "_view_name": "StyleView",
            "description_width": ""
          }
        },
        "6347bb68c48a49a0a6aa9e139f5473bc": {
          "model_module": "@jupyter-widgets/controls",
          "model_name": "HBoxModel",
          "model_module_version": "1.5.0",
          "state": {
            "_dom_classes": [],
            "_model_module": "@jupyter-widgets/controls",
            "_model_module_version": "1.5.0",
            "_model_name": "HBoxModel",
            "_view_count": null,
            "_view_module": "@jupyter-widgets/controls",
            "_view_module_version": "1.5.0",
            "_view_name": "HBoxView",
            "box_style": "",
            "children": [
              "IPY_MODEL_789fd8e7c9954d208db1f01b423ed490",
              "IPY_MODEL_9e86641856d04984910653970bb660f7",
              "IPY_MODEL_aedad68109644415b73973d9e5d70d89"
            ],
            "layout": "IPY_MODEL_b2509b236fce4e22a267abbce86e4a61"
          }
        },
        "789fd8e7c9954d208db1f01b423ed490": {
          "model_module": "@jupyter-widgets/controls",
          "model_name": "HTMLModel",
          "model_module_version": "1.5.0",
          "state": {
            "_dom_classes": [],
            "_model_module": "@jupyter-widgets/controls",
            "_model_module_version": "1.5.0",
            "_model_name": "HTMLModel",
            "_view_count": null,
            "_view_module": "@jupyter-widgets/controls",
            "_view_module_version": "1.5.0",
            "_view_name": "HTMLView",
            "description": "",
            "description_tooltip": null,
            "layout": "IPY_MODEL_252def7892a44eb989788c8776fbaee2",
            "placeholder": "​",
            "style": "IPY_MODEL_b99269395a5a465089dc259ac5dc8f0e",
            "value": "tokenizer_config.json: 100%"
          }
        },
        "9e86641856d04984910653970bb660f7": {
          "model_module": "@jupyter-widgets/controls",
          "model_name": "FloatProgressModel",
          "model_module_version": "1.5.0",
          "state": {
            "_dom_classes": [],
            "_model_module": "@jupyter-widgets/controls",
            "_model_module_version": "1.5.0",
            "_model_name": "FloatProgressModel",
            "_view_count": null,
            "_view_module": "@jupyter-widgets/controls",
            "_view_module_version": "1.5.0",
            "_view_name": "ProgressView",
            "bar_style": "success",
            "description": "",
            "description_tooltip": null,
            "layout": "IPY_MODEL_acc5ce3fc4f3476c9d4f23e4bdf99cfa",
            "max": 25,
            "min": 0,
            "orientation": "horizontal",
            "style": "IPY_MODEL_80581a49af66430cbd1e60302ecb57c0",
            "value": 25
          }
        },
        "aedad68109644415b73973d9e5d70d89": {
          "model_module": "@jupyter-widgets/controls",
          "model_name": "HTMLModel",
          "model_module_version": "1.5.0",
          "state": {
            "_dom_classes": [],
            "_model_module": "@jupyter-widgets/controls",
            "_model_module_version": "1.5.0",
            "_model_name": "HTMLModel",
            "_view_count": null,
            "_view_module": "@jupyter-widgets/controls",
            "_view_module_version": "1.5.0",
            "_view_name": "HTMLView",
            "description": "",
            "description_tooltip": null,
            "layout": "IPY_MODEL_e84bf8e920d44910a3c187df6ef6addc",
            "placeholder": "​",
            "style": "IPY_MODEL_b02f994414744451ae9ad076ea9f327c",
            "value": " 25.0/25.0 [00:00&lt;00:00, 1.48kB/s]"
          }
        },
        "b2509b236fce4e22a267abbce86e4a61": {
          "model_module": "@jupyter-widgets/base",
          "model_name": "LayoutModel",
          "model_module_version": "1.2.0",
          "state": {
            "_model_module": "@jupyter-widgets/base",
            "_model_module_version": "1.2.0",
            "_model_name": "LayoutModel",
            "_view_count": null,
            "_view_module": "@jupyter-widgets/base",
            "_view_module_version": "1.2.0",
            "_view_name": "LayoutView",
            "align_content": null,
            "align_items": null,
            "align_self": null,
            "border": null,
            "bottom": null,
            "display": null,
            "flex": null,
            "flex_flow": null,
            "grid_area": null,
            "grid_auto_columns": null,
            "grid_auto_flow": null,
            "grid_auto_rows": null,
            "grid_column": null,
            "grid_gap": null,
            "grid_row": null,
            "grid_template_areas": null,
            "grid_template_columns": null,
            "grid_template_rows": null,
            "height": null,
            "justify_content": null,
            "justify_items": null,
            "left": null,
            "margin": null,
            "max_height": null,
            "max_width": null,
            "min_height": null,
            "min_width": null,
            "object_fit": null,
            "object_position": null,
            "order": null,
            "overflow": null,
            "overflow_x": null,
            "overflow_y": null,
            "padding": null,
            "right": null,
            "top": null,
            "visibility": null,
            "width": null
          }
        },
        "252def7892a44eb989788c8776fbaee2": {
          "model_module": "@jupyter-widgets/base",
          "model_name": "LayoutModel",
          "model_module_version": "1.2.0",
          "state": {
            "_model_module": "@jupyter-widgets/base",
            "_model_module_version": "1.2.0",
            "_model_name": "LayoutModel",
            "_view_count": null,
            "_view_module": "@jupyter-widgets/base",
            "_view_module_version": "1.2.0",
            "_view_name": "LayoutView",
            "align_content": null,
            "align_items": null,
            "align_self": null,
            "border": null,
            "bottom": null,
            "display": null,
            "flex": null,
            "flex_flow": null,
            "grid_area": null,
            "grid_auto_columns": null,
            "grid_auto_flow": null,
            "grid_auto_rows": null,
            "grid_column": null,
            "grid_gap": null,
            "grid_row": null,
            "grid_template_areas": null,
            "grid_template_columns": null,
            "grid_template_rows": null,
            "height": null,
            "justify_content": null,
            "justify_items": null,
            "left": null,
            "margin": null,
            "max_height": null,
            "max_width": null,
            "min_height": null,
            "min_width": null,
            "object_fit": null,
            "object_position": null,
            "order": null,
            "overflow": null,
            "overflow_x": null,
            "overflow_y": null,
            "padding": null,
            "right": null,
            "top": null,
            "visibility": null,
            "width": null
          }
        },
        "b99269395a5a465089dc259ac5dc8f0e": {
          "model_module": "@jupyter-widgets/controls",
          "model_name": "DescriptionStyleModel",
          "model_module_version": "1.5.0",
          "state": {
            "_model_module": "@jupyter-widgets/controls",
            "_model_module_version": "1.5.0",
            "_model_name": "DescriptionStyleModel",
            "_view_count": null,
            "_view_module": "@jupyter-widgets/base",
            "_view_module_version": "1.2.0",
            "_view_name": "StyleView",
            "description_width": ""
          }
        },
        "acc5ce3fc4f3476c9d4f23e4bdf99cfa": {
          "model_module": "@jupyter-widgets/base",
          "model_name": "LayoutModel",
          "model_module_version": "1.2.0",
          "state": {
            "_model_module": "@jupyter-widgets/base",
            "_model_module_version": "1.2.0",
            "_model_name": "LayoutModel",
            "_view_count": null,
            "_view_module": "@jupyter-widgets/base",
            "_view_module_version": "1.2.0",
            "_view_name": "LayoutView",
            "align_content": null,
            "align_items": null,
            "align_self": null,
            "border": null,
            "bottom": null,
            "display": null,
            "flex": null,
            "flex_flow": null,
            "grid_area": null,
            "grid_auto_columns": null,
            "grid_auto_flow": null,
            "grid_auto_rows": null,
            "grid_column": null,
            "grid_gap": null,
            "grid_row": null,
            "grid_template_areas": null,
            "grid_template_columns": null,
            "grid_template_rows": null,
            "height": null,
            "justify_content": null,
            "justify_items": null,
            "left": null,
            "margin": null,
            "max_height": null,
            "max_width": null,
            "min_height": null,
            "min_width": null,
            "object_fit": null,
            "object_position": null,
            "order": null,
            "overflow": null,
            "overflow_x": null,
            "overflow_y": null,
            "padding": null,
            "right": null,
            "top": null,
            "visibility": null,
            "width": null
          }
        },
        "80581a49af66430cbd1e60302ecb57c0": {
          "model_module": "@jupyter-widgets/controls",
          "model_name": "ProgressStyleModel",
          "model_module_version": "1.5.0",
          "state": {
            "_model_module": "@jupyter-widgets/controls",
            "_model_module_version": "1.5.0",
            "_model_name": "ProgressStyleModel",
            "_view_count": null,
            "_view_module": "@jupyter-widgets/base",
            "_view_module_version": "1.2.0",
            "_view_name": "StyleView",
            "bar_color": null,
            "description_width": ""
          }
        },
        "e84bf8e920d44910a3c187df6ef6addc": {
          "model_module": "@jupyter-widgets/base",
          "model_name": "LayoutModel",
          "model_module_version": "1.2.0",
          "state": {
            "_model_module": "@jupyter-widgets/base",
            "_model_module_version": "1.2.0",
            "_model_name": "LayoutModel",
            "_view_count": null,
            "_view_module": "@jupyter-widgets/base",
            "_view_module_version": "1.2.0",
            "_view_name": "LayoutView",
            "align_content": null,
            "align_items": null,
            "align_self": null,
            "border": null,
            "bottom": null,
            "display": null,
            "flex": null,
            "flex_flow": null,
            "grid_area": null,
            "grid_auto_columns": null,
            "grid_auto_flow": null,
            "grid_auto_rows": null,
            "grid_column": null,
            "grid_gap": null,
            "grid_row": null,
            "grid_template_areas": null,
            "grid_template_columns": null,
            "grid_template_rows": null,
            "height": null,
            "justify_content": null,
            "justify_items": null,
            "left": null,
            "margin": null,
            "max_height": null,
            "max_width": null,
            "min_height": null,
            "min_width": null,
            "object_fit": null,
            "object_position": null,
            "order": null,
            "overflow": null,
            "overflow_x": null,
            "overflow_y": null,
            "padding": null,
            "right": null,
            "top": null,
            "visibility": null,
            "width": null
          }
        },
        "b02f994414744451ae9ad076ea9f327c": {
          "model_module": "@jupyter-widgets/controls",
          "model_name": "DescriptionStyleModel",
          "model_module_version": "1.5.0",
          "state": {
            "_model_module": "@jupyter-widgets/controls",
            "_model_module_version": "1.5.0",
            "_model_name": "DescriptionStyleModel",
            "_view_count": null,
            "_view_module": "@jupyter-widgets/base",
            "_view_module_version": "1.2.0",
            "_view_name": "StyleView",
            "description_width": ""
          }
        },
        "278d6ec1b8dc41059647d48890af6ecd": {
          "model_module": "@jupyter-widgets/controls",
          "model_name": "HBoxModel",
          "model_module_version": "1.5.0",
          "state": {
            "_dom_classes": [],
            "_model_module": "@jupyter-widgets/controls",
            "_model_module_version": "1.5.0",
            "_model_name": "HBoxModel",
            "_view_count": null,
            "_view_module": "@jupyter-widgets/controls",
            "_view_module_version": "1.5.0",
            "_view_name": "HBoxView",
            "box_style": "",
            "children": [
              "IPY_MODEL_516d9aebd5094a7f88aff6a029714033",
              "IPY_MODEL_976a138a041e4a8ea63ca950fa6439d7",
              "IPY_MODEL_ef5ee00b0e0b4fb4a4492c2b7b312769"
            ],
            "layout": "IPY_MODEL_5a0ad715712a41aab2356f009828e692"
          }
        },
        "516d9aebd5094a7f88aff6a029714033": {
          "model_module": "@jupyter-widgets/controls",
          "model_name": "HTMLModel",
          "model_module_version": "1.5.0",
          "state": {
            "_dom_classes": [],
            "_model_module": "@jupyter-widgets/controls",
            "_model_module_version": "1.5.0",
            "_model_name": "HTMLModel",
            "_view_count": null,
            "_view_module": "@jupyter-widgets/controls",
            "_view_module_version": "1.5.0",
            "_view_name": "HTMLView",
            "description": "",
            "description_tooltip": null,
            "layout": "IPY_MODEL_afd97327035e47f7802874f5b9f4b7c6",
            "placeholder": "​",
            "style": "IPY_MODEL_704969f66cd146cb90151f0e6b56c5de",
            "value": "vocab.json: 100%"
          }
        },
        "976a138a041e4a8ea63ca950fa6439d7": {
          "model_module": "@jupyter-widgets/controls",
          "model_name": "FloatProgressModel",
          "model_module_version": "1.5.0",
          "state": {
            "_dom_classes": [],
            "_model_module": "@jupyter-widgets/controls",
            "_model_module_version": "1.5.0",
            "_model_name": "FloatProgressModel",
            "_view_count": null,
            "_view_module": "@jupyter-widgets/controls",
            "_view_module_version": "1.5.0",
            "_view_name": "ProgressView",
            "bar_style": "success",
            "description": "",
            "description_tooltip": null,
            "layout": "IPY_MODEL_a907a05728cd4ee0994c2a98d2775048",
            "max": 898823,
            "min": 0,
            "orientation": "horizontal",
            "style": "IPY_MODEL_6ab3d1975e764eea985ea62a69aad21c",
            "value": 898823
          }
        },
        "ef5ee00b0e0b4fb4a4492c2b7b312769": {
          "model_module": "@jupyter-widgets/controls",
          "model_name": "HTMLModel",
          "model_module_version": "1.5.0",
          "state": {
            "_dom_classes": [],
            "_model_module": "@jupyter-widgets/controls",
            "_model_module_version": "1.5.0",
            "_model_name": "HTMLModel",
            "_view_count": null,
            "_view_module": "@jupyter-widgets/controls",
            "_view_module_version": "1.5.0",
            "_view_name": "HTMLView",
            "description": "",
            "description_tooltip": null,
            "layout": "IPY_MODEL_a2017bc9556d49d6918fd6b59e0e3936",
            "placeholder": "​",
            "style": "IPY_MODEL_f8e36cef376d43f290df9018deb862c7",
            "value": " 899k/899k [00:00&lt;00:00, 9.51MB/s]"
          }
        },
        "5a0ad715712a41aab2356f009828e692": {
          "model_module": "@jupyter-widgets/base",
          "model_name": "LayoutModel",
          "model_module_version": "1.2.0",
          "state": {
            "_model_module": "@jupyter-widgets/base",
            "_model_module_version": "1.2.0",
            "_model_name": "LayoutModel",
            "_view_count": null,
            "_view_module": "@jupyter-widgets/base",
            "_view_module_version": "1.2.0",
            "_view_name": "LayoutView",
            "align_content": null,
            "align_items": null,
            "align_self": null,
            "border": null,
            "bottom": null,
            "display": null,
            "flex": null,
            "flex_flow": null,
            "grid_area": null,
            "grid_auto_columns": null,
            "grid_auto_flow": null,
            "grid_auto_rows": null,
            "grid_column": null,
            "grid_gap": null,
            "grid_row": null,
            "grid_template_areas": null,
            "grid_template_columns": null,
            "grid_template_rows": null,
            "height": null,
            "justify_content": null,
            "justify_items": null,
            "left": null,
            "margin": null,
            "max_height": null,
            "max_width": null,
            "min_height": null,
            "min_width": null,
            "object_fit": null,
            "object_position": null,
            "order": null,
            "overflow": null,
            "overflow_x": null,
            "overflow_y": null,
            "padding": null,
            "right": null,
            "top": null,
            "visibility": null,
            "width": null
          }
        },
        "afd97327035e47f7802874f5b9f4b7c6": {
          "model_module": "@jupyter-widgets/base",
          "model_name": "LayoutModel",
          "model_module_version": "1.2.0",
          "state": {
            "_model_module": "@jupyter-widgets/base",
            "_model_module_version": "1.2.0",
            "_model_name": "LayoutModel",
            "_view_count": null,
            "_view_module": "@jupyter-widgets/base",
            "_view_module_version": "1.2.0",
            "_view_name": "LayoutView",
            "align_content": null,
            "align_items": null,
            "align_self": null,
            "border": null,
            "bottom": null,
            "display": null,
            "flex": null,
            "flex_flow": null,
            "grid_area": null,
            "grid_auto_columns": null,
            "grid_auto_flow": null,
            "grid_auto_rows": null,
            "grid_column": null,
            "grid_gap": null,
            "grid_row": null,
            "grid_template_areas": null,
            "grid_template_columns": null,
            "grid_template_rows": null,
            "height": null,
            "justify_content": null,
            "justify_items": null,
            "left": null,
            "margin": null,
            "max_height": null,
            "max_width": null,
            "min_height": null,
            "min_width": null,
            "object_fit": null,
            "object_position": null,
            "order": null,
            "overflow": null,
            "overflow_x": null,
            "overflow_y": null,
            "padding": null,
            "right": null,
            "top": null,
            "visibility": null,
            "width": null
          }
        },
        "704969f66cd146cb90151f0e6b56c5de": {
          "model_module": "@jupyter-widgets/controls",
          "model_name": "DescriptionStyleModel",
          "model_module_version": "1.5.0",
          "state": {
            "_model_module": "@jupyter-widgets/controls",
            "_model_module_version": "1.5.0",
            "_model_name": "DescriptionStyleModel",
            "_view_count": null,
            "_view_module": "@jupyter-widgets/base",
            "_view_module_version": "1.2.0",
            "_view_name": "StyleView",
            "description_width": ""
          }
        },
        "a907a05728cd4ee0994c2a98d2775048": {
          "model_module": "@jupyter-widgets/base",
          "model_name": "LayoutModel",
          "model_module_version": "1.2.0",
          "state": {
            "_model_module": "@jupyter-widgets/base",
            "_model_module_version": "1.2.0",
            "_model_name": "LayoutModel",
            "_view_count": null,
            "_view_module": "@jupyter-widgets/base",
            "_view_module_version": "1.2.0",
            "_view_name": "LayoutView",
            "align_content": null,
            "align_items": null,
            "align_self": null,
            "border": null,
            "bottom": null,
            "display": null,
            "flex": null,
            "flex_flow": null,
            "grid_area": null,
            "grid_auto_columns": null,
            "grid_auto_flow": null,
            "grid_auto_rows": null,
            "grid_column": null,
            "grid_gap": null,
            "grid_row": null,
            "grid_template_areas": null,
            "grid_template_columns": null,
            "grid_template_rows": null,
            "height": null,
            "justify_content": null,
            "justify_items": null,
            "left": null,
            "margin": null,
            "max_height": null,
            "max_width": null,
            "min_height": null,
            "min_width": null,
            "object_fit": null,
            "object_position": null,
            "order": null,
            "overflow": null,
            "overflow_x": null,
            "overflow_y": null,
            "padding": null,
            "right": null,
            "top": null,
            "visibility": null,
            "width": null
          }
        },
        "6ab3d1975e764eea985ea62a69aad21c": {
          "model_module": "@jupyter-widgets/controls",
          "model_name": "ProgressStyleModel",
          "model_module_version": "1.5.0",
          "state": {
            "_model_module": "@jupyter-widgets/controls",
            "_model_module_version": "1.5.0",
            "_model_name": "ProgressStyleModel",
            "_view_count": null,
            "_view_module": "@jupyter-widgets/base",
            "_view_module_version": "1.2.0",
            "_view_name": "StyleView",
            "bar_color": null,
            "description_width": ""
          }
        },
        "a2017bc9556d49d6918fd6b59e0e3936": {
          "model_module": "@jupyter-widgets/base",
          "model_name": "LayoutModel",
          "model_module_version": "1.2.0",
          "state": {
            "_model_module": "@jupyter-widgets/base",
            "_model_module_version": "1.2.0",
            "_model_name": "LayoutModel",
            "_view_count": null,
            "_view_module": "@jupyter-widgets/base",
            "_view_module_version": "1.2.0",
            "_view_name": "LayoutView",
            "align_content": null,
            "align_items": null,
            "align_self": null,
            "border": null,
            "bottom": null,
            "display": null,
            "flex": null,
            "flex_flow": null,
            "grid_area": null,
            "grid_auto_columns": null,
            "grid_auto_flow": null,
            "grid_auto_rows": null,
            "grid_column": null,
            "grid_gap": null,
            "grid_row": null,
            "grid_template_areas": null,
            "grid_template_columns": null,
            "grid_template_rows": null,
            "height": null,
            "justify_content": null,
            "justify_items": null,
            "left": null,
            "margin": null,
            "max_height": null,
            "max_width": null,
            "min_height": null,
            "min_width": null,
            "object_fit": null,
            "object_position": null,
            "order": null,
            "overflow": null,
            "overflow_x": null,
            "overflow_y": null,
            "padding": null,
            "right": null,
            "top": null,
            "visibility": null,
            "width": null
          }
        },
        "f8e36cef376d43f290df9018deb862c7": {
          "model_module": "@jupyter-widgets/controls",
          "model_name": "DescriptionStyleModel",
          "model_module_version": "1.5.0",
          "state": {
            "_model_module": "@jupyter-widgets/controls",
            "_model_module_version": "1.5.0",
            "_model_name": "DescriptionStyleModel",
            "_view_count": null,
            "_view_module": "@jupyter-widgets/base",
            "_view_module_version": "1.2.0",
            "_view_name": "StyleView",
            "description_width": ""
          }
        },
        "f7f5eab281f04839ba1ba3c78b962b0f": {
          "model_module": "@jupyter-widgets/controls",
          "model_name": "HBoxModel",
          "model_module_version": "1.5.0",
          "state": {
            "_dom_classes": [],
            "_model_module": "@jupyter-widgets/controls",
            "_model_module_version": "1.5.0",
            "_model_name": "HBoxModel",
            "_view_count": null,
            "_view_module": "@jupyter-widgets/controls",
            "_view_module_version": "1.5.0",
            "_view_name": "HBoxView",
            "box_style": "",
            "children": [
              "IPY_MODEL_ca14010629944b769581b6243f7d37e4",
              "IPY_MODEL_b4c241328b6342e2a0c0c62b7d714436",
              "IPY_MODEL_f93dade4652d4299bb0185c880a4774b"
            ],
            "layout": "IPY_MODEL_eb8f8a7f71e14a86bb9d6db8470e1d67"
          }
        },
        "ca14010629944b769581b6243f7d37e4": {
          "model_module": "@jupyter-widgets/controls",
          "model_name": "HTMLModel",
          "model_module_version": "1.5.0",
          "state": {
            "_dom_classes": [],
            "_model_module": "@jupyter-widgets/controls",
            "_model_module_version": "1.5.0",
            "_model_name": "HTMLModel",
            "_view_count": null,
            "_view_module": "@jupyter-widgets/controls",
            "_view_module_version": "1.5.0",
            "_view_name": "HTMLView",
            "description": "",
            "description_tooltip": null,
            "layout": "IPY_MODEL_158bfc5a9d2442baaf280cd2a4b07a72",
            "placeholder": "​",
            "style": "IPY_MODEL_e7721d14c5cc412cb25d37f0647a5136",
            "value": "merges.txt: 100%"
          }
        },
        "b4c241328b6342e2a0c0c62b7d714436": {
          "model_module": "@jupyter-widgets/controls",
          "model_name": "FloatProgressModel",
          "model_module_version": "1.5.0",
          "state": {
            "_dom_classes": [],
            "_model_module": "@jupyter-widgets/controls",
            "_model_module_version": "1.5.0",
            "_model_name": "FloatProgressModel",
            "_view_count": null,
            "_view_module": "@jupyter-widgets/controls",
            "_view_module_version": "1.5.0",
            "_view_name": "ProgressView",
            "bar_style": "success",
            "description": "",
            "description_tooltip": null,
            "layout": "IPY_MODEL_1abbc53155fe4e0e874902e147a14255",
            "max": 456318,
            "min": 0,
            "orientation": "horizontal",
            "style": "IPY_MODEL_69798663ec9d42a08468c0440874db4c",
            "value": 456318
          }
        },
        "f93dade4652d4299bb0185c880a4774b": {
          "model_module": "@jupyter-widgets/controls",
          "model_name": "HTMLModel",
          "model_module_version": "1.5.0",
          "state": {
            "_dom_classes": [],
            "_model_module": "@jupyter-widgets/controls",
            "_model_module_version": "1.5.0",
            "_model_name": "HTMLModel",
            "_view_count": null,
            "_view_module": "@jupyter-widgets/controls",
            "_view_module_version": "1.5.0",
            "_view_name": "HTMLView",
            "description": "",
            "description_tooltip": null,
            "layout": "IPY_MODEL_6c4d98a5c72a46a7b21f621bce8a227f",
            "placeholder": "​",
            "style": "IPY_MODEL_6d9daf2a05ad468a9aaa05431e91ab1d",
            "value": " 456k/456k [00:00&lt;00:00, 10.8MB/s]"
          }
        },
        "eb8f8a7f71e14a86bb9d6db8470e1d67": {
          "model_module": "@jupyter-widgets/base",
          "model_name": "LayoutModel",
          "model_module_version": "1.2.0",
          "state": {
            "_model_module": "@jupyter-widgets/base",
            "_model_module_version": "1.2.0",
            "_model_name": "LayoutModel",
            "_view_count": null,
            "_view_module": "@jupyter-widgets/base",
            "_view_module_version": "1.2.0",
            "_view_name": "LayoutView",
            "align_content": null,
            "align_items": null,
            "align_self": null,
            "border": null,
            "bottom": null,
            "display": null,
            "flex": null,
            "flex_flow": null,
            "grid_area": null,
            "grid_auto_columns": null,
            "grid_auto_flow": null,
            "grid_auto_rows": null,
            "grid_column": null,
            "grid_gap": null,
            "grid_row": null,
            "grid_template_areas": null,
            "grid_template_columns": null,
            "grid_template_rows": null,
            "height": null,
            "justify_content": null,
            "justify_items": null,
            "left": null,
            "margin": null,
            "max_height": null,
            "max_width": null,
            "min_height": null,
            "min_width": null,
            "object_fit": null,
            "object_position": null,
            "order": null,
            "overflow": null,
            "overflow_x": null,
            "overflow_y": null,
            "padding": null,
            "right": null,
            "top": null,
            "visibility": null,
            "width": null
          }
        },
        "158bfc5a9d2442baaf280cd2a4b07a72": {
          "model_module": "@jupyter-widgets/base",
          "model_name": "LayoutModel",
          "model_module_version": "1.2.0",
          "state": {
            "_model_module": "@jupyter-widgets/base",
            "_model_module_version": "1.2.0",
            "_model_name": "LayoutModel",
            "_view_count": null,
            "_view_module": "@jupyter-widgets/base",
            "_view_module_version": "1.2.0",
            "_view_name": "LayoutView",
            "align_content": null,
            "align_items": null,
            "align_self": null,
            "border": null,
            "bottom": null,
            "display": null,
            "flex": null,
            "flex_flow": null,
            "grid_area": null,
            "grid_auto_columns": null,
            "grid_auto_flow": null,
            "grid_auto_rows": null,
            "grid_column": null,
            "grid_gap": null,
            "grid_row": null,
            "grid_template_areas": null,
            "grid_template_columns": null,
            "grid_template_rows": null,
            "height": null,
            "justify_content": null,
            "justify_items": null,
            "left": null,
            "margin": null,
            "max_height": null,
            "max_width": null,
            "min_height": null,
            "min_width": null,
            "object_fit": null,
            "object_position": null,
            "order": null,
            "overflow": null,
            "overflow_x": null,
            "overflow_y": null,
            "padding": null,
            "right": null,
            "top": null,
            "visibility": null,
            "width": null
          }
        },
        "e7721d14c5cc412cb25d37f0647a5136": {
          "model_module": "@jupyter-widgets/controls",
          "model_name": "DescriptionStyleModel",
          "model_module_version": "1.5.0",
          "state": {
            "_model_module": "@jupyter-widgets/controls",
            "_model_module_version": "1.5.0",
            "_model_name": "DescriptionStyleModel",
            "_view_count": null,
            "_view_module": "@jupyter-widgets/base",
            "_view_module_version": "1.2.0",
            "_view_name": "StyleView",
            "description_width": ""
          }
        },
        "1abbc53155fe4e0e874902e147a14255": {
          "model_module": "@jupyter-widgets/base",
          "model_name": "LayoutModel",
          "model_module_version": "1.2.0",
          "state": {
            "_model_module": "@jupyter-widgets/base",
            "_model_module_version": "1.2.0",
            "_model_name": "LayoutModel",
            "_view_count": null,
            "_view_module": "@jupyter-widgets/base",
            "_view_module_version": "1.2.0",
            "_view_name": "LayoutView",
            "align_content": null,
            "align_items": null,
            "align_self": null,
            "border": null,
            "bottom": null,
            "display": null,
            "flex": null,
            "flex_flow": null,
            "grid_area": null,
            "grid_auto_columns": null,
            "grid_auto_flow": null,
            "grid_auto_rows": null,
            "grid_column": null,
            "grid_gap": null,
            "grid_row": null,
            "grid_template_areas": null,
            "grid_template_columns": null,
            "grid_template_rows": null,
            "height": null,
            "justify_content": null,
            "justify_items": null,
            "left": null,
            "margin": null,
            "max_height": null,
            "max_width": null,
            "min_height": null,
            "min_width": null,
            "object_fit": null,
            "object_position": null,
            "order": null,
            "overflow": null,
            "overflow_x": null,
            "overflow_y": null,
            "padding": null,
            "right": null,
            "top": null,
            "visibility": null,
            "width": null
          }
        },
        "69798663ec9d42a08468c0440874db4c": {
          "model_module": "@jupyter-widgets/controls",
          "model_name": "ProgressStyleModel",
          "model_module_version": "1.5.0",
          "state": {
            "_model_module": "@jupyter-widgets/controls",
            "_model_module_version": "1.5.0",
            "_model_name": "ProgressStyleModel",
            "_view_count": null,
            "_view_module": "@jupyter-widgets/base",
            "_view_module_version": "1.2.0",
            "_view_name": "StyleView",
            "bar_color": null,
            "description_width": ""
          }
        },
        "6c4d98a5c72a46a7b21f621bce8a227f": {
          "model_module": "@jupyter-widgets/base",
          "model_name": "LayoutModel",
          "model_module_version": "1.2.0",
          "state": {
            "_model_module": "@jupyter-widgets/base",
            "_model_module_version": "1.2.0",
            "_model_name": "LayoutModel",
            "_view_count": null,
            "_view_module": "@jupyter-widgets/base",
            "_view_module_version": "1.2.0",
            "_view_name": "LayoutView",
            "align_content": null,
            "align_items": null,
            "align_self": null,
            "border": null,
            "bottom": null,
            "display": null,
            "flex": null,
            "flex_flow": null,
            "grid_area": null,
            "grid_auto_columns": null,
            "grid_auto_flow": null,
            "grid_auto_rows": null,
            "grid_column": null,
            "grid_gap": null,
            "grid_row": null,
            "grid_template_areas": null,
            "grid_template_columns": null,
            "grid_template_rows": null,
            "height": null,
            "justify_content": null,
            "justify_items": null,
            "left": null,
            "margin": null,
            "max_height": null,
            "max_width": null,
            "min_height": null,
            "min_width": null,
            "object_fit": null,
            "object_position": null,
            "order": null,
            "overflow": null,
            "overflow_x": null,
            "overflow_y": null,
            "padding": null,
            "right": null,
            "top": null,
            "visibility": null,
            "width": null
          }
        },
        "6d9daf2a05ad468a9aaa05431e91ab1d": {
          "model_module": "@jupyter-widgets/controls",
          "model_name": "DescriptionStyleModel",
          "model_module_version": "1.5.0",
          "state": {
            "_model_module": "@jupyter-widgets/controls",
            "_model_module_version": "1.5.0",
            "_model_name": "DescriptionStyleModel",
            "_view_count": null,
            "_view_module": "@jupyter-widgets/base",
            "_view_module_version": "1.2.0",
            "_view_name": "StyleView",
            "description_width": ""
          }
        },
        "1936c0d797c446a9ac0c6c15688f2b37": {
          "model_module": "@jupyter-widgets/controls",
          "model_name": "HBoxModel",
          "model_module_version": "1.5.0",
          "state": {
            "_dom_classes": [],
            "_model_module": "@jupyter-widgets/controls",
            "_model_module_version": "1.5.0",
            "_model_name": "HBoxModel",
            "_view_count": null,
            "_view_module": "@jupyter-widgets/controls",
            "_view_module_version": "1.5.0",
            "_view_name": "HBoxView",
            "box_style": "",
            "children": [
              "IPY_MODEL_05e78cf4a8c24201a247ea6d58a441e1",
              "IPY_MODEL_7d2722a204874e25be5b4ffa42e9d3d7",
              "IPY_MODEL_0950177f5cbf413a9a9d6b16805d4b79"
            ],
            "layout": "IPY_MODEL_abcabfadc97043e0aec8700c5f80cdb3"
          }
        },
        "05e78cf4a8c24201a247ea6d58a441e1": {
          "model_module": "@jupyter-widgets/controls",
          "model_name": "HTMLModel",
          "model_module_version": "1.5.0",
          "state": {
            "_dom_classes": [],
            "_model_module": "@jupyter-widgets/controls",
            "_model_module_version": "1.5.0",
            "_model_name": "HTMLModel",
            "_view_count": null,
            "_view_module": "@jupyter-widgets/controls",
            "_view_module_version": "1.5.0",
            "_view_name": "HTMLView",
            "description": "",
            "description_tooltip": null,
            "layout": "IPY_MODEL_3e7d892a12214b148d5bea45bdd2768b",
            "placeholder": "​",
            "style": "IPY_MODEL_16ab0a8229ed46939b4b1ba6893d2d5e",
            "value": "tokenizer.json: 100%"
          }
        },
        "7d2722a204874e25be5b4ffa42e9d3d7": {
          "model_module": "@jupyter-widgets/controls",
          "model_name": "FloatProgressModel",
          "model_module_version": "1.5.0",
          "state": {
            "_dom_classes": [],
            "_model_module": "@jupyter-widgets/controls",
            "_model_module_version": "1.5.0",
            "_model_name": "FloatProgressModel",
            "_view_count": null,
            "_view_module": "@jupyter-widgets/controls",
            "_view_module_version": "1.5.0",
            "_view_name": "ProgressView",
            "bar_style": "success",
            "description": "",
            "description_tooltip": null,
            "layout": "IPY_MODEL_53c995874702407b920dcfc49a9131cd",
            "max": 1355863,
            "min": 0,
            "orientation": "horizontal",
            "style": "IPY_MODEL_14d179c83af8444f90eda64f0e4f3eb5",
            "value": 1355863
          }
        },
        "0950177f5cbf413a9a9d6b16805d4b79": {
          "model_module": "@jupyter-widgets/controls",
          "model_name": "HTMLModel",
          "model_module_version": "1.5.0",
          "state": {
            "_dom_classes": [],
            "_model_module": "@jupyter-widgets/controls",
            "_model_module_version": "1.5.0",
            "_model_name": "HTMLModel",
            "_view_count": null,
            "_view_module": "@jupyter-widgets/controls",
            "_view_module_version": "1.5.0",
            "_view_name": "HTMLView",
            "description": "",
            "description_tooltip": null,
            "layout": "IPY_MODEL_1ba84ce6ab9a4b6f95844dbf7cd4682f",
            "placeholder": "​",
            "style": "IPY_MODEL_00f35df2b8b94ae4ac4e4c570b1dc788",
            "value": " 1.36M/1.36M [00:00&lt;00:00, 18.3MB/s]"
          }
        },
        "abcabfadc97043e0aec8700c5f80cdb3": {
          "model_module": "@jupyter-widgets/base",
          "model_name": "LayoutModel",
          "model_module_version": "1.2.0",
          "state": {
            "_model_module": "@jupyter-widgets/base",
            "_model_module_version": "1.2.0",
            "_model_name": "LayoutModel",
            "_view_count": null,
            "_view_module": "@jupyter-widgets/base",
            "_view_module_version": "1.2.0",
            "_view_name": "LayoutView",
            "align_content": null,
            "align_items": null,
            "align_self": null,
            "border": null,
            "bottom": null,
            "display": null,
            "flex": null,
            "flex_flow": null,
            "grid_area": null,
            "grid_auto_columns": null,
            "grid_auto_flow": null,
            "grid_auto_rows": null,
            "grid_column": null,
            "grid_gap": null,
            "grid_row": null,
            "grid_template_areas": null,
            "grid_template_columns": null,
            "grid_template_rows": null,
            "height": null,
            "justify_content": null,
            "justify_items": null,
            "left": null,
            "margin": null,
            "max_height": null,
            "max_width": null,
            "min_height": null,
            "min_width": null,
            "object_fit": null,
            "object_position": null,
            "order": null,
            "overflow": null,
            "overflow_x": null,
            "overflow_y": null,
            "padding": null,
            "right": null,
            "top": null,
            "visibility": null,
            "width": null
          }
        },
        "3e7d892a12214b148d5bea45bdd2768b": {
          "model_module": "@jupyter-widgets/base",
          "model_name": "LayoutModel",
          "model_module_version": "1.2.0",
          "state": {
            "_model_module": "@jupyter-widgets/base",
            "_model_module_version": "1.2.0",
            "_model_name": "LayoutModel",
            "_view_count": null,
            "_view_module": "@jupyter-widgets/base",
            "_view_module_version": "1.2.0",
            "_view_name": "LayoutView",
            "align_content": null,
            "align_items": null,
            "align_self": null,
            "border": null,
            "bottom": null,
            "display": null,
            "flex": null,
            "flex_flow": null,
            "grid_area": null,
            "grid_auto_columns": null,
            "grid_auto_flow": null,
            "grid_auto_rows": null,
            "grid_column": null,
            "grid_gap": null,
            "grid_row": null,
            "grid_template_areas": null,
            "grid_template_columns": null,
            "grid_template_rows": null,
            "height": null,
            "justify_content": null,
            "justify_items": null,
            "left": null,
            "margin": null,
            "max_height": null,
            "max_width": null,
            "min_height": null,
            "min_width": null,
            "object_fit": null,
            "object_position": null,
            "order": null,
            "overflow": null,
            "overflow_x": null,
            "overflow_y": null,
            "padding": null,
            "right": null,
            "top": null,
            "visibility": null,
            "width": null
          }
        },
        "16ab0a8229ed46939b4b1ba6893d2d5e": {
          "model_module": "@jupyter-widgets/controls",
          "model_name": "DescriptionStyleModel",
          "model_module_version": "1.5.0",
          "state": {
            "_model_module": "@jupyter-widgets/controls",
            "_model_module_version": "1.5.0",
            "_model_name": "DescriptionStyleModel",
            "_view_count": null,
            "_view_module": "@jupyter-widgets/base",
            "_view_module_version": "1.2.0",
            "_view_name": "StyleView",
            "description_width": ""
          }
        },
        "53c995874702407b920dcfc49a9131cd": {
          "model_module": "@jupyter-widgets/base",
          "model_name": "LayoutModel",
          "model_module_version": "1.2.0",
          "state": {
            "_model_module": "@jupyter-widgets/base",
            "_model_module_version": "1.2.0",
            "_model_name": "LayoutModel",
            "_view_count": null,
            "_view_module": "@jupyter-widgets/base",
            "_view_module_version": "1.2.0",
            "_view_name": "LayoutView",
            "align_content": null,
            "align_items": null,
            "align_self": null,
            "border": null,
            "bottom": null,
            "display": null,
            "flex": null,
            "flex_flow": null,
            "grid_area": null,
            "grid_auto_columns": null,
            "grid_auto_flow": null,
            "grid_auto_rows": null,
            "grid_column": null,
            "grid_gap": null,
            "grid_row": null,
            "grid_template_areas": null,
            "grid_template_columns": null,
            "grid_template_rows": null,
            "height": null,
            "justify_content": null,
            "justify_items": null,
            "left": null,
            "margin": null,
            "max_height": null,
            "max_width": null,
            "min_height": null,
            "min_width": null,
            "object_fit": null,
            "object_position": null,
            "order": null,
            "overflow": null,
            "overflow_x": null,
            "overflow_y": null,
            "padding": null,
            "right": null,
            "top": null,
            "visibility": null,
            "width": null
          }
        },
        "14d179c83af8444f90eda64f0e4f3eb5": {
          "model_module": "@jupyter-widgets/controls",
          "model_name": "ProgressStyleModel",
          "model_module_version": "1.5.0",
          "state": {
            "_model_module": "@jupyter-widgets/controls",
            "_model_module_version": "1.5.0",
            "_model_name": "ProgressStyleModel",
            "_view_count": null,
            "_view_module": "@jupyter-widgets/base",
            "_view_module_version": "1.2.0",
            "_view_name": "StyleView",
            "bar_color": null,
            "description_width": ""
          }
        },
        "1ba84ce6ab9a4b6f95844dbf7cd4682f": {
          "model_module": "@jupyter-widgets/base",
          "model_name": "LayoutModel",
          "model_module_version": "1.2.0",
          "state": {
            "_model_module": "@jupyter-widgets/base",
            "_model_module_version": "1.2.0",
            "_model_name": "LayoutModel",
            "_view_count": null,
            "_view_module": "@jupyter-widgets/base",
            "_view_module_version": "1.2.0",
            "_view_name": "LayoutView",
            "align_content": null,
            "align_items": null,
            "align_self": null,
            "border": null,
            "bottom": null,
            "display": null,
            "flex": null,
            "flex_flow": null,
            "grid_area": null,
            "grid_auto_columns": null,
            "grid_auto_flow": null,
            "grid_auto_rows": null,
            "grid_column": null,
            "grid_gap": null,
            "grid_row": null,
            "grid_template_areas": null,
            "grid_template_columns": null,
            "grid_template_rows": null,
            "height": null,
            "justify_content": null,
            "justify_items": null,
            "left": null,
            "margin": null,
            "max_height": null,
            "max_width": null,
            "min_height": null,
            "min_width": null,
            "object_fit": null,
            "object_position": null,
            "order": null,
            "overflow": null,
            "overflow_x": null,
            "overflow_y": null,
            "padding": null,
            "right": null,
            "top": null,
            "visibility": null,
            "width": null
          }
        },
        "00f35df2b8b94ae4ac4e4c570b1dc788": {
          "model_module": "@jupyter-widgets/controls",
          "model_name": "DescriptionStyleModel",
          "model_module_version": "1.5.0",
          "state": {
            "_model_module": "@jupyter-widgets/controls",
            "_model_module_version": "1.5.0",
            "_model_name": "DescriptionStyleModel",
            "_view_count": null,
            "_view_module": "@jupyter-widgets/base",
            "_view_module_version": "1.2.0",
            "_view_name": "StyleView",
            "description_width": ""
          }
        },
        "26918756f2da4f4693517d1b18d8655e": {
          "model_module": "@jupyter-widgets/controls",
          "model_name": "HBoxModel",
          "model_module_version": "1.5.0",
          "state": {
            "_dom_classes": [],
            "_model_module": "@jupyter-widgets/controls",
            "_model_module_version": "1.5.0",
            "_model_name": "HBoxModel",
            "_view_count": null,
            "_view_module": "@jupyter-widgets/controls",
            "_view_module_version": "1.5.0",
            "_view_name": "HBoxView",
            "box_style": "",
            "children": [
              "IPY_MODEL_3e727d8df5f64aa9af2918b8107f4a88",
              "IPY_MODEL_2c27bd557ba841969bfefb5b57e5add7",
              "IPY_MODEL_8c17a5d3944b431391f8ee452f3da95e"
            ],
            "layout": "IPY_MODEL_3fa12bdbeaae42cbb0e8b9a443d98bfc"
          }
        },
        "3e727d8df5f64aa9af2918b8107f4a88": {
          "model_module": "@jupyter-widgets/controls",
          "model_name": "HTMLModel",
          "model_module_version": "1.5.0",
          "state": {
            "_dom_classes": [],
            "_model_module": "@jupyter-widgets/controls",
            "_model_module_version": "1.5.0",
            "_model_name": "HTMLModel",
            "_view_count": null,
            "_view_module": "@jupyter-widgets/controls",
            "_view_module_version": "1.5.0",
            "_view_name": "HTMLView",
            "description": "",
            "description_tooltip": null,
            "layout": "IPY_MODEL_c94544c029df43539d4cfcade49620bf",
            "placeholder": "​",
            "style": "IPY_MODEL_7dd8b9245e7a47c1b8a406357e8e9765",
            "value": "config.json: 100%"
          }
        },
        "2c27bd557ba841969bfefb5b57e5add7": {
          "model_module": "@jupyter-widgets/controls",
          "model_name": "FloatProgressModel",
          "model_module_version": "1.5.0",
          "state": {
            "_dom_classes": [],
            "_model_module": "@jupyter-widgets/controls",
            "_model_module_version": "1.5.0",
            "_model_name": "FloatProgressModel",
            "_view_count": null,
            "_view_module": "@jupyter-widgets/controls",
            "_view_module_version": "1.5.0",
            "_view_name": "ProgressView",
            "bar_style": "success",
            "description": "",
            "description_tooltip": null,
            "layout": "IPY_MODEL_fc643b296cbe492d8eb57c2ea0badf1e",
            "max": 481,
            "min": 0,
            "orientation": "horizontal",
            "style": "IPY_MODEL_3e82f8b2163641139cb18a7dbbd8115c",
            "value": 481
          }
        },
        "8c17a5d3944b431391f8ee452f3da95e": {
          "model_module": "@jupyter-widgets/controls",
          "model_name": "HTMLModel",
          "model_module_version": "1.5.0",
          "state": {
            "_dom_classes": [],
            "_model_module": "@jupyter-widgets/controls",
            "_model_module_version": "1.5.0",
            "_model_name": "HTMLModel",
            "_view_count": null,
            "_view_module": "@jupyter-widgets/controls",
            "_view_module_version": "1.5.0",
            "_view_name": "HTMLView",
            "description": "",
            "description_tooltip": null,
            "layout": "IPY_MODEL_7b7e075957504bc0a07c069b01d7ecad",
            "placeholder": "​",
            "style": "IPY_MODEL_8a5d5516b9394e68814a115a8153b932",
            "value": " 481/481 [00:00&lt;00:00, 14.8kB/s]"
          }
        },
        "3fa12bdbeaae42cbb0e8b9a443d98bfc": {
          "model_module": "@jupyter-widgets/base",
          "model_name": "LayoutModel",
          "model_module_version": "1.2.0",
          "state": {
            "_model_module": "@jupyter-widgets/base",
            "_model_module_version": "1.2.0",
            "_model_name": "LayoutModel",
            "_view_count": null,
            "_view_module": "@jupyter-widgets/base",
            "_view_module_version": "1.2.0",
            "_view_name": "LayoutView",
            "align_content": null,
            "align_items": null,
            "align_self": null,
            "border": null,
            "bottom": null,
            "display": null,
            "flex": null,
            "flex_flow": null,
            "grid_area": null,
            "grid_auto_columns": null,
            "grid_auto_flow": null,
            "grid_auto_rows": null,
            "grid_column": null,
            "grid_gap": null,
            "grid_row": null,
            "grid_template_areas": null,
            "grid_template_columns": null,
            "grid_template_rows": null,
            "height": null,
            "justify_content": null,
            "justify_items": null,
            "left": null,
            "margin": null,
            "max_height": null,
            "max_width": null,
            "min_height": null,
            "min_width": null,
            "object_fit": null,
            "object_position": null,
            "order": null,
            "overflow": null,
            "overflow_x": null,
            "overflow_y": null,
            "padding": null,
            "right": null,
            "top": null,
            "visibility": null,
            "width": null
          }
        },
        "c94544c029df43539d4cfcade49620bf": {
          "model_module": "@jupyter-widgets/base",
          "model_name": "LayoutModel",
          "model_module_version": "1.2.0",
          "state": {
            "_model_module": "@jupyter-widgets/base",
            "_model_module_version": "1.2.0",
            "_model_name": "LayoutModel",
            "_view_count": null,
            "_view_module": "@jupyter-widgets/base",
            "_view_module_version": "1.2.0",
            "_view_name": "LayoutView",
            "align_content": null,
            "align_items": null,
            "align_self": null,
            "border": null,
            "bottom": null,
            "display": null,
            "flex": null,
            "flex_flow": null,
            "grid_area": null,
            "grid_auto_columns": null,
            "grid_auto_flow": null,
            "grid_auto_rows": null,
            "grid_column": null,
            "grid_gap": null,
            "grid_row": null,
            "grid_template_areas": null,
            "grid_template_columns": null,
            "grid_template_rows": null,
            "height": null,
            "justify_content": null,
            "justify_items": null,
            "left": null,
            "margin": null,
            "max_height": null,
            "max_width": null,
            "min_height": null,
            "min_width": null,
            "object_fit": null,
            "object_position": null,
            "order": null,
            "overflow": null,
            "overflow_x": null,
            "overflow_y": null,
            "padding": null,
            "right": null,
            "top": null,
            "visibility": null,
            "width": null
          }
        },
        "7dd8b9245e7a47c1b8a406357e8e9765": {
          "model_module": "@jupyter-widgets/controls",
          "model_name": "DescriptionStyleModel",
          "model_module_version": "1.5.0",
          "state": {
            "_model_module": "@jupyter-widgets/controls",
            "_model_module_version": "1.5.0",
            "_model_name": "DescriptionStyleModel",
            "_view_count": null,
            "_view_module": "@jupyter-widgets/base",
            "_view_module_version": "1.2.0",
            "_view_name": "StyleView",
            "description_width": ""
          }
        },
        "fc643b296cbe492d8eb57c2ea0badf1e": {
          "model_module": "@jupyter-widgets/base",
          "model_name": "LayoutModel",
          "model_module_version": "1.2.0",
          "state": {
            "_model_module": "@jupyter-widgets/base",
            "_model_module_version": "1.2.0",
            "_model_name": "LayoutModel",
            "_view_count": null,
            "_view_module": "@jupyter-widgets/base",
            "_view_module_version": "1.2.0",
            "_view_name": "LayoutView",
            "align_content": null,
            "align_items": null,
            "align_self": null,
            "border": null,
            "bottom": null,
            "display": null,
            "flex": null,
            "flex_flow": null,
            "grid_area": null,
            "grid_auto_columns": null,
            "grid_auto_flow": null,
            "grid_auto_rows": null,
            "grid_column": null,
            "grid_gap": null,
            "grid_row": null,
            "grid_template_areas": null,
            "grid_template_columns": null,
            "grid_template_rows": null,
            "height": null,
            "justify_content": null,
            "justify_items": null,
            "left": null,
            "margin": null,
            "max_height": null,
            "max_width": null,
            "min_height": null,
            "min_width": null,
            "object_fit": null,
            "object_position": null,
            "order": null,
            "overflow": null,
            "overflow_x": null,
            "overflow_y": null,
            "padding": null,
            "right": null,
            "top": null,
            "visibility": null,
            "width": null
          }
        },
        "3e82f8b2163641139cb18a7dbbd8115c": {
          "model_module": "@jupyter-widgets/controls",
          "model_name": "ProgressStyleModel",
          "model_module_version": "1.5.0",
          "state": {
            "_model_module": "@jupyter-widgets/controls",
            "_model_module_version": "1.5.0",
            "_model_name": "ProgressStyleModel",
            "_view_count": null,
            "_view_module": "@jupyter-widgets/base",
            "_view_module_version": "1.2.0",
            "_view_name": "StyleView",
            "bar_color": null,
            "description_width": ""
          }
        },
        "7b7e075957504bc0a07c069b01d7ecad": {
          "model_module": "@jupyter-widgets/base",
          "model_name": "LayoutModel",
          "model_module_version": "1.2.0",
          "state": {
            "_model_module": "@jupyter-widgets/base",
            "_model_module_version": "1.2.0",
            "_model_name": "LayoutModel",
            "_view_count": null,
            "_view_module": "@jupyter-widgets/base",
            "_view_module_version": "1.2.0",
            "_view_name": "LayoutView",
            "align_content": null,
            "align_items": null,
            "align_self": null,
            "border": null,
            "bottom": null,
            "display": null,
            "flex": null,
            "flex_flow": null,
            "grid_area": null,
            "grid_auto_columns": null,
            "grid_auto_flow": null,
            "grid_auto_rows": null,
            "grid_column": null,
            "grid_gap": null,
            "grid_row": null,
            "grid_template_areas": null,
            "grid_template_columns": null,
            "grid_template_rows": null,
            "height": null,
            "justify_content": null,
            "justify_items": null,
            "left": null,
            "margin": null,
            "max_height": null,
            "max_width": null,
            "min_height": null,
            "min_width": null,
            "object_fit": null,
            "object_position": null,
            "order": null,
            "overflow": null,
            "overflow_x": null,
            "overflow_y": null,
            "padding": null,
            "right": null,
            "top": null,
            "visibility": null,
            "width": null
          }
        },
        "8a5d5516b9394e68814a115a8153b932": {
          "model_module": "@jupyter-widgets/controls",
          "model_name": "DescriptionStyleModel",
          "model_module_version": "1.5.0",
          "state": {
            "_model_module": "@jupyter-widgets/controls",
            "_model_module_version": "1.5.0",
            "_model_name": "DescriptionStyleModel",
            "_view_count": null,
            "_view_module": "@jupyter-widgets/base",
            "_view_module_version": "1.2.0",
            "_view_name": "StyleView",
            "description_width": ""
          }
        },
        "b4c06a73fb6e481aba0d937b7eaf3d8f": {
          "model_module": "@jupyter-widgets/controls",
          "model_name": "HBoxModel",
          "model_module_version": "1.5.0",
          "state": {
            "_dom_classes": [],
            "_model_module": "@jupyter-widgets/controls",
            "_model_module_version": "1.5.0",
            "_model_name": "HBoxModel",
            "_view_count": null,
            "_view_module": "@jupyter-widgets/controls",
            "_view_module_version": "1.5.0",
            "_view_name": "HBoxView",
            "box_style": "",
            "children": [
              "IPY_MODEL_69aa6d3a64fe402bba2ed2e5b669cfe0",
              "IPY_MODEL_e950f6e3a7c5439e9f8fe2cfcbcfcdd6",
              "IPY_MODEL_ccb57edaf0864f7d85e0ff2be4293d17"
            ],
            "layout": "IPY_MODEL_841ba5f912c947d0aabe1f2e827b3026"
          }
        },
        "69aa6d3a64fe402bba2ed2e5b669cfe0": {
          "model_module": "@jupyter-widgets/controls",
          "model_name": "HTMLModel",
          "model_module_version": "1.5.0",
          "state": {
            "_dom_classes": [],
            "_model_module": "@jupyter-widgets/controls",
            "_model_module_version": "1.5.0",
            "_model_name": "HTMLModel",
            "_view_count": null,
            "_view_module": "@jupyter-widgets/controls",
            "_view_module_version": "1.5.0",
            "_view_name": "HTMLView",
            "description": "",
            "description_tooltip": null,
            "layout": "IPY_MODEL_d482bd44d68643d88878038a73e90b13",
            "placeholder": "​",
            "style": "IPY_MODEL_0a02e0f065e348aea10cf4d6bca5444c",
            "value": "model.safetensors: 100%"
          }
        },
        "e950f6e3a7c5439e9f8fe2cfcbcfcdd6": {
          "model_module": "@jupyter-widgets/controls",
          "model_name": "FloatProgressModel",
          "model_module_version": "1.5.0",
          "state": {
            "_dom_classes": [],
            "_model_module": "@jupyter-widgets/controls",
            "_model_module_version": "1.5.0",
            "_model_name": "FloatProgressModel",
            "_view_count": null,
            "_view_module": "@jupyter-widgets/controls",
            "_view_module_version": "1.5.0",
            "_view_name": "ProgressView",
            "bar_style": "success",
            "description": "",
            "description_tooltip": null,
            "layout": "IPY_MODEL_19271da720054f2a92b1b56fce807277",
            "max": 498818054,
            "min": 0,
            "orientation": "horizontal",
            "style": "IPY_MODEL_c35b456729f94e0da590583e32839691",
            "value": 498818054
          }
        },
        "ccb57edaf0864f7d85e0ff2be4293d17": {
          "model_module": "@jupyter-widgets/controls",
          "model_name": "HTMLModel",
          "model_module_version": "1.5.0",
          "state": {
            "_dom_classes": [],
            "_model_module": "@jupyter-widgets/controls",
            "_model_module_version": "1.5.0",
            "_model_name": "HTMLModel",
            "_view_count": null,
            "_view_module": "@jupyter-widgets/controls",
            "_view_module_version": "1.5.0",
            "_view_name": "HTMLView",
            "description": "",
            "description_tooltip": null,
            "layout": "IPY_MODEL_35767a0fdf9442a996678b435695a2e0",
            "placeholder": "​",
            "style": "IPY_MODEL_92833270c9d54bc9a6838aa75aa98369",
            "value": " 499M/499M [00:06&lt;00:00, 112MB/s]"
          }
        },
        "841ba5f912c947d0aabe1f2e827b3026": {
          "model_module": "@jupyter-widgets/base",
          "model_name": "LayoutModel",
          "model_module_version": "1.2.0",
          "state": {
            "_model_module": "@jupyter-widgets/base",
            "_model_module_version": "1.2.0",
            "_model_name": "LayoutModel",
            "_view_count": null,
            "_view_module": "@jupyter-widgets/base",
            "_view_module_version": "1.2.0",
            "_view_name": "LayoutView",
            "align_content": null,
            "align_items": null,
            "align_self": null,
            "border": null,
            "bottom": null,
            "display": null,
            "flex": null,
            "flex_flow": null,
            "grid_area": null,
            "grid_auto_columns": null,
            "grid_auto_flow": null,
            "grid_auto_rows": null,
            "grid_column": null,
            "grid_gap": null,
            "grid_row": null,
            "grid_template_areas": null,
            "grid_template_columns": null,
            "grid_template_rows": null,
            "height": null,
            "justify_content": null,
            "justify_items": null,
            "left": null,
            "margin": null,
            "max_height": null,
            "max_width": null,
            "min_height": null,
            "min_width": null,
            "object_fit": null,
            "object_position": null,
            "order": null,
            "overflow": null,
            "overflow_x": null,
            "overflow_y": null,
            "padding": null,
            "right": null,
            "top": null,
            "visibility": null,
            "width": null
          }
        },
        "d482bd44d68643d88878038a73e90b13": {
          "model_module": "@jupyter-widgets/base",
          "model_name": "LayoutModel",
          "model_module_version": "1.2.0",
          "state": {
            "_model_module": "@jupyter-widgets/base",
            "_model_module_version": "1.2.0",
            "_model_name": "LayoutModel",
            "_view_count": null,
            "_view_module": "@jupyter-widgets/base",
            "_view_module_version": "1.2.0",
            "_view_name": "LayoutView",
            "align_content": null,
            "align_items": null,
            "align_self": null,
            "border": null,
            "bottom": null,
            "display": null,
            "flex": null,
            "flex_flow": null,
            "grid_area": null,
            "grid_auto_columns": null,
            "grid_auto_flow": null,
            "grid_auto_rows": null,
            "grid_column": null,
            "grid_gap": null,
            "grid_row": null,
            "grid_template_areas": null,
            "grid_template_columns": null,
            "grid_template_rows": null,
            "height": null,
            "justify_content": null,
            "justify_items": null,
            "left": null,
            "margin": null,
            "max_height": null,
            "max_width": null,
            "min_height": null,
            "min_width": null,
            "object_fit": null,
            "object_position": null,
            "order": null,
            "overflow": null,
            "overflow_x": null,
            "overflow_y": null,
            "padding": null,
            "right": null,
            "top": null,
            "visibility": null,
            "width": null
          }
        },
        "0a02e0f065e348aea10cf4d6bca5444c": {
          "model_module": "@jupyter-widgets/controls",
          "model_name": "DescriptionStyleModel",
          "model_module_version": "1.5.0",
          "state": {
            "_model_module": "@jupyter-widgets/controls",
            "_model_module_version": "1.5.0",
            "_model_name": "DescriptionStyleModel",
            "_view_count": null,
            "_view_module": "@jupyter-widgets/base",
            "_view_module_version": "1.2.0",
            "_view_name": "StyleView",
            "description_width": ""
          }
        },
        "19271da720054f2a92b1b56fce807277": {
          "model_module": "@jupyter-widgets/base",
          "model_name": "LayoutModel",
          "model_module_version": "1.2.0",
          "state": {
            "_model_module": "@jupyter-widgets/base",
            "_model_module_version": "1.2.0",
            "_model_name": "LayoutModel",
            "_view_count": null,
            "_view_module": "@jupyter-widgets/base",
            "_view_module_version": "1.2.0",
            "_view_name": "LayoutView",
            "align_content": null,
            "align_items": null,
            "align_self": null,
            "border": null,
            "bottom": null,
            "display": null,
            "flex": null,
            "flex_flow": null,
            "grid_area": null,
            "grid_auto_columns": null,
            "grid_auto_flow": null,
            "grid_auto_rows": null,
            "grid_column": null,
            "grid_gap": null,
            "grid_row": null,
            "grid_template_areas": null,
            "grid_template_columns": null,
            "grid_template_rows": null,
            "height": null,
            "justify_content": null,
            "justify_items": null,
            "left": null,
            "margin": null,
            "max_height": null,
            "max_width": null,
            "min_height": null,
            "min_width": null,
            "object_fit": null,
            "object_position": null,
            "order": null,
            "overflow": null,
            "overflow_x": null,
            "overflow_y": null,
            "padding": null,
            "right": null,
            "top": null,
            "visibility": null,
            "width": null
          }
        },
        "c35b456729f94e0da590583e32839691": {
          "model_module": "@jupyter-widgets/controls",
          "model_name": "ProgressStyleModel",
          "model_module_version": "1.5.0",
          "state": {
            "_model_module": "@jupyter-widgets/controls",
            "_model_module_version": "1.5.0",
            "_model_name": "ProgressStyleModel",
            "_view_count": null,
            "_view_module": "@jupyter-widgets/base",
            "_view_module_version": "1.2.0",
            "_view_name": "StyleView",
            "bar_color": null,
            "description_width": ""
          }
        },
        "35767a0fdf9442a996678b435695a2e0": {
          "model_module": "@jupyter-widgets/base",
          "model_name": "LayoutModel",
          "model_module_version": "1.2.0",
          "state": {
            "_model_module": "@jupyter-widgets/base",
            "_model_module_version": "1.2.0",
            "_model_name": "LayoutModel",
            "_view_count": null,
            "_view_module": "@jupyter-widgets/base",
            "_view_module_version": "1.2.0",
            "_view_name": "LayoutView",
            "align_content": null,
            "align_items": null,
            "align_self": null,
            "border": null,
            "bottom": null,
            "display": null,
            "flex": null,
            "flex_flow": null,
            "grid_area": null,
            "grid_auto_columns": null,
            "grid_auto_flow": null,
            "grid_auto_rows": null,
            "grid_column": null,
            "grid_gap": null,
            "grid_row": null,
            "grid_template_areas": null,
            "grid_template_columns": null,
            "grid_template_rows": null,
            "height": null,
            "justify_content": null,
            "justify_items": null,
            "left": null,
            "margin": null,
            "max_height": null,
            "max_width": null,
            "min_height": null,
            "min_width": null,
            "object_fit": null,
            "object_position": null,
            "order": null,
            "overflow": null,
            "overflow_x": null,
            "overflow_y": null,
            "padding": null,
            "right": null,
            "top": null,
            "visibility": null,
            "width": null
          }
        },
        "92833270c9d54bc9a6838aa75aa98369": {
          "model_module": "@jupyter-widgets/controls",
          "model_name": "DescriptionStyleModel",
          "model_module_version": "1.5.0",
          "state": {
            "_model_module": "@jupyter-widgets/controls",
            "_model_module_version": "1.5.0",
            "_model_name": "DescriptionStyleModel",
            "_view_count": null,
            "_view_module": "@jupyter-widgets/base",
            "_view_module_version": "1.2.0",
            "_view_name": "StyleView",
            "description_width": ""
          }
        }
      }
    },
    "kaggle": {
      "accelerator": "gpu",
      "dataSources": [
        {
          "sourceId": 16290,
          "sourceType": "datasetVersion",
          "datasetId": 11827
        }
      ],
      "dockerImageVersionId": 30733,
      "isInternetEnabled": true,
      "language": "python",
      "sourceType": "notebook",
      "isGpuEnabled": true
    }
  },
  "nbformat_minor": 0,
  "nbformat": 4,
  "cells": [
    {
      "cell_type": "markdown",
      "source": [
        "## Hugging face"
      ],
      "metadata": {
        "id": "dfdiadV6VhHg"
      }
    },
    {
      "cell_type": "markdown",
      "source": [
        "![image.png](data:image/png;base64,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)"
      ],
      "metadata": {
        "id": "EAaIWgIoZD7v"
      }
    },
    {
      "cell_type": "markdown",
      "source": [
        "**Ключевые паттерны API**\n",
        "\n",
        "* **`from_pretrained()`** — загружает веса/словари с 🤗 Hub (локальный кэш).\n",
        "* **`Auto*`-классы** — динамически подбирают нужную реализацию по `config.json` модели.\n",
        "* **`pipeline()`** — всё-в-одном для инференса.\n",
        "* **`Trainer`** — высокоуровневый training loop с логированием, сохранением чекпойнтов, early-stopping, мульти-GPU.\n",
        "* **`TrainingArguments`** — всё про расписание обучения, бачи, mixed-precision, evaluation-strategy."
      ],
      "metadata": {
        "id": "kNAlKI9LYkxb"
      }
    },
    {
      "cell_type": "markdown",
      "source": [
        "## Encoder"
      ],
      "metadata": {
        "id": "64VkgZiIWeDc"
      }
    },
    {
      "cell_type": "code",
      "source": [
        "# !pip install transformers[torch] datasets"
      ],
      "metadata": {
        "id": "7aPA9sNGQtd5",
        "execution": {
          "iopub.status.busy": "2024-06-15T16:45:02.230491Z",
          "iopub.status.idle": "2024-06-15T16:45:02.230805Z",
          "shell.execute_reply.started": "2024-06-15T16:45:02.230651Z",
          "shell.execute_reply": "2024-06-15T16:45:02.230664Z"
        },
        "trusted": true
      },
      "execution_count": null,
      "outputs": []
    },
    {
      "cell_type": "code",
      "source": [
        "import pandas as pd\n",
        "import numpy as np\n",
        "import re # работа с регулярными выражениями (очистка текста)\n",
        "import string\n",
        "\n",
        "# Импорт библиотеки NLTK для работы с текстом\n",
        "import nltk\n",
        "from nltk.corpus import stopwords\n",
        "\n",
        "from datasets import Dataset\n",
        "\n",
        "from sklearn.metrics import f1_score\n",
        "from sklearn.model_selection import train_test_split\n",
        "\n",
        "from transformers import Trainer, TrainingArguments\n",
        "from transformers import BertTokenizer, BertForSequenceClassification\n",
        "from transformers import RobertaTokenizer, RobertaForSequenceClassification\n",
        "from transformers import DistilBertTokenizer, DistilBertForSequenceClassification"
      ],
      "metadata": {
        "id": "VIP6_ga2-EuM",
        "execution": {
          "iopub.status.busy": "2024-06-15T19:51:10.852586Z",
          "iopub.execute_input": "2024-06-15T19:51:10.852874Z",
          "iopub.status.idle": "2024-06-15T19:51:30.821527Z",
          "shell.execute_reply.started": "2024-06-15T19:51:10.852851Z",
          "shell.execute_reply": "2024-06-15T19:51:30.820709Z"
        },
        "trusted": true
      },
      "execution_count": null,
      "outputs": []
    },
    {
      "cell_type": "code",
      "source": [
        "# Ноутбук запускался в среде kaggle, поэтому данные загружались напрямую с датасета\n",
        "\n",
        "df = pd.read_csv('/kaggle/input/womens-ecommerce-clothing-reviews/Womens Clothing E-Commerce Reviews.csv')"
      ],
      "metadata": {
        "execution": {
          "iopub.status.busy": "2024-06-15T19:51:30.823041Z",
          "iopub.execute_input": "2024-06-15T19:51:30.823638Z",
          "iopub.status.idle": "2024-06-15T19:51:31.037755Z",
          "shell.execute_reply.started": "2024-06-15T19:51:30.823612Z",
          "shell.execute_reply": "2024-06-15T19:51:31.036814Z"
        },
        "trusted": true,
        "id": "2bwq5muLhVCF"
      },
      "execution_count": null,
      "outputs": []
    },
    {
      "cell_type": "markdown",
      "source": [
        "### Данные"
      ],
      "metadata": {
        "id": "eB4BAM_ZZuRT"
      }
    },
    {
      "cell_type": "markdown",
      "source": [
        "Работать будем со следующими данными: [Women's E-Commerce Clothing Reviews](https://www.kaggle.com/datasets/nicapotato/womens-ecommerce-clothing-reviews)"
      ],
      "metadata": {
        "id": "xVw4OXwlZyAP"
      }
    },
    {
      "cell_type": "markdown",
      "source": [
        "Датасет содержит 23 486 строк и 10 признаков. Каждая строка соответствует одному пользовательскому отзыву и включает следующие переменные:\n",
        "\n",
        "* **Clothing ID** — целочисленная категориальная переменная, указывающая на конкретный предмет одежды, к которому относится отзыв.\n",
        "* **Age** — положительное целое число, возраст автора отзыва.\n",
        "* **Title** — строковая переменная, заголовок отзыва.\n",
        "* **Review Text** — строковая переменная, основная часть отзыва.\n",
        "* **Rating** — порядковая целочисленная переменная от 1 (хуже всего) до 5 (лучше всего), отражающая оценку товара, выставленную покупателем.\n",
        "* **Recommended IND** — бинарная переменная: 1 — товар рекомендован, 0 — не рекомендован.\n",
        "* **Positive Feedback Count** — положительное целое число, количество других пользователей, которые нашли отзыв полезным.\n",
        "* **Division Name** — категориальное наименование верхнего уровня товарного раздела.\n",
        "* **Department Name** — категориальное наименование товарного отдела.\n",
        "* **Class Name** — категориальное наименование товарной категории.\n"
      ],
      "metadata": {
        "id": "3Y_I25-FaKvp"
      }
    },
    {
      "cell_type": "markdown",
      "source": [
        "### Предобработка корпуса текста"
      ],
      "metadata": {
        "id": "HJFYcrP8hVCH"
      }
    },
    {
      "cell_type": "code",
      "source": [
        "# Очистка\n",
        "def clean_text(text):\n",
        "    text = text.lower()  # Приведение к нижнему регистру\n",
        "    text = re.sub(f'[{string.punctuation}]', '', text)  # Удаление пунктуации\n",
        "    text = re.sub('\\n', ' ', text)  # Удаление переносов строк\n",
        "    text = re.sub('\\d+', '', text)  # Удаление цифр\n",
        "    text = ' '.join([word for word in text.split() if word not in stop_words])  # Удаление стоп-слов\n",
        "    return text\n",
        "\n",
        "# Удаление строк с пустыми отзывами\n",
        "df.dropna(subset=['Review Text'], inplace=True)\n",
        "\n",
        "# Стоп-слова\n",
        "nltk.download('stopwords')\n",
        "stop_words = set(stopwords.words('english'))\n",
        "\n",
        "df['Cleaned Review'] = df['Review Text'].apply(clean_text)"
      ],
      "metadata": {
        "colab": {
          "base_uri": "https://localhost:8080/"
        },
        "id": "yhR1nlSvILTZ",
        "outputId": "bb7046ad-cc4e-413c-81f3-7ad83cf94bbe",
        "execution": {
          "iopub.status.busy": "2024-06-15T19:51:31.038900Z",
          "iopub.execute_input": "2024-06-15T19:51:31.039187Z",
          "iopub.status.idle": "2024-06-15T19:51:32.072097Z",
          "shell.execute_reply.started": "2024-06-15T19:51:31.039163Z",
          "shell.execute_reply": "2024-06-15T19:51:32.071247Z"
        },
        "trusted": true
      },
      "execution_count": null,
      "outputs": [
        {
          "name": "stdout",
          "text": "[nltk_data] Downloading package stopwords to /usr/share/nltk_data...\n[nltk_data]   Package stopwords is already up-to-date!\n",
          "output_type": "stream"
        }
      ]
    },
    {
      "cell_type": "code",
      "source": [
        "df"
      ],
      "metadata": {
        "colab": {
          "base_uri": "https://localhost:8080/",
          "height": 614
        },
        "id": "QQzNP85kIVPe",
        "outputId": "ed8b5c82-c7cc-4f07-f8b3-5ba6b2151946",
        "execution": {
          "iopub.status.busy": "2024-06-15T15:14:13.174280Z",
          "iopub.execute_input": "2024-06-15T15:14:13.174572Z",
          "iopub.status.idle": "2024-06-15T15:14:13.200329Z",
          "shell.execute_reply.started": "2024-06-15T15:14:13.174546Z",
          "shell.execute_reply": "2024-06-15T15:14:13.199380Z"
        },
        "trusted": true
      },
      "execution_count": null,
      "outputs": [
        {
          "execution_count": 8,
          "output_type": "execute_result",
          "data": {
            "text/plain": "       Unnamed: 0  Clothing ID  Age  \\\n0               0          767   33   \n1               1         1080   34   \n2               2         1077   60   \n3               3         1049   50   \n4               4          847   47   \n...           ...          ...  ...   \n23481       23481         1104   34   \n23482       23482          862   48   \n23483       23483         1104   31   \n23484       23484         1084   28   \n23485       23485         1104   52   \n\n                                                   Title  \\\n0                                                    NaN   \n1                                                    NaN   \n2                                Some major design flaws   \n3                                       My favorite buy!   \n4                                       Flattering shirt   \n...                                                  ...   \n23481                     Great dress for many occasions   \n23482                         Wish it was made of cotton   \n23483                              Cute, but see through   \n23484  Very cute dress, perfect for summer parties an...   \n23485                    Please make more like this one!   \n\n                                             Review Text  Rating  \\\n0      Absolutely wonderful - silky and sexy and comf...       4   \n1      Love this dress!  it's sooo pretty.  i happene...       5   \n2      I had such high hopes for this dress and reall...       3   \n3      I love, love, love this jumpsuit. it's fun, fl...       5   \n4      This shirt is very flattering to all due to th...       5   \n...                                                  ...     ...   \n23481  I was very happy to snag this dress at such a ...       5   \n23482  It reminds me of maternity clothes. soft, stre...       3   \n23483  This fit well, but the top was very see throug...       3   \n23484  I bought this dress for a wedding i have this ...       3   \n23485  This dress in a lovely platinum is feminine an...       5   \n\n       Recommended IND  Positive Feedback Count   Division Name  \\\n0                    1                        0       Initmates   \n1                    1                        4         General   \n2                    0                        0         General   \n3                    1                        0  General Petite   \n4                    1                        6         General   \n...                ...                      ...             ...   \n23481                1                        0  General Petite   \n23482                1                        0  General Petite   \n23483                0                        1  General Petite   \n23484                1                        2         General   \n23485                1                       22  General Petite   \n\n      Department Name Class Name  \\\n0            Intimate  Intimates   \n1             Dresses    Dresses   \n2             Dresses    Dresses   \n3             Bottoms      Pants   \n4                Tops    Blouses   \n...               ...        ...   \n23481         Dresses    Dresses   \n23482            Tops      Knits   \n23483         Dresses    Dresses   \n23484         Dresses    Dresses   \n23485         Dresses    Dresses   \n\n                                          Cleaned Review  \n0            absolutely wonderful silky sexy comfortable  \n1      love dress sooo pretty happened find store im ...  \n2      high hopes dress really wanted work initially ...  \n3      love love love jumpsuit fun flirty fabulous ev...  \n4      shirt flattering due adjustable front tie perf...  \n...                                                  ...  \n23481  happy snag dress great price easy slip flatter...  \n23482  reminds maternity clothes soft stretchy shiny ...  \n23483  fit well top see never would worked im glad ab...  \n23484  bought dress wedding summer cute unfortunately...  \n23485  dress lovely platinum feminine fits perfectly ...  \n\n[22641 rows x 12 columns]",
            "text/html": "<div>\n<style scoped>\n    .dataframe tbody tr th:only-of-type {\n        vertical-align: middle;\n    }\n\n    .dataframe tbody tr th {\n        vertical-align: top;\n    }\n\n    .dataframe thead th {\n        text-align: right;\n    }\n</style>\n<table border=\"1\" class=\"dataframe\">\n  <thead>\n    <tr style=\"text-align: right;\">\n      <th></th>\n      <th>Unnamed: 0</th>\n      <th>Clothing ID</th>\n      <th>Age</th>\n      <th>Title</th>\n      <th>Review Text</th>\n      <th>Rating</th>\n      <th>Recommended IND</th>\n      <th>Positive Feedback Count</th>\n      <th>Division Name</th>\n      <th>Department Name</th>\n      <th>Class Name</th>\n      <th>Cleaned Review</th>\n    </tr>\n  </thead>\n  <tbody>\n    <tr>\n      <th>0</th>\n      <td>0</td>\n      <td>767</td>\n      <td>33</td>\n      <td>NaN</td>\n      <td>Absolutely wonderful - silky and sexy and comf...</td>\n      <td>4</td>\n      <td>1</td>\n      <td>0</td>\n      <td>Initmates</td>\n      <td>Intimate</td>\n      <td>Intimates</td>\n      <td>absolutely wonderful silky sexy comfortable</td>\n    </tr>\n    <tr>\n      <th>1</th>\n      <td>1</td>\n      <td>1080</td>\n      <td>34</td>\n      <td>NaN</td>\n      <td>Love this dress!  it's sooo pretty.  i happene...</td>\n      <td>5</td>\n      <td>1</td>\n      <td>4</td>\n      <td>General</td>\n      <td>Dresses</td>\n      <td>Dresses</td>\n      <td>love dress sooo pretty happened find store im ...</td>\n    </tr>\n    <tr>\n      <th>2</th>\n      <td>2</td>\n      <td>1077</td>\n      <td>60</td>\n      <td>Some major design flaws</td>\n      <td>I had such high hopes for this dress and reall...</td>\n      <td>3</td>\n      <td>0</td>\n      <td>0</td>\n      <td>General</td>\n      <td>Dresses</td>\n      <td>Dresses</td>\n      <td>high hopes dress really wanted work initially ...</td>\n    </tr>\n    <tr>\n      <th>3</th>\n      <td>3</td>\n      <td>1049</td>\n      <td>50</td>\n      <td>My favorite buy!</td>\n      <td>I love, love, love this jumpsuit. it's fun, fl...</td>\n      <td>5</td>\n      <td>1</td>\n      <td>0</td>\n      <td>General Petite</td>\n      <td>Bottoms</td>\n      <td>Pants</td>\n      <td>love love love jumpsuit fun flirty fabulous ev...</td>\n    </tr>\n    <tr>\n      <th>4</th>\n      <td>4</td>\n      <td>847</td>\n      <td>47</td>\n      <td>Flattering shirt</td>\n      <td>This shirt is very flattering to all due to th...</td>\n      <td>5</td>\n      <td>1</td>\n      <td>6</td>\n      <td>General</td>\n      <td>Tops</td>\n      <td>Blouses</td>\n      <td>shirt flattering due adjustable front tie perf...</td>\n    </tr>\n    <tr>\n      <th>...</th>\n      <td>...</td>\n      <td>...</td>\n      <td>...</td>\n      <td>...</td>\n      <td>...</td>\n      <td>...</td>\n      <td>...</td>\n      <td>...</td>\n      <td>...</td>\n      <td>...</td>\n      <td>...</td>\n      <td>...</td>\n    </tr>\n    <tr>\n      <th>23481</th>\n      <td>23481</td>\n      <td>1104</td>\n      <td>34</td>\n      <td>Great dress for many occasions</td>\n      <td>I was very happy to snag this dress at such a ...</td>\n      <td>5</td>\n      <td>1</td>\n      <td>0</td>\n      <td>General Petite</td>\n      <td>Dresses</td>\n      <td>Dresses</td>\n      <td>happy snag dress great price easy slip flatter...</td>\n    </tr>\n    <tr>\n      <th>23482</th>\n      <td>23482</td>\n      <td>862</td>\n      <td>48</td>\n      <td>Wish it was made of cotton</td>\n      <td>It reminds me of maternity clothes. soft, stre...</td>\n      <td>3</td>\n      <td>1</td>\n      <td>0</td>\n      <td>General Petite</td>\n      <td>Tops</td>\n      <td>Knits</td>\n      <td>reminds maternity clothes soft stretchy shiny ...</td>\n    </tr>\n    <tr>\n      <th>23483</th>\n      <td>23483</td>\n      <td>1104</td>\n      <td>31</td>\n      <td>Cute, but see through</td>\n      <td>This fit well, but the top was very see throug...</td>\n      <td>3</td>\n      <td>0</td>\n      <td>1</td>\n      <td>General Petite</td>\n      <td>Dresses</td>\n      <td>Dresses</td>\n      <td>fit well top see never would worked im glad ab...</td>\n    </tr>\n    <tr>\n      <th>23484</th>\n      <td>23484</td>\n      <td>1084</td>\n      <td>28</td>\n      <td>Very cute dress, perfect for summer parties an...</td>\n      <td>I bought this dress for a wedding i have this ...</td>\n      <td>3</td>\n      <td>1</td>\n      <td>2</td>\n      <td>General</td>\n      <td>Dresses</td>\n      <td>Dresses</td>\n      <td>bought dress wedding summer cute unfortunately...</td>\n    </tr>\n    <tr>\n      <th>23485</th>\n      <td>23485</td>\n      <td>1104</td>\n      <td>52</td>\n      <td>Please make more like this one!</td>\n      <td>This dress in a lovely platinum is feminine an...</td>\n      <td>5</td>\n      <td>1</td>\n      <td>22</td>\n      <td>General Petite</td>\n      <td>Dresses</td>\n      <td>Dresses</td>\n      <td>dress lovely platinum feminine fits perfectly ...</td>\n    </tr>\n  </tbody>\n</table>\n<p>22641 rows × 12 columns</p>\n</div>"
          },
          "metadata": {}
        }
      ]
    },
    {
      "cell_type": "code",
      "source": [
        "df[['Review Text', 'Cleaned Review']].head()"
      ],
      "metadata": {
        "colab": {
          "base_uri": "https://localhost:8080/",
          "height": 206
        },
        "id": "8Pa82raDIZMu",
        "outputId": "d0368dfa-4355-4f37-f3f0-778446de7aaa",
        "execution": {
          "iopub.status.busy": "2024-06-15T15:14:13.201523Z",
          "iopub.execute_input": "2024-06-15T15:14:13.201806Z",
          "iopub.status.idle": "2024-06-15T15:14:13.219264Z",
          "shell.execute_reply.started": "2024-06-15T15:14:13.201782Z",
          "shell.execute_reply": "2024-06-15T15:14:13.218183Z"
        },
        "trusted": true
      },
      "execution_count": null,
      "outputs": [
        {
          "execution_count": 9,
          "output_type": "execute_result",
          "data": {
            "text/plain": "                                         Review Text  \\\n0  Absolutely wonderful - silky and sexy and comf...   \n1  Love this dress!  it's sooo pretty.  i happene...   \n2  I had such high hopes for this dress and reall...   \n3  I love, love, love this jumpsuit. it's fun, fl...   \n4  This shirt is very flattering to all due to th...   \n\n                                      Cleaned Review  \n0        absolutely wonderful silky sexy comfortable  \n1  love dress sooo pretty happened find store im ...  \n2  high hopes dress really wanted work initially ...  \n3  love love love jumpsuit fun flirty fabulous ev...  \n4  shirt flattering due adjustable front tie perf...  ",
            "text/html": "<div>\n<style scoped>\n    .dataframe tbody tr th:only-of-type {\n        vertical-align: middle;\n    }\n\n    .dataframe tbody tr th {\n        vertical-align: top;\n    }\n\n    .dataframe thead th {\n        text-align: right;\n    }\n</style>\n<table border=\"1\" class=\"dataframe\">\n  <thead>\n    <tr style=\"text-align: right;\">\n      <th></th>\n      <th>Review Text</th>\n      <th>Cleaned Review</th>\n    </tr>\n  </thead>\n  <tbody>\n    <tr>\n      <th>0</th>\n      <td>Absolutely wonderful - silky and sexy and comf...</td>\n      <td>absolutely wonderful silky sexy comfortable</td>\n    </tr>\n    <tr>\n      <th>1</th>\n      <td>Love this dress!  it's sooo pretty.  i happene...</td>\n      <td>love dress sooo pretty happened find store im ...</td>\n    </tr>\n    <tr>\n      <th>2</th>\n      <td>I had such high hopes for this dress and reall...</td>\n      <td>high hopes dress really wanted work initially ...</td>\n    </tr>\n    <tr>\n      <th>3</th>\n      <td>I love, love, love this jumpsuit. it's fun, fl...</td>\n      <td>love love love jumpsuit fun flirty fabulous ev...</td>\n    </tr>\n    <tr>\n      <th>4</th>\n      <td>This shirt is very flattering to all due to th...</td>\n      <td>shirt flattering due adjustable front tie perf...</td>\n    </tr>\n  </tbody>\n</table>\n</div>"
          },
          "metadata": {}
        }
      ]
    },
    {
      "cell_type": "code",
      "source": [
        "# Дублированные функции: токенизация и подсчет метрик\n",
        "\n",
        "def tokenize_function(examples):\n",
        "    return tokenizer(examples['Cleaned Review'], padding='max_length', truncation=True, max_length=128)\n",
        "\n",
        "def compute_metrics(eval_pred):\n",
        "    logits, labels = eval_pred\n",
        "    predictions = np.argmax(logits, axis=-1)\n",
        "    return {'f1': f1_score(labels, predictions)}"
      ],
      "metadata": {
        "execution": {
          "iopub.status.busy": "2024-06-15T19:51:56.869890Z",
          "iopub.execute_input": "2024-06-15T19:51:56.870275Z",
          "iopub.status.idle": "2024-06-15T19:51:56.876382Z",
          "shell.execute_reply.started": "2024-06-15T19:51:56.870244Z",
          "shell.execute_reply": "2024-06-15T19:51:56.875434Z"
        },
        "trusted": true,
        "id": "0uR1Zv5jhVCM"
      },
      "execution_count": null,
      "outputs": []
    },
    {
      "cell_type": "code",
      "source": [
        "train_df, val_df = train_test_split(df, test_size=0.2, stratify=df['Recommended IND'], random_state=42)"
      ],
      "metadata": {
        "execution": {
          "iopub.status.busy": "2024-06-15T19:51:32.074096Z",
          "iopub.execute_input": "2024-06-15T19:51:32.074425Z",
          "iopub.status.idle": "2024-06-15T19:51:32.098335Z",
          "shell.execute_reply.started": "2024-06-15T19:51:32.074386Z",
          "shell.execute_reply": "2024-06-15T19:51:32.097448Z"
        },
        "trusted": true,
        "id": "4HooUXyqhVCN"
      },
      "execution_count": null,
      "outputs": []
    },
    {
      "cell_type": "markdown",
      "source": [
        "### BERT (bert-base-uncased)\n"
      ],
      "metadata": {
        "id": "YOw6_XmhIfFS"
      }
    },
    {
      "cell_type": "code",
      "source": [
        "train_dataset = Dataset.from_pandas(train_df)\n",
        "val_dataset = Dataset.from_pandas(val_df)\n",
        "\n",
        "model_name = \"bert-base-uncased\"\n",
        "tokenizer = BertTokenizer.from_pretrained(model_name)\n",
        "\n",
        "train_dataset = train_dataset.map(tokenize_function, batched=True)\n",
        "val_dataset = val_dataset.map(tokenize_function, batched=True)\n",
        "\n",
        "train_dataset = train_dataset.remove_columns(['Review Text', 'Title', 'Cleaned Review', '__index_level_0__'])\n",
        "val_dataset = val_dataset.remove_columns(['Review Text', 'Title', 'Cleaned Review', '__index_level_0__'])\n",
        "\n",
        "train_dataset.set_format(type='torch', columns=['input_ids', 'attention_mask', 'Recommended IND'])\n",
        "val_dataset.set_format(type='torch', columns=['input_ids', 'attention_mask', 'Recommended IND'])\n",
        "\n",
        "# Меняем название, поскольку модель ожидает название \"labels\"\n",
        "train_dataset = train_dataset.rename_column('Recommended IND', 'labels')\n",
        "val_dataset = val_dataset.rename_column('Recommended IND', 'labels')"
      ],
      "metadata": {
        "colab": {
          "base_uri": "https://localhost:8080/",
          "height": 192,
          "referenced_widgets": [
            "a388007776444989976bac1a80f6c25f",
            "fd3650f9b98d48f98a16ee1989aaa71e",
            "3c81af2d500a4e718dc625975d482758",
            "664e3818f9204901b0b3c269db7daa76",
            "35a0f2c883f94c3f93108f9b470d9e8a",
            "ee82ead5c21243a6859e454ad0591182",
            "1e1227d2aeaa43eab2cdb47bde9b9078",
            "e78fea896d494967abc4e34ad5ee82ce",
            "7135de9e2f8345b7b7968fadeef8ca32",
            "681ac1da115c45cd92a8bce0dd6ee72d",
            "90ca08fc681d49c48d7c9a2f12a36fae",
            "dce61a957cb64a8bb7536418f61ab086",
            "56d920147e744151a7953e00df27b219",
            "a2f35c00142a4999b23ca71409c2b9b5",
            "eea9d31eef35481da318537f2b1bbb83",
            "7e7e0f3ce2ca467f8ae4db7a63421485",
            "5f3b06c8f3e348e49305178cb56625aa",
            "f7a1260d44dd4c20ac6849a892b595fe",
            "965aa0e79e5e422ba0cc78861d4ea1b8",
            "3b5dfa5b086f450bab72162a68f4d90a",
            "a6c4490bb2fd4c8a8ffeecb13a462451",
            "a306a6355f4144b18e6101989434c031",
            "c01adf2fd30b4e30acae439d1b9fd734",
            "47a5503a892c45b2bcd9a24749bed647",
            "7427c278214f4cd7ba204e643b94c149",
            "3d592873e42143f68b878b909d9f1b98",
            "ca4868ca730c4e7b876ea4bcb7d6fda8",
            "7f4af76abb704f37908deff1a224086f"
          ]
        },
        "id": "uGkekDDMP21O",
        "outputId": "8e8ab34a-b474-47a1-99d4-1446b1e529d7",
        "execution": {
          "iopub.status.busy": "2024-06-15T15:14:13.220724Z",
          "iopub.execute_input": "2024-06-15T15:14:13.221024Z",
          "iopub.status.idle": "2024-06-15T15:15:02.124393Z",
          "shell.execute_reply.started": "2024-06-15T15:14:13.220999Z",
          "shell.execute_reply": "2024-06-15T15:15:02.123549Z"
        },
        "trusted": true
      },
      "execution_count": null,
      "outputs": [
        {
          "name": "stderr",
          "text": "2024-06-15 15:14:20.087673: E external/local_xla/xla/stream_executor/cuda/cuda_dnn.cc:9261] Unable to register cuDNN factory: Attempting to register factory for plugin cuDNN when one has already been registered\n2024-06-15 15:14:20.087776: E external/local_xla/xla/stream_executor/cuda/cuda_fft.cc:607] Unable to register cuFFT factory: Attempting to register factory for plugin cuFFT when one has already been registered\n2024-06-15 15:14:20.179761: E external/local_xla/xla/stream_executor/cuda/cuda_blas.cc:1515] Unable to register cuBLAS factory: Attempting to register factory for plugin cuBLAS when one has already been registered\n",
          "output_type": "stream"
        },
        {
          "output_type": "display_data",
          "data": {
            "text/plain": "tokenizer_config.json:   0%|          | 0.00/48.0 [00:00<?, ?B/s]",
            "application/vnd.jupyter.widget-view+json": {
              "version_major": 2,
              "version_minor": 0,
              "model_id": "c01adf2fd30b4e30acae439d1b9fd734"
            }
          },
          "metadata": {}
        },
        {
          "output_type": "display_data",
          "data": {
            "text/plain": "vocab.txt:   0%|          | 0.00/232k [00:00<?, ?B/s]",
            "application/vnd.jupyter.widget-view+json": {
              "version_major": 2,
              "version_minor": 0,
              "model_id": "47a5503a892c45b2bcd9a24749bed647"
            }
          },
          "metadata": {}
        },
        {
          "output_type": "display_data",
          "data": {
            "text/plain": "tokenizer.json:   0%|          | 0.00/466k [00:00<?, ?B/s]",
            "application/vnd.jupyter.widget-view+json": {
              "version_major": 2,
              "version_minor": 0,
              "model_id": "7427c278214f4cd7ba204e643b94c149"
            }
          },
          "metadata": {}
        },
        {
          "name": "stderr",
          "text": "/opt/conda/lib/python3.10/site-packages/huggingface_hub/file_download.py:1132: FutureWarning: `resume_download` is deprecated and will be removed in version 1.0.0. Downloads always resume when possible. If you want to force a new download, use `force_download=True`.\n  warnings.warn(\n",
          "output_type": "stream"
        },
        {
          "output_type": "display_data",
          "data": {
            "text/plain": "config.json:   0%|          | 0.00/570 [00:00<?, ?B/s]",
            "application/vnd.jupyter.widget-view+json": {
              "version_major": 2,
              "version_minor": 0,
              "model_id": "3d592873e42143f68b878b909d9f1b98"
            }
          },
          "metadata": {}
        },
        {
          "output_type": "display_data",
          "data": {
            "text/plain": "Map:   0%|          | 0/18112 [00:00<?, ? examples/s]",
            "application/vnd.jupyter.widget-view+json": {
              "version_major": 2,
              "version_minor": 0,
              "model_id": "ca4868ca730c4e7b876ea4bcb7d6fda8"
            }
          },
          "metadata": {}
        },
        {
          "output_type": "display_data",
          "data": {
            "text/plain": "Map:   0%|          | 0/4529 [00:00<?, ? examples/s]",
            "application/vnd.jupyter.widget-view+json": {
              "version_major": 2,
              "version_minor": 0,
              "model_id": "7f4af76abb704f37908deff1a224086f"
            }
          },
          "metadata": {}
        }
      ]
    },
    {
      "cell_type": "code",
      "source": [
        "model = BertForSequenceClassification.from_pretrained(model_name, num_labels=2)\n",
        "\n",
        "training_args = TrainingArguments(\n",
        "    output_dir='./results/BaseBert',\n",
        "    num_train_epochs=3, # количество эпох - полных проходов по тренировочным данным\n",
        "    per_device_train_batch_size=8, # размер батча на одно устройство (GPU/CPU)\n",
        "    per_device_eval_batch_size=8,\n",
        "    warmup_steps=500, # количество шагов \"разогрева\" - постепенное увеличение learning rate в начале обучения\n",
        "    weight_decay=0.01, # L2-регуляризация для весов модели - для борьбы с переобучением\n",
        "    evaluation_strategy=\"epoch\",\n",
        ")\n",
        "\n",
        "trainer = Trainer(\n",
        "    model=model,\n",
        "    args=training_args,\n",
        "    train_dataset=train_dataset,\n",
        "    eval_dataset=val_dataset,\n",
        "    compute_metrics=compute_metrics,\n",
        ")\n",
        "\n",
        "trainer.train()\n",
        "trainer.evaluate()"
      ],
      "metadata": {
        "colab": {
          "base_uri": "https://localhost:8080/",
          "height": 593,
          "referenced_widgets": [
            "1793d5d067624211be3fba8a2611c470"
          ]
        },
        "id": "riUNtuFJQkdX",
        "outputId": "20b851f6-3784-4bb4-f398-3c099e521d5d",
        "execution": {
          "iopub.status.busy": "2024-06-15T15:15:23.128268Z",
          "iopub.execute_input": "2024-06-15T15:15:23.128633Z",
          "iopub.status.idle": "2024-06-15T15:35:44.129556Z",
          "shell.execute_reply.started": "2024-06-15T15:15:23.128605Z",
          "shell.execute_reply": "2024-06-15T15:35:44.128626Z"
        },
        "trusted": true
      },
      "execution_count": null,
      "outputs": [
        {
          "output_type": "display_data",
          "data": {
            "text/plain": "model.safetensors:   0%|          | 0.00/440M [00:00<?, ?B/s]",
            "application/vnd.jupyter.widget-view+json": {
              "version_major": 2,
              "version_minor": 0,
              "model_id": "1793d5d067624211be3fba8a2611c470"
            }
          },
          "metadata": {}
        },
        {
          "name": "stderr",
          "text": "Some weights of BertForSequenceClassification were not initialized from the model checkpoint at bert-base-uncased and are newly initialized: ['classifier.bias', 'classifier.weight']\nYou should probably TRAIN this model on a down-stream task to be able to use it for predictions and inference.\n/opt/conda/lib/python3.10/site-packages/transformers/training_args.py:1474: FutureWarning: `evaluation_strategy` is deprecated and will be removed in version 4.46 of 🤗 Transformers. Use `eval_strategy` instead\n  warnings.warn(\n\u001b[34m\u001b[1mwandb\u001b[0m: \u001b[33mWARNING\u001b[0m The `run_name` is currently set to the same value as `TrainingArguments.output_dir`. If this was not intended, please specify a different run name by setting the `TrainingArguments.run_name` parameter.\n\u001b[34m\u001b[1mwandb\u001b[0m: Logging into wandb.ai. (Learn how to deploy a W&B server locally: https://wandb.me/wandb-server)\n\u001b[34m\u001b[1mwandb\u001b[0m: You can find your API key in your browser here: https://wandb.ai/authorize\n\u001b[34m\u001b[1mwandb\u001b[0m: Paste an API key from your profile and hit enter, or press ctrl+c to quit:",
          "output_type": "stream"
        },
        {
          "output_type": "stream",
          "name": "stdin",
          "text": "  ········································\n"
        },
        {
          "name": "stderr",
          "text": "\u001b[34m\u001b[1mwandb\u001b[0m: Appending key for api.wandb.ai to your netrc file: /root/.netrc\n",
          "output_type": "stream"
        },
        {
          "output_type": "display_data",
          "data": {
            "text/plain": "<IPython.core.display.HTML object>",
            "text/html": "wandb version 0.17.1 is available!  To upgrade, please run:\n $ pip install wandb --upgrade"
          },
          "metadata": {}
        },
        {
          "output_type": "display_data",
          "data": {
            "text/plain": "<IPython.core.display.HTML object>",
            "text/html": "Tracking run with wandb version 0.17.0"
          },
          "metadata": {}
        },
        {
          "output_type": "display_data",
          "data": {
            "text/plain": "<IPython.core.display.HTML object>",
            "text/html": "Run data is saved locally in <code>/kaggle/working/wandb/run-20240615_151639-9uxhyt0w</code>"
          },
          "metadata": {}
        },
        {
          "output_type": "display_data",
          "data": {
            "text/plain": "<IPython.core.display.HTML object>",
            "text/html": "Syncing run <strong><a href='https://wandb.ai/blanca_planca/huggingface/runs/9uxhyt0w' target=\"_blank\">/kaggle/working/results</a></strong> to <a href='https://wandb.ai/blanca_planca/huggingface' target=\"_blank\">Weights & Biases</a> (<a href='https://wandb.me/run' target=\"_blank\">docs</a>)<br/>"
          },
          "metadata": {}
        },
        {
          "output_type": "display_data",
          "data": {
            "text/plain": "<IPython.core.display.HTML object>",
            "text/html": " View project at <a href='https://wandb.ai/blanca_planca/huggingface' target=\"_blank\">https://wandb.ai/blanca_planca/huggingface</a>"
          },
          "metadata": {}
        },
        {
          "output_type": "display_data",
          "data": {
            "text/plain": "<IPython.core.display.HTML object>",
            "text/html": " View run at <a href='https://wandb.ai/blanca_planca/huggingface/runs/9uxhyt0w' target=\"_blank\">https://wandb.ai/blanca_planca/huggingface/runs/9uxhyt0w</a>"
          },
          "metadata": {}
        },
        {
          "name": "stderr",
          "text": "/opt/conda/lib/python3.10/site-packages/torch/nn/parallel/_functions.py:68: UserWarning: Was asked to gather along dimension 0, but all input tensors were scalars; will instead unsqueeze and return a vector.\n  warnings.warn('Was asked to gather along dimension 0, but all '\n",
          "output_type": "stream"
        },
        {
          "output_type": "display_data",
          "data": {
            "text/plain": "<IPython.core.display.HTML object>",
            "text/html": "\n    <div>\n      \n      <progress value='3396' max='3396' style='width:300px; height:20px; vertical-align: middle;'></progress>\n      [3396/3396 18:17, Epoch 3/3]\n    </div>\n    <table border=\"1\" class=\"dataframe\">\n  <thead>\n <tr style=\"text-align: left;\">\n      <th>Epoch</th>\n      <th>Training Loss</th>\n      <th>Validation Loss</th>\n      <th>F1</th>\n    </tr>\n  </thead>\n  <tbody>\n    <tr>\n      <td>1</td>\n      <td>0.297800</td>\n      <td>0.318604</td>\n      <td>0.934022</td>\n    </tr>\n    <tr>\n      <td>2</td>\n      <td>0.218400</td>\n      <td>0.276626</td>\n      <td>0.936336</td>\n    </tr>\n    <tr>\n      <td>3</td>\n      <td>0.147400</td>\n      <td>0.338514</td>\n      <td>0.937097</td>\n    </tr>\n  </tbody>\n</table><p>"
          },
          "metadata": {}
        },
        {
          "name": "stderr",
          "text": "/opt/conda/lib/python3.10/site-packages/torch/nn/parallel/_functions.py:68: UserWarning: Was asked to gather along dimension 0, but all input tensors were scalars; will instead unsqueeze and return a vector.\n  warnings.warn('Was asked to gather along dimension 0, but all '\n/opt/conda/lib/python3.10/site-packages/torch/nn/parallel/_functions.py:68: UserWarning: Was asked to gather along dimension 0, but all input tensors were scalars; will instead unsqueeze and return a vector.\n  warnings.warn('Was asked to gather along dimension 0, but all '\n/opt/conda/lib/python3.10/site-packages/torch/nn/parallel/_functions.py:68: UserWarning: Was asked to gather along dimension 0, but all input tensors were scalars; will instead unsqueeze and return a vector.\n  warnings.warn('Was asked to gather along dimension 0, but all '\n/opt/conda/lib/python3.10/site-packages/torch/nn/parallel/_functions.py:68: UserWarning: Was asked to gather along dimension 0, but all input tensors were scalars; will instead unsqueeze and return a vector.\n  warnings.warn('Was asked to gather along dimension 0, but all '\n/opt/conda/lib/python3.10/site-packages/torch/nn/parallel/_functions.py:68: UserWarning: Was asked to gather along dimension 0, but all input tensors were scalars; will instead unsqueeze and return a vector.\n  warnings.warn('Was asked to gather along dimension 0, but all '\n/opt/conda/lib/python3.10/site-packages/torch/nn/parallel/_functions.py:68: UserWarning: Was asked to gather along dimension 0, but all input tensors were scalars; will instead unsqueeze and return a vector.\n  warnings.warn('Was asked to gather along dimension 0, but all '\n/opt/conda/lib/python3.10/site-packages/torch/nn/parallel/_functions.py:68: UserWarning: Was asked to gather along dimension 0, but all input tensors were scalars; will instead unsqueeze and return a vector.\n  warnings.warn('Was asked to gather along dimension 0, but all '\n/opt/conda/lib/python3.10/site-packages/torch/nn/parallel/_functions.py:68: UserWarning: Was asked to gather along dimension 0, but all input tensors were scalars; will instead unsqueeze and return a vector.\n  warnings.warn('Was asked to gather along dimension 0, but all '\n/opt/conda/lib/python3.10/site-packages/torch/nn/parallel/_functions.py:68: UserWarning: Was asked to gather along dimension 0, but all input tensors were scalars; will instead unsqueeze and return a vector.\n  warnings.warn('Was asked to gather along dimension 0, but all '\n",
          "output_type": "stream"
        },
        {
          "output_type": "display_data",
          "data": {
            "text/plain": "<IPython.core.display.HTML object>",
            "text/html": "\n    <div>\n      \n      <progress value='284' max='284' style='width:300px; height:20px; vertical-align: middle;'></progress>\n      [284/284 00:26]\n    </div>\n    "
          },
          "metadata": {}
        },
        {
          "execution_count": 11,
          "output_type": "execute_result",
          "data": {
            "text/plain": "{'eval_loss': 0.33851441740989685,\n 'eval_f1': 0.9370967741935483,\n 'eval_runtime': 26.1518,\n 'eval_samples_per_second': 173.181,\n 'eval_steps_per_second': 10.86,\n 'epoch': 3.0}"
          },
          "metadata": {}
        }
      ]
    },
    {
      "cell_type": "markdown",
      "source": [
        "### RoBERTa (roberta-base)"
      ],
      "metadata": {
        "id": "ZGPPacu-hVCQ"
      }
    },
    {
      "cell_type": "code",
      "source": [
        "model_name = \"roberta-base\"\n",
        "tokenizer = RobertaTokenizer.from_pretrained(model_name)\n",
        "model = RobertaForSequenceClassification.from_pretrained(model_name, num_labels=2)"
      ],
      "metadata": {
        "execution": {
          "iopub.status.busy": "2024-06-15T16:03:38.711480Z",
          "iopub.execute_input": "2024-06-15T16:03:38.711904Z",
          "iopub.status.idle": "2024-06-15T16:03:42.582156Z",
          "shell.execute_reply.started": "2024-06-15T16:03:38.711876Z",
          "shell.execute_reply": "2024-06-15T16:03:42.581417Z"
        },
        "trusted": true,
        "id": "eRXi8PGMhVCR",
        "outputId": "a8a883ef-b756-4c62-89c9-e1e58ac82031",
        "colab": {
          "referenced_widgets": [
            "3fdccb40635b47769e3d7afc45d91cd7",
            "97dc62b038594cf1ab5dae9fafaa80e4",
            "75ac6501b7a343e984e3fe60020354e8",
            "3310d7fa6c0f4a41af0c51fe05510c7b",
            "8ffbadddbf0d41ddb1f97550433bf6de",
            "be03d960d30a4c7ca4468967a5f9341c"
          ]
        }
      },
      "execution_count": null,
      "outputs": [
        {
          "output_type": "display_data",
          "data": {
            "text/plain": "tokenizer_config.json:   0%|          | 0.00/25.0 [00:00<?, ?B/s]",
            "application/vnd.jupyter.widget-view+json": {
              "version_major": 2,
              "version_minor": 0,
              "model_id": "3fdccb40635b47769e3d7afc45d91cd7"
            }
          },
          "metadata": {}
        },
        {
          "output_type": "display_data",
          "data": {
            "text/plain": "vocab.json:   0%|          | 0.00/899k [00:00<?, ?B/s]",
            "application/vnd.jupyter.widget-view+json": {
              "version_major": 2,
              "version_minor": 0,
              "model_id": "97dc62b038594cf1ab5dae9fafaa80e4"
            }
          },
          "metadata": {}
        },
        {
          "output_type": "display_data",
          "data": {
            "text/plain": "merges.txt:   0%|          | 0.00/456k [00:00<?, ?B/s]",
            "application/vnd.jupyter.widget-view+json": {
              "version_major": 2,
              "version_minor": 0,
              "model_id": "75ac6501b7a343e984e3fe60020354e8"
            }
          },
          "metadata": {}
        },
        {
          "output_type": "display_data",
          "data": {
            "text/plain": "tokenizer.json:   0%|          | 0.00/1.36M [00:00<?, ?B/s]",
            "application/vnd.jupyter.widget-view+json": {
              "version_major": 2,
              "version_minor": 0,
              "model_id": "3310d7fa6c0f4a41af0c51fe05510c7b"
            }
          },
          "metadata": {}
        },
        {
          "name": "stderr",
          "text": "/opt/conda/lib/python3.10/site-packages/huggingface_hub/file_download.py:1132: FutureWarning: `resume_download` is deprecated and will be removed in version 1.0.0. Downloads always resume when possible. If you want to force a new download, use `force_download=True`.\n  warnings.warn(\n",
          "output_type": "stream"
        },
        {
          "output_type": "display_data",
          "data": {
            "text/plain": "config.json:   0%|          | 0.00/481 [00:00<?, ?B/s]",
            "application/vnd.jupyter.widget-view+json": {
              "version_major": 2,
              "version_minor": 0,
              "model_id": "8ffbadddbf0d41ddb1f97550433bf6de"
            }
          },
          "metadata": {}
        },
        {
          "output_type": "display_data",
          "data": {
            "text/plain": "model.safetensors:   0%|          | 0.00/499M [00:00<?, ?B/s]",
            "application/vnd.jupyter.widget-view+json": {
              "version_major": 2,
              "version_minor": 0,
              "model_id": "be03d960d30a4c7ca4468967a5f9341c"
            }
          },
          "metadata": {}
        },
        {
          "name": "stderr",
          "text": "Some weights of RobertaForSequenceClassification were not initialized from the model checkpoint at roberta-base and are newly initialized: ['classifier.dense.bias', 'classifier.dense.weight', 'classifier.out_proj.bias', 'classifier.out_proj.weight']\nYou should probably TRAIN this model on a down-stream task to be able to use it for predictions and inference.\n",
          "output_type": "stream"
        }
      ]
    },
    {
      "cell_type": "code",
      "source": [
        "train_dataset = Dataset.from_pandas(train_df)\n",
        "val_dataset = Dataset.from_pandas(val_df)\n",
        "\n",
        "train_dataset = train_dataset.map(tokenize_function, batched=True)\n",
        "val_dataset = val_dataset.map(tokenize_function, batched=True)"
      ],
      "metadata": {
        "execution": {
          "iopub.status.busy": "2024-06-15T16:03:45.318679Z",
          "iopub.execute_input": "2024-06-15T16:03:45.319527Z",
          "iopub.status.idle": "2024-06-15T16:04:01.173797Z",
          "shell.execute_reply.started": "2024-06-15T16:03:45.319479Z",
          "shell.execute_reply": "2024-06-15T16:04:01.172612Z"
        },
        "trusted": true,
        "id": "gjL_DJIRhVCS",
        "outputId": "1a861a3a-6ccc-45ea-e963-df3b78502dff",
        "colab": {
          "referenced_widgets": [
            "8021b1389bc8414f83f71e04956abfb5",
            "698e43ef5c264898ab8106a530addce9"
          ]
        }
      },
      "execution_count": null,
      "outputs": [
        {
          "output_type": "display_data",
          "data": {
            "text/plain": "Map:   0%|          | 0/18112 [00:00<?, ? examples/s]",
            "application/vnd.jupyter.widget-view+json": {
              "version_major": 2,
              "version_minor": 0,
              "model_id": "8021b1389bc8414f83f71e04956abfb5"
            }
          },
          "metadata": {}
        },
        {
          "output_type": "display_data",
          "data": {
            "text/plain": "Map:   0%|          | 0/4529 [00:00<?, ? examples/s]",
            "application/vnd.jupyter.widget-view+json": {
              "version_major": 2,
              "version_minor": 0,
              "model_id": "698e43ef5c264898ab8106a530addce9"
            }
          },
          "metadata": {}
        }
      ]
    },
    {
      "cell_type": "code",
      "source": [
        "train_dataset = train_dataset.remove_columns(['Review Text', 'Title', 'Cleaned Review', '__index_level_0__'])\n",
        "val_dataset = val_dataset.remove_columns(['Review Text', 'Title', 'Cleaned Review', '__index_level_0__'])\n",
        "\n",
        "train_dataset = train_dataset.rename_column('Recommended IND', 'labels')\n",
        "val_dataset = val_dataset.rename_column('Recommended IND', 'labels')\n",
        "\n",
        "train_dataset.set_format(type='torch', columns=['input_ids', 'attention_mask', 'labels'])\n",
        "val_dataset.set_format(type='torch', columns=['input_ids', 'attention_mask', 'labels'])\n",
        "\n",
        "training_args = TrainingArguments(\n",
        "    output_dir='./results/RoBERT',\n",
        "    num_train_epochs=3,\n",
        "    per_device_train_batch_size=8,\n",
        "    per_device_eval_batch_size=8,\n",
        "    warmup_steps=500,\n",
        "    weight_decay=0.01,\n",
        "    evaluation_strategy=\"epoch\",\n",
        ")\n",
        "\n",
        "trainer = Trainer(\n",
        "    model=model,\n",
        "    args=training_args,\n",
        "    train_dataset=train_dataset,\n",
        "    eval_dataset=val_dataset,\n",
        "    compute_metrics=compute_metrics,\n",
        ")\n",
        "\n",
        "trainer.train()\n",
        "trainer.evaluate()"
      ],
      "metadata": {
        "colab": {
          "base_uri": "https://localhost:8080/",
          "height": 660,
          "referenced_widgets": [
            "6347bb68c48a49a0a6aa9e139f5473bc",
            "789fd8e7c9954d208db1f01b423ed490",
            "9e86641856d04984910653970bb660f7",
            "aedad68109644415b73973d9e5d70d89",
            "b2509b236fce4e22a267abbce86e4a61",
            "252def7892a44eb989788c8776fbaee2",
            "b99269395a5a465089dc259ac5dc8f0e",
            "acc5ce3fc4f3476c9d4f23e4bdf99cfa",
            "80581a49af66430cbd1e60302ecb57c0",
            "e84bf8e920d44910a3c187df6ef6addc",
            "b02f994414744451ae9ad076ea9f327c",
            "278d6ec1b8dc41059647d48890af6ecd",
            "516d9aebd5094a7f88aff6a029714033",
            "976a138a041e4a8ea63ca950fa6439d7",
            "ef5ee00b0e0b4fb4a4492c2b7b312769",
            "5a0ad715712a41aab2356f009828e692",
            "afd97327035e47f7802874f5b9f4b7c6",
            "704969f66cd146cb90151f0e6b56c5de",
            "a907a05728cd4ee0994c2a98d2775048",
            "6ab3d1975e764eea985ea62a69aad21c",
            "a2017bc9556d49d6918fd6b59e0e3936",
            "f8e36cef376d43f290df9018deb862c7",
            "f7f5eab281f04839ba1ba3c78b962b0f",
            "ca14010629944b769581b6243f7d37e4",
            "b4c241328b6342e2a0c0c62b7d714436",
            "f93dade4652d4299bb0185c880a4774b",
            "eb8f8a7f71e14a86bb9d6db8470e1d67",
            "158bfc5a9d2442baaf280cd2a4b07a72",
            "e7721d14c5cc412cb25d37f0647a5136",
            "1abbc53155fe4e0e874902e147a14255",
            "69798663ec9d42a08468c0440874db4c",
            "6c4d98a5c72a46a7b21f621bce8a227f",
            "6d9daf2a05ad468a9aaa05431e91ab1d",
            "1936c0d797c446a9ac0c6c15688f2b37",
            "05e78cf4a8c24201a247ea6d58a441e1",
            "7d2722a204874e25be5b4ffa42e9d3d7",
            "0950177f5cbf413a9a9d6b16805d4b79",
            "abcabfadc97043e0aec8700c5f80cdb3",
            "3e7d892a12214b148d5bea45bdd2768b",
            "16ab0a8229ed46939b4b1ba6893d2d5e",
            "53c995874702407b920dcfc49a9131cd",
            "14d179c83af8444f90eda64f0e4f3eb5",
            "1ba84ce6ab9a4b6f95844dbf7cd4682f",
            "00f35df2b8b94ae4ac4e4c570b1dc788",
            "26918756f2da4f4693517d1b18d8655e",
            "3e727d8df5f64aa9af2918b8107f4a88",
            "2c27bd557ba841969bfefb5b57e5add7",
            "8c17a5d3944b431391f8ee452f3da95e",
            "3fa12bdbeaae42cbb0e8b9a443d98bfc",
            "c94544c029df43539d4cfcade49620bf",
            "7dd8b9245e7a47c1b8a406357e8e9765",
            "fc643b296cbe492d8eb57c2ea0badf1e",
            "3e82f8b2163641139cb18a7dbbd8115c",
            "7b7e075957504bc0a07c069b01d7ecad",
            "8a5d5516b9394e68814a115a8153b932",
            "b4c06a73fb6e481aba0d937b7eaf3d8f",
            "69aa6d3a64fe402bba2ed2e5b669cfe0",
            "e950f6e3a7c5439e9f8fe2cfcbcfcdd6",
            "ccb57edaf0864f7d85e0ff2be4293d17",
            "841ba5f912c947d0aabe1f2e827b3026",
            "d482bd44d68643d88878038a73e90b13",
            "0a02e0f065e348aea10cf4d6bca5444c",
            "19271da720054f2a92b1b56fce807277",
            "c35b456729f94e0da590583e32839691",
            "35767a0fdf9442a996678b435695a2e0",
            "92833270c9d54bc9a6838aa75aa98369"
          ]
        },
        "id": "UR4izYjHItUb",
        "outputId": "5e33dfdd-1c9e-4f1f-e7c3-8847c6def975",
        "execution": {
          "iopub.status.busy": "2024-06-15T16:07:50.442130Z",
          "iopub.execute_input": "2024-06-15T16:07:50.442530Z",
          "iopub.status.idle": "2024-06-15T16:27:41.783640Z",
          "shell.execute_reply.started": "2024-06-15T16:07:50.442498Z",
          "shell.execute_reply": "2024-06-15T16:27:41.782522Z"
        },
        "trusted": true
      },
      "execution_count": null,
      "outputs": [
        {
          "name": "stderr",
          "text": "/opt/conda/lib/python3.10/site-packages/transformers/training_args.py:1474: FutureWarning: `evaluation_strategy` is deprecated and will be removed in version 4.46 of 🤗 Transformers. Use `eval_strategy` instead\n  warnings.warn(\n/opt/conda/lib/python3.10/site-packages/torch/nn/parallel/_functions.py:68: UserWarning: Was asked to gather along dimension 0, but all input tensors were scalars; will instead unsqueeze and return a vector.\n  warnings.warn('Was asked to gather along dimension 0, but all '\n",
          "output_type": "stream"
        },
        {
          "output_type": "display_data",
          "data": {
            "text/plain": "<IPython.core.display.HTML object>",
            "text/html": "\n    <div>\n      \n      <progress value='3396' max='3396' style='width:300px; height:20px; vertical-align: middle;'></progress>\n      [3396/3396 19:22, Epoch 3/3]\n    </div>\n    <table border=\"1\" class=\"dataframe\">\n  <thead>\n <tr style=\"text-align: left;\">\n      <th>Epoch</th>\n      <th>Training Loss</th>\n      <th>Validation Loss</th>\n      <th>F1</th>\n    </tr>\n  </thead>\n  <tbody>\n    <tr>\n      <td>1</td>\n      <td>0.404600</td>\n      <td>0.453370</td>\n      <td>0.901118</td>\n    </tr>\n    <tr>\n      <td>2</td>\n      <td>0.450500</td>\n      <td>0.471280</td>\n      <td>0.901532</td>\n    </tr>\n    <tr>\n      <td>3</td>\n      <td>0.452900</td>\n      <td>0.387495</td>\n      <td>0.920233</td>\n    </tr>\n  </tbody>\n</table><p>"
          },
          "metadata": {}
        },
        {
          "name": "stderr",
          "text": "/opt/conda/lib/python3.10/site-packages/torch/nn/parallel/_functions.py:68: UserWarning: Was asked to gather along dimension 0, but all input tensors were scalars; will instead unsqueeze and return a vector.\n  warnings.warn('Was asked to gather along dimension 0, but all '\n/opt/conda/lib/python3.10/site-packages/torch/nn/parallel/_functions.py:68: UserWarning: Was asked to gather along dimension 0, but all input tensors were scalars; will instead unsqueeze and return a vector.\n  warnings.warn('Was asked to gather along dimension 0, but all '\n/opt/conda/lib/python3.10/site-packages/torch/nn/parallel/_functions.py:68: UserWarning: Was asked to gather along dimension 0, but all input tensors were scalars; will instead unsqueeze and return a vector.\n  warnings.warn('Was asked to gather along dimension 0, but all '\n/opt/conda/lib/python3.10/site-packages/torch/nn/parallel/_functions.py:68: UserWarning: Was asked to gather along dimension 0, but all input tensors were scalars; will instead unsqueeze and return a vector.\n  warnings.warn('Was asked to gather along dimension 0, but all '\n/opt/conda/lib/python3.10/site-packages/torch/nn/parallel/_functions.py:68: UserWarning: Was asked to gather along dimension 0, but all input tensors were scalars; will instead unsqueeze and return a vector.\n  warnings.warn('Was asked to gather along dimension 0, but all '\n/opt/conda/lib/python3.10/site-packages/torch/nn/parallel/_functions.py:68: UserWarning: Was asked to gather along dimension 0, but all input tensors were scalars; will instead unsqueeze and return a vector.\n  warnings.warn('Was asked to gather along dimension 0, but all '\n/opt/conda/lib/python3.10/site-packages/torch/nn/parallel/_functions.py:68: UserWarning: Was asked to gather along dimension 0, but all input tensors were scalars; will instead unsqueeze and return a vector.\n  warnings.warn('Was asked to gather along dimension 0, but all '\n/opt/conda/lib/python3.10/site-packages/torch/nn/parallel/_functions.py:68: UserWarning: Was asked to gather along dimension 0, but all input tensors were scalars; will instead unsqueeze and return a vector.\n  warnings.warn('Was asked to gather along dimension 0, but all '\n/opt/conda/lib/python3.10/site-packages/torch/nn/parallel/_functions.py:68: UserWarning: Was asked to gather along dimension 0, but all input tensors were scalars; will instead unsqueeze and return a vector.\n  warnings.warn('Was asked to gather along dimension 0, but all '\n",
          "output_type": "stream"
        },
        {
          "output_type": "display_data",
          "data": {
            "text/plain": "<IPython.core.display.HTML object>",
            "text/html": "\n    <div>\n      \n      <progress value='284' max='284' style='width:300px; height:20px; vertical-align: middle;'></progress>\n      [284/284 00:27]\n    </div>\n    "
          },
          "metadata": {}
        },
        {
          "execution_count": 17,
          "output_type": "execute_result",
          "data": {
            "text/plain": "{'eval_loss': 0.3874953091144562,\n 'eval_f1': 0.9202327084680025,\n 'eval_runtime': 27.737,\n 'eval_samples_per_second': 163.284,\n 'eval_steps_per_second': 10.239,\n 'epoch': 3.0}"
          },
          "metadata": {}
        }
      ]
    },
    {
      "cell_type": "markdown",
      "source": [
        "\n",
        "\n",
        "\n",
        "### DistilBERT (distilbert-base-uncased)"
      ],
      "metadata": {
        "id": "J5N7Nc20hVCT"
      }
    },
    {
      "cell_type": "code",
      "source": [
        "train_dataset = Dataset.from_pandas(train_df)\n",
        "val_dataset = Dataset.from_pandas(val_df)\n",
        "\n",
        "# Загрузка токенизатора и модели DistilBERT\n",
        "model_name = \"distilbert-base-uncased\"\n",
        "tokenizer = DistilBertTokenizer.from_pretrained(model_name)\n",
        "model = DistilBertForSequenceClassification.from_pretrained(model_name, num_labels=2)\n",
        "\n",
        "train_dataset = train_dataset.map(tokenize_function, batched=True)\n",
        "val_dataset = val_dataset.map(tokenize_function, batched=True)\n",
        "\n",
        "train_dataset = train_dataset.rename_column('Recommended IND', 'labels')\n",
        "val_dataset = val_dataset.rename_column('Recommended IND', 'labels')\n",
        "\n",
        "columns_to_remove = ['Review Text', 'Title', 'Cleaned Review', '__index_level_0__']\n",
        "train_dataset = train_dataset.remove_columns([col for col in columns_to_remove if col in train_dataset.column_names])\n",
        "val_dataset = val_dataset.remove_columns([col for col in columns_to_remove if col in val_dataset.column_names])\n",
        "\n",
        "train_dataset.set_format(type='torch', columns=['input_ids', 'attention_mask', 'labels'])\n",
        "val_dataset.set_format(type='torch', columns=['input_ids', 'attention_mask', 'labels'])\n",
        "\n",
        "training_args = TrainingArguments(\n",
        "    output_dir='./results/DistilBERT',\n",
        "    num_train_epochs=3,\n",
        "    per_device_train_batch_size=8,\n",
        "    per_device_eval_batch_size=8,\n",
        "    warmup_steps=500,\n",
        "    weight_decay=0.01,\n",
        "    evaluation_strategy=\"epoch\",\n",
        ")\n",
        "\n",
        "trainer = Trainer(\n",
        "    model=model,\n",
        "    args=training_args,\n",
        "    train_dataset=train_dataset,\n",
        "    eval_dataset=val_dataset,\n",
        "    compute_metrics=compute_metrics,\n",
        ")\n",
        "\n",
        "trainer.train()\n",
        "trainer.evaluate()"
      ],
      "metadata": {
        "id": "9eyml2IkIv_0",
        "execution": {
          "iopub.status.busy": "2024-06-15T19:52:07.990121Z",
          "iopub.execute_input": "2024-06-15T19:52:07.991035Z",
          "iopub.status.idle": "2024-06-15T20:06:41.340323Z",
          "shell.execute_reply.started": "2024-06-15T19:52:07.991002Z",
          "shell.execute_reply": "2024-06-15T20:06:41.339404Z"
        },
        "trusted": true,
        "outputId": "8412c0b4-0ced-4171-80f3-b4ea0f840501",
        "colab": {
          "referenced_widgets": [
            "b0d16b3f44b140a6a3cc3a308a688f60",
            "5302a637f262429faae63ecdb048a15b"
          ]
        }
      },
      "execution_count": null,
      "outputs": [
        {
          "name": "stderr",
          "text": "Some weights of DistilBertForSequenceClassification were not initialized from the model checkpoint at distilbert-base-uncased and are newly initialized: ['classifier.bias', 'classifier.weight', 'pre_classifier.bias', 'pre_classifier.weight']\nYou should probably TRAIN this model on a down-stream task to be able to use it for predictions and inference.\n",
          "output_type": "stream"
        },
        {
          "output_type": "display_data",
          "data": {
            "text/plain": "Map:   0%|          | 0/18112 [00:00<?, ? examples/s]",
            "application/vnd.jupyter.widget-view+json": {
              "version_major": 2,
              "version_minor": 0,
              "model_id": "b0d16b3f44b140a6a3cc3a308a688f60"
            }
          },
          "metadata": {}
        },
        {
          "output_type": "display_data",
          "data": {
            "text/plain": "Map:   0%|          | 0/4529 [00:00<?, ? examples/s]",
            "application/vnd.jupyter.widget-view+json": {
              "version_major": 2,
              "version_minor": 0,
              "model_id": "5302a637f262429faae63ecdb048a15b"
            }
          },
          "metadata": {}
        },
        {
          "name": "stderr",
          "text": "/opt/conda/lib/python3.10/site-packages/transformers/training_args.py:1474: FutureWarning: `evaluation_strategy` is deprecated and will be removed in version 4.46 of 🤗 Transformers. Use `eval_strategy` instead\n  warnings.warn(\n\u001b[34m\u001b[1mwandb\u001b[0m: \u001b[33mWARNING\u001b[0m The `run_name` is currently set to the same value as `TrainingArguments.output_dir`. If this was not intended, please specify a different run name by setting the `TrainingArguments.run_name` parameter.\n\u001b[34m\u001b[1mwandb\u001b[0m: Logging into wandb.ai. (Learn how to deploy a W&B server locally: https://wandb.me/wandb-server)\n\u001b[34m\u001b[1mwandb\u001b[0m: You can find your API key in your browser here: https://wandb.ai/authorize\n\u001b[34m\u001b[1mwandb\u001b[0m: Paste an API key from your profile and hit enter, or press ctrl+c to quit:",
          "output_type": "stream"
        },
        {
          "output_type": "stream",
          "name": "stdin",
          "text": "  ········································\n"
        },
        {
          "name": "stderr",
          "text": "\u001b[34m\u001b[1mwandb\u001b[0m: Appending key for api.wandb.ai to your netrc file: /root/.netrc\n",
          "output_type": "stream"
        },
        {
          "output_type": "display_data",
          "data": {
            "text/plain": "<IPython.core.display.HTML object>",
            "text/html": "wandb version 0.17.1 is available!  To upgrade, please run:\n $ pip install wandb --upgrade"
          },
          "metadata": {}
        },
        {
          "output_type": "display_data",
          "data": {
            "text/plain": "<IPython.core.display.HTML object>",
            "text/html": "Tracking run with wandb version 0.17.0"
          },
          "metadata": {}
        },
        {
          "output_type": "display_data",
          "data": {
            "text/plain": "<IPython.core.display.HTML object>",
            "text/html": "Run data is saved locally in <code>/kaggle/working/wandb/run-20240615_195724-6z3fq17i</code>"
          },
          "metadata": {}
        },
        {
          "output_type": "display_data",
          "data": {
            "text/plain": "<IPython.core.display.HTML object>",
            "text/html": "Syncing run <strong><a href='https://wandb.ai/blanca_planca/huggingface/runs/6z3fq17i' target=\"_blank\">/kaggle/working/results/DistilBERT</a></strong> to <a href='https://wandb.ai/blanca_planca/huggingface' target=\"_blank\">Weights & Biases</a> (<a href='https://wandb.me/run' target=\"_blank\">docs</a>)<br/>"
          },
          "metadata": {}
        },
        {
          "output_type": "display_data",
          "data": {
            "text/plain": "<IPython.core.display.HTML object>",
            "text/html": " View project at <a href='https://wandb.ai/blanca_planca/huggingface' target=\"_blank\">https://wandb.ai/blanca_planca/huggingface</a>"
          },
          "metadata": {}
        },
        {
          "output_type": "display_data",
          "data": {
            "text/plain": "<IPython.core.display.HTML object>",
            "text/html": " View run at <a href='https://wandb.ai/blanca_planca/huggingface/runs/6z3fq17i' target=\"_blank\">https://wandb.ai/blanca_planca/huggingface/runs/6z3fq17i</a>"
          },
          "metadata": {}
        },
        {
          "output_type": "display_data",
          "data": {
            "text/plain": "<IPython.core.display.HTML object>",
            "text/html": "\n    <div>\n      \n      <progress value='6792' max='6792' style='width:300px; height:20px; vertical-align: middle;'></progress>\n      [6792/6792 08:47, Epoch 3/3]\n    </div>\n    <table border=\"1\" class=\"dataframe\">\n  <thead>\n <tr style=\"text-align: left;\">\n      <th>Epoch</th>\n      <th>Training Loss</th>\n      <th>Validation Loss</th>\n      <th>F1</th>\n    </tr>\n  </thead>\n  <tbody>\n    <tr>\n      <td>1</td>\n      <td>0.303600</td>\n      <td>0.287800</td>\n      <td>0.930170</td>\n    </tr>\n    <tr>\n      <td>2</td>\n      <td>0.234600</td>\n      <td>0.328780</td>\n      <td>0.935275</td>\n    </tr>\n    <tr>\n      <td>3</td>\n      <td>0.156800</td>\n      <td>0.390887</td>\n      <td>0.935925</td>\n    </tr>\n  </tbody>\n</table><p>"
          },
          "metadata": {}
        },
        {
          "output_type": "display_data",
          "data": {
            "text/plain": "<IPython.core.display.HTML object>",
            "text/html": "\n    <div>\n      \n      <progress value='567' max='567' style='width:300px; height:20px; vertical-align: middle;'></progress>\n      [567/567 00:10]\n    </div>\n    "
          },
          "metadata": {}
        },
        {
          "execution_count": 8,
          "output_type": "execute_result",
          "data": {
            "text/plain": "{'eval_loss': 0.39088666439056396,\n 'eval_f1': 0.9359249329758713,\n 'eval_runtime': 10.1622,\n 'eval_samples_per_second': 445.671,\n 'eval_steps_per_second': 55.795,\n 'epoch': 3.0}"
          },
          "metadata": {}
        }
      ]
    },
    {
      "cell_type": "markdown",
      "source": [
        "### Общий пайплайн - пример"
      ],
      "metadata": {
        "id": "B5OGZanidgG2"
      }
    },
    {
      "cell_type": "code",
      "source": [
        "from transformers import (\n",
        "    AutoTokenizer,         # общий класс-фабрика для всех токенизаторов\n",
        "    AutoModelForSequenceClassification,\n",
        "    DataCollatorWithPadding,\n",
        ")"
      ],
      "metadata": {
        "id": "uqa1BKG0d8oz"
      },
      "execution_count": null,
      "outputs": []
    },
    {
      "cell_type": "code",
      "source": [
        "args = TrainingArguments(\n",
        "    output_dir=\"checkpoints\",\n",
        "    num_train_epochs=3,\n",
        "    per_device_train_batch_size=8,\n",
        "    per_device_eval_batch_size=8,\n",
        "    evaluation_strategy=\"epoch\",\n",
        "    warmup_ratio=0.1, # первые 10 % шагов — линейный разогрев learning-rate\n",
        "    weight_decay=0.01,\n",
        "    fp16=True # mixed-precision (FP16) ускоряет и экономит память\n",
        "\n",
        "data_collator = DataCollatorWithPadding(tokenizer=None, return_tensors=\"pt\")  # токенизатор зададим позже\n",
        "\n",
        "\n",
        "model_names = {\n",
        "    \"BERT-base\": \"bert-base-uncased\",\n",
        "    \"RoBERTa-base\": \"roberta-base\",\n",
        "    \"DistilBERT-base\": \"distilbert-base-uncased\",\n",
        "}\n",
        "\n",
        "results = {}\n",
        "for label, model_id in model_names.items():\n",
        "    print(f\"\\n {label} \")\n",
        "    tokenizer = AutoTokenizer.from_pretrained(model_id)\n",
        "    tokenized_train = train_ds.map(lambda x: tokenize(x, tokenizer), batched=True, remove_columns=[\"text\"])\n",
        "    tokenized_val = val_ds.map(lambda x: tokenize(x, tokenizer), batched=True, remove_columns=[\"text\"])\n",
        "    data_collator.tokenizer = tokenizer  # обновим паддинг к актуальному токенизатору\n",
        "\n",
        "    model = AutoModelForSequenceClassification.from_pretrained(model_id, num_labels=2)\n",
        "    trainer = Trainer(\n",
        "        model=model,\n",
        "        args=args,\n",
        "        train_dataset=tokenized_train,\n",
        "        eval_dataset=tokenized_val,\n",
        "        tokenizer=tokenizer,\n",
        "        data_collator=data_collator,\n",
        "        compute_metrics=compute_metrics,\n",
        "    )\n",
        "    trainer.train()\n",
        "    eval_res = trainer.evaluate()\n",
        "    results[label] = eval_res[\"eval_f1\"]\n",
        "\n",
        "print(pd.Series(results, name=\"F1-score\").sort_values(ascending=False))"
      ],
      "metadata": {
        "id": "_NCGwnNSdnFL"
      },
      "execution_count": null,
      "outputs": []
    },
    {
      "cell_type": "markdown",
      "source": [
        "### Предсказываем рейтинг"
      ],
      "metadata": {
        "id": "aAN55FBvhVCV"
      }
    },
    {
      "cell_type": "code",
      "source": [
        "def compute_metrics(eval_pred):\n",
        "    logits, labels = eval_pred\n",
        "    predictions = np.argmax(logits, axis=-1)\n",
        "    # используем 'weighted' для многоклассовой задачи\n",
        "    return {'f1': f1_score(labels, predictions, average='weighted')}"
      ],
      "metadata": {
        "execution": {
          "iopub.status.busy": "2024-06-15T19:29:10.328290Z",
          "iopub.execute_input": "2024-06-15T19:29:10.328636Z",
          "iopub.status.idle": "2024-06-15T19:29:10.373267Z",
          "shell.execute_reply.started": "2024-06-15T19:29:10.328603Z",
          "shell.execute_reply": "2024-06-15T19:29:10.372403Z"
        },
        "trusted": true,
        "id": "KrJqxRwAhVCV"
      },
      "execution_count": null,
      "outputs": []
    },
    {
      "cell_type": "code",
      "source": [
        "# Преобразование рейтинга в диапазон 0-4, поскольку модель работает с метками,\n",
        "# которые начинаются с нуля\n",
        "\n",
        "df['Rating'] = df['Rating'] - 1\n",
        "\n",
        "# Работать будем с базовой Бертой для удобства\n",
        "model_name = \"bert-base-uncased\"\n",
        "tokenizer = BertTokenizer.from_pretrained(model_name)\n",
        "model = BertForSequenceClassification.from_pretrained(model_name, num_labels=5)\n",
        "\n",
        "train_df, val_df = train_test_split(df, test_size=0.2, stratify=df['Rating'], random_state=42)\n",
        "\n",
        "train_dataset = Dataset.from_pandas(train_df)\n",
        "val_dataset = Dataset.from_pandas(val_df)\n",
        "\n",
        "train_dataset = train_dataset.map(tokenize_function, batched=True)\n",
        "val_dataset = val_dataset.map(tokenize_function, batched=True)\n",
        "\n",
        "train_dataset = train_dataset.remove_columns(['Review Text', 'Title', 'Cleaned Review', '__index_level_0__'])\n",
        "val_dataset = val_dataset.remove_columns(['Review Text', 'Title', 'Cleaned Review', '__index_level_0__'])\n",
        "\n",
        "train_dataset.set_format(type='torch', columns=['input_ids', 'attention_mask', 'Rating'])\n",
        "val_dataset.set_format(type='torch', columns=['input_ids', 'attention_mask', 'Rating'])\n",
        "\n",
        "train_dataset = train_dataset.rename_column('Rating', 'labels')\n",
        "val_dataset = val_dataset.rename_column('Rating', 'labels')\n",
        "\n",
        "training_args = TrainingArguments(\n",
        "    output_dir='./results/BaseBert_2',\n",
        "    num_train_epochs=3,\n",
        "    per_device_train_batch_size=8,\n",
        "    per_device_eval_batch_size=8,\n",
        "    warmup_steps=500,\n",
        "    weight_decay=0.01,\n",
        "    evaluation_strategy=\"epoch\",\n",
        ")\n",
        "\n",
        "trainer = Trainer(\n",
        "    model=model,\n",
        "    args=training_args,\n",
        "    train_dataset=train_dataset,\n",
        "    eval_dataset=val_dataset,\n",
        "    compute_metrics=compute_metrics,\n",
        ")\n",
        "\n",
        "trainer.train()\n",
        "trainer.evaluate()"
      ],
      "metadata": {
        "execution": {
          "iopub.status.busy": "2024-06-15T19:29:10.374419Z",
          "iopub.execute_input": "2024-06-15T19:29:10.374966Z",
          "iopub.status.idle": "2024-06-15T19:46:44.306751Z",
          "shell.execute_reply.started": "2024-06-15T19:29:10.374933Z",
          "shell.execute_reply": "2024-06-15T19:46:44.305763Z"
        },
        "trusted": true,
        "id": "WbR95otehVCW",
        "outputId": "4fe8e7bc-2af8-4cb8-cb70-7005a5adee9f",
        "colab": {
          "referenced_widgets": [
            "d68d62cbdccb41ebb6ea8c0840b5aec8",
            "444c12ad46ef45aea2c502274a366b20",
            "05bf34735fd84136adbc4b936209b5b3",
            "02f048cf57994c5c857a5c6f25628664",
            "e9d83d026ee74dbcb9ee04b07c71efe8",
            "2d7d66aa2d3248ec9893c52e3ae99643",
            "f4e66074bd044141a205bd4cd2fb57b2"
          ]
        }
      },
      "execution_count": null,
      "outputs": [
        {
          "output_type": "display_data",
          "data": {
            "text/plain": "tokenizer_config.json:   0%|          | 0.00/48.0 [00:00<?, ?B/s]",
            "application/vnd.jupyter.widget-view+json": {
              "version_major": 2,
              "version_minor": 0,
              "model_id": "d68d62cbdccb41ebb6ea8c0840b5aec8"
            }
          },
          "metadata": {}
        },
        {
          "output_type": "display_data",
          "data": {
            "text/plain": "vocab.txt:   0%|          | 0.00/232k [00:00<?, ?B/s]",
            "application/vnd.jupyter.widget-view+json": {
              "version_major": 2,
              "version_minor": 0,
              "model_id": "444c12ad46ef45aea2c502274a366b20"
            }
          },
          "metadata": {}
        },
        {
          "output_type": "display_data",
          "data": {
            "text/plain": "tokenizer.json:   0%|          | 0.00/466k [00:00<?, ?B/s]",
            "application/vnd.jupyter.widget-view+json": {
              "version_major": 2,
              "version_minor": 0,
              "model_id": "05bf34735fd84136adbc4b936209b5b3"
            }
          },
          "metadata": {}
        },
        {
          "name": "stderr",
          "text": "/opt/conda/lib/python3.10/site-packages/huggingface_hub/file_download.py:1132: FutureWarning: `resume_download` is deprecated and will be removed in version 1.0.0. Downloads always resume when possible. If you want to force a new download, use `force_download=True`.\n  warnings.warn(\n",
          "output_type": "stream"
        },
        {
          "output_type": "display_data",
          "data": {
            "text/plain": "config.json:   0%|          | 0.00/570 [00:00<?, ?B/s]",
            "application/vnd.jupyter.widget-view+json": {
              "version_major": 2,
              "version_minor": 0,
              "model_id": "02f048cf57994c5c857a5c6f25628664"
            }
          },
          "metadata": {}
        },
        {
          "output_type": "display_data",
          "data": {
            "text/plain": "model.safetensors:   0%|          | 0.00/440M [00:00<?, ?B/s]",
            "application/vnd.jupyter.widget-view+json": {
              "version_major": 2,
              "version_minor": 0,
              "model_id": "e9d83d026ee74dbcb9ee04b07c71efe8"
            }
          },
          "metadata": {}
        },
        {
          "name": "stderr",
          "text": "Some weights of BertForSequenceClassification were not initialized from the model checkpoint at bert-base-uncased and are newly initialized: ['classifier.bias', 'classifier.weight']\nYou should probably TRAIN this model on a down-stream task to be able to use it for predictions and inference.\n",
          "output_type": "stream"
        },
        {
          "output_type": "display_data",
          "data": {
            "text/plain": "Map:   0%|          | 0/18112 [00:00<?, ? examples/s]",
            "application/vnd.jupyter.widget-view+json": {
              "version_major": 2,
              "version_minor": 0,
              "model_id": "2d7d66aa2d3248ec9893c52e3ae99643"
            }
          },
          "metadata": {}
        },
        {
          "output_type": "display_data",
          "data": {
            "text/plain": "Map:   0%|          | 0/4529 [00:00<?, ? examples/s]",
            "application/vnd.jupyter.widget-view+json": {
              "version_major": 2,
              "version_minor": 0,
              "model_id": "f4e66074bd044141a205bd4cd2fb57b2"
            }
          },
          "metadata": {}
        },
        {
          "name": "stderr",
          "text": "/opt/conda/lib/python3.10/site-packages/transformers/training_args.py:1474: FutureWarning: `evaluation_strategy` is deprecated and will be removed in version 4.46 of 🤗 Transformers. Use `eval_strategy` instead\n  warnings.warn(\n\u001b[34m\u001b[1mwandb\u001b[0m: \u001b[33mWARNING\u001b[0m The `run_name` is currently set to the same value as `TrainingArguments.output_dir`. If this was not intended, please specify a different run name by setting the `TrainingArguments.run_name` parameter.\n\u001b[34m\u001b[1mwandb\u001b[0m: Logging into wandb.ai. (Learn how to deploy a W&B server locally: https://wandb.me/wandb-server)\n\u001b[34m\u001b[1mwandb\u001b[0m: You can find your API key in your browser here: https://wandb.ai/authorize\n\u001b[34m\u001b[1mwandb\u001b[0m: Paste an API key from your profile and hit enter, or press ctrl+c to quit:",
          "output_type": "stream"
        },
        {
          "output_type": "stream",
          "name": "stdin",
          "text": "  ········································\n"
        },
        {
          "name": "stderr",
          "text": "\u001b[34m\u001b[1mwandb\u001b[0m: Appending key for api.wandb.ai to your netrc file: /root/.netrc\n",
          "output_type": "stream"
        },
        {
          "output_type": "display_data",
          "data": {
            "text/plain": "<IPython.core.display.HTML object>",
            "text/html": "wandb version 0.17.1 is available!  To upgrade, please run:\n $ pip install wandb --upgrade"
          },
          "metadata": {}
        },
        {
          "output_type": "display_data",
          "data": {
            "text/plain": "<IPython.core.display.HTML object>",
            "text/html": "Tracking run with wandb version 0.17.0"
          },
          "metadata": {}
        },
        {
          "output_type": "display_data",
          "data": {
            "text/plain": "<IPython.core.display.HTML object>",
            "text/html": "Run data is saved locally in <code>/kaggle/working/wandb/run-20240615_193000-x6n731p4</code>"
          },
          "metadata": {}
        },
        {
          "output_type": "display_data",
          "data": {
            "text/plain": "<IPython.core.display.HTML object>",
            "text/html": "Syncing run <strong><a href='https://wandb.ai/blanca_planca/huggingface/runs/x6n731p4' target=\"_blank\">/kaggle/working/results/BaseBert</a></strong> to <a href='https://wandb.ai/blanca_planca/huggingface' target=\"_blank\">Weights & Biases</a> (<a href='https://wandb.me/run' target=\"_blank\">docs</a>)<br/>"
          },
          "metadata": {}
        },
        {
          "output_type": "display_data",
          "data": {
            "text/plain": "<IPython.core.display.HTML object>",
            "text/html": " View project at <a href='https://wandb.ai/blanca_planca/huggingface' target=\"_blank\">https://wandb.ai/blanca_planca/huggingface</a>"
          },
          "metadata": {}
        },
        {
          "output_type": "display_data",
          "data": {
            "text/plain": "<IPython.core.display.HTML object>",
            "text/html": " View run at <a href='https://wandb.ai/blanca_planca/huggingface/runs/x6n731p4' target=\"_blank\">https://wandb.ai/blanca_planca/huggingface/runs/x6n731p4</a>"
          },
          "metadata": {}
        },
        {
          "output_type": "display_data",
          "data": {
            "text/plain": "<IPython.core.display.HTML object>",
            "text/html": "\n    <div>\n      \n      <progress value='6792' max='6792' style='width:300px; height:20px; vertical-align: middle;'></progress>\n      [6792/6792 16:06, Epoch 3/3]\n    </div>\n    <table border=\"1\" class=\"dataframe\">\n  <thead>\n <tr style=\"text-align: left;\">\n      <th>Epoch</th>\n      <th>Training Loss</th>\n      <th>Validation Loss</th>\n      <th>F1</th>\n    </tr>\n  </thead>\n  <tbody>\n    <tr>\n      <td>1</td>\n      <td>0.869800</td>\n      <td>0.910136</td>\n      <td>0.565748</td>\n    </tr>\n    <tr>\n      <td>2</td>\n      <td>0.743800</td>\n      <td>0.926729</td>\n      <td>0.618988</td>\n    </tr>\n    <tr>\n      <td>3</td>\n      <td>0.537900</td>\n      <td>1.037795</td>\n      <td>0.634552</td>\n    </tr>\n  </tbody>\n</table><p>"
          },
          "metadata": {}
        },
        {
          "output_type": "display_data",
          "data": {
            "text/plain": "<IPython.core.display.HTML object>",
            "text/html": "\n    <div>\n      \n      <progress value='567' max='567' style='width:300px; height:20px; vertical-align: middle;'></progress>\n      [567/567 00:18]\n    </div>\n    "
          },
          "metadata": {}
        },
        {
          "execution_count": 8,
          "output_type": "execute_result",
          "data": {
            "text/plain": "{'eval_loss': 1.0377954244613647,\n 'eval_f1': 0.6345516973688746,\n 'eval_runtime': 18.5346,\n 'eval_samples_per_second': 244.354,\n 'eval_steps_per_second': 30.591,\n 'epoch': 3.0}"
          },
          "metadata": {}
        }
      ]
    }
  ]
}