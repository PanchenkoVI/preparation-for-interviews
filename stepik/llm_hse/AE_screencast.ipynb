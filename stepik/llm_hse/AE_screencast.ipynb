{
  "cells": [
    {
      "cell_type": "markdown",
      "metadata": {
        "id": "NhaPK6l4FFq4"
      },
      "source": [
        "# Autoencoder"
      ]
    },
    {
      "cell_type": "markdown",
      "metadata": {
        "id": "9eDAeOfHFFq6"
      },
      "source": [
        "## Автокодировщики\n",
        "\n",
        "Автокодировщик – это unsupervised (не требующие разметки для обучения) модель, которая находят применение как базовый строительный блоки в огромном количестве сложных моделей.\n",
        "\n",
        "Автокодировщик состоит из двух нейронных сетей, называемых _энкодером_ (кодировщиком) и _декодером_ (декодировщиком), которые работают в тандеме.\n",
        "Задача энкодера – сжать исходный объект до вектора малой размерности, называемого _латентным кодом_.\n",
        "Задача декодера – восстановить из этого латентного кода исходный объект.\n",
        "\n",
        "---\n",
        "Обучение происходит путем уменьшения ошибки между исходным объектом и восстановленным:\n",
        "\n",
        "$$\n",
        "Loss =\n",
        "\\sum_{x_i \\in X} MSE(x_i, x_i') =\n",
        "\\sum_{x_i \\in X} MSE(x_i, f_{\\theta}(g_{\\phi}(x_i))\n",
        "$$\n",
        "\n",
        "![Архитектура автоэнкодера 2](https://lilianweng.github.io/lil-log/assets/images/autoencoder-architecture.png)"
      ]
    },
    {
      "cell_type": "markdown",
      "metadata": {
        "id": "Pzj5oyCIFFq7"
      },
      "source": [
        "Реализуем простейший автокодировщик, который берет изображения из датасета **MNIST** и выучивает их латентный код длины **k**.\n",
        "\n",
        "В этой части мы реализуем:\n",
        "\n",
        "* Encoder - четырехслойную полносвязную сеть с размерностями (784-128-64-k)\n",
        "* Decoder - симметричную полносвязную сеть с размерностями (k-64-128-784)\n",
        "* Loss функцию для обучения - MSE от входа и выхода автокодировщика"
      ]
    },
    {
      "cell_type": "code",
      "execution_count": null,
      "metadata": {
        "id": "XnkNdcIqFFq7"
      },
      "outputs": [],
      "source": [
        "from typing import Type, Union\n",
        "\n",
        "import matplotlib.pyplot as plt\n",
        "import numpy as np\n",
        "import torch\n",
        "import torchvision\n",
        "import torchvision.transforms as transforms\n",
        "from IPython.display import clear_output, display\n",
        "from ipywidgets import Output\n",
        "from torch import nn, optim\n",
        "from tqdm.auto import trange\n",
        "\n",
        "%matplotlib inline\n",
        "\n",
        "device = \"cuda\" if torch.cuda.is_available() else \"cpu\""
      ]
    },
    {
      "cell_type": "code",
      "execution_count": null,
      "metadata": {
        "id": "kVu8HpkAFFq8"
      },
      "outputs": [],
      "source": [
        "class MNISTEncoder(nn.Module):\n",
        "    def __init__(self, lat_size: int = 10) -> None:\n",
        "        super().__init__()\n",
        "\n",
        "        self.lat_size = lat_size\n",
        "\n",
        "        self.encoder = nn.Sequential(\n",
        "            nn.Flatten(),\n",
        "            nn.Linear(784, 128),\n",
        "            nn.ReLU(),\n",
        "            nn.Linear(128, 64),\n",
        "            nn.ReLU(),\n",
        "            nn.Linear(64, self.lat_size),\n",
        "        )\n",
        "\n",
        "    def forward(self, x: torch.Tensor) -> torch.Tensor:\n",
        "        z = self.encoder(x)\n",
        "\n",
        "        return z\n",
        "\n",
        "\n",
        "class MNISTDecoder(nn.Module):\n",
        "    def __init__(self, lat_size: int = 10) -> None:\n",
        "        super().__init__()\n",
        "\n",
        "        self.lat_size = lat_size\n",
        "\n",
        "        self.decoder = nn.Sequential(\n",
        "            nn.Linear(self.lat_size, 64),\n",
        "            nn.ReLU(),\n",
        "            nn.Linear(64, 128),\n",
        "            nn.ReLU(),\n",
        "            nn.Linear(128, 784),\n",
        "            nn.Sigmoid(),\n",
        "        )\n",
        "\n",
        "    def forward(self, z: torch.Tensor) -> torch.Tensor:\n",
        "        reconstructed_x = self.decoder(z)\n",
        "        reconstructed_x = reconstructed_x.view(-1, 1, 28, 28)\n",
        "\n",
        "        return reconstructed_x"
      ]
    },
    {
      "cell_type": "code",
      "execution_count": null,
      "metadata": {
        "id": "SnnZWSDYFFq8"
      },
      "outputs": [],
      "source": [
        "class AutoEncoder(nn.Module):\n",
        "    def __init__(\n",
        "        self,\n",
        "        lat_size: int = 10,\n",
        "        encoder_class: Type[MNISTEncoder] = MNISTEncoder,\n",
        "        decoder_class: Type[MNISTDecoder] = MNISTDecoder,\n",
        "        criterion_class: Type[torch.optim.Optimizer] = nn.MSELoss,\n",
        "    ) -> None:\n",
        "        super().__init__()\n",
        "\n",
        "        self.lat_size = lat_size\n",
        "        self.enc = encoder_class(lat_size)\n",
        "        self.dec = decoder_class(lat_size)\n",
        "        self.criterion = criterion_class()\n",
        "\n",
        "    def encode(self, x):\n",
        "        return self.enc(x)\n",
        "\n",
        "    def decode(self, z):\n",
        "        return self.dec(z)\n",
        "\n",
        "    def compute_loss(\n",
        "        self, x: torch.Tensor, return_reconstruction: bool = False\n",
        "    ) -> Union[tuple[torch.Tensor, torch.Tensor], torch.Tensor]:\n",
        "        z = self.encode(x)\n",
        "        reconstructed_x = self.decode(z)\n",
        "\n",
        "        loss = self.criterion(x, reconstructed_x)\n",
        "\n",
        "        if return_reconstruction:\n",
        "            return loss, reconstructed_x\n",
        "        else:\n",
        "            return loss"
      ]
    },
    {
      "cell_type": "markdown",
      "metadata": {
        "id": "76qrlybHFFq8"
      },
      "source": [
        "Посмотрим на обучение автокодировщика"
      ]
    },
    {
      "cell_type": "code",
      "execution_count": null,
      "metadata": {
        "id": "Sh7tKUS1FFq9"
      },
      "outputs": [],
      "source": [
        "def train_epoch(\n",
        "    model: nn.Module,\n",
        "    train_dataloader: torch.utils.data.DataLoader,\n",
        "    optimizer: torch.optim.Optimizer,\n",
        "    verbose_num_iters: int = 32,\n",
        "    device: torch.device = \"cuda\",\n",
        ") -> list[float]:\n",
        "    model.to(device)\n",
        "    model.train()\n",
        "    epoch_loss_trace = []\n",
        "\n",
        "    display()\n",
        "    out = Output()\n",
        "    display(out)\n",
        "\n",
        "    for i, batch in enumerate(train_dataloader):\n",
        "        x, y = batch\n",
        "        x = x.to(device)\n",
        "\n",
        "        loss, reconstructed_x = model.compute_loss(x, return_reconstruction=True)\n",
        "\n",
        "        loss.backward()\n",
        "        optimizer.step()\n",
        "        optimizer.zero_grad()\n",
        "        epoch_loss_trace.append(loss.item())\n",
        "\n",
        "        if (i + 1) % verbose_num_iters == 0:\n",
        "            with out:\n",
        "                clear_output(wait=True)\n",
        "\n",
        "                plt.figure(figsize=(10, 5))\n",
        "                plt.subplot(1, 2, 1)\n",
        "                plt.title(\"Current epoch loss\", fontsize=22)\n",
        "                plt.xlabel(\"Iteration\", fontsize=16)\n",
        "                plt.ylabel(\"Reconstruction loss\", fontsize=16)\n",
        "                plt.grid()\n",
        "                plt.plot(epoch_loss_trace)\n",
        "\n",
        "                for j in range(3):\n",
        "                    plt.subplot(2, 6, 4 + j)\n",
        "                    plt.axis(\"off\")\n",
        "                    plt.imshow(x[j, 0].cpu().detach().numpy(), cmap=\"gray\")\n",
        "\n",
        "                    plt.subplot(2, 6, 10 + j)\n",
        "                    plt.axis(\"off\")\n",
        "                    plt.imshow(\n",
        "                        reconstructed_x[j, 0].cpu().detach().numpy(), cmap=\"gray\"\n",
        "                    )\n",
        "\n",
        "                plt.show()\n",
        "\n",
        "    out.clear_output()\n",
        "\n",
        "    return epoch_loss_trace\n",
        "\n",
        "\n",
        "def train_model(\n",
        "    model: nn.Module,\n",
        "    train_dataloader: torch.utils.data.DataLoader,\n",
        "    optimizer: torch.optim.Optimizer,\n",
        "    num_epochs: int = 5,\n",
        "    verbose_num_iters: int = 32,\n",
        "    device: torch.device = \"cuda\",\n",
        ") -> None:\n",
        "    loss_trace = []\n",
        "    for epoch in trange(num_epochs, desc=\"Epoch: \", leave=True):\n",
        "        epoch_loss_trace = train_epoch(\n",
        "            model=model,\n",
        "            train_dataloader=train_dataloader,\n",
        "            optimizer=optimizer,\n",
        "            verbose_num_iters=verbose_num_iters,\n",
        "            device=device,\n",
        "        )\n",
        "\n",
        "        loss_trace += epoch_loss_trace\n",
        "\n",
        "    plt.figure(figsize=(10, 5))\n",
        "    plt.title(\"Total training loss\", fontsize=22)\n",
        "    plt.xlabel(\"Iteration\", fontsize=16)\n",
        "    plt.ylabel(\"Reconstruction loss\", fontsize=16)\n",
        "    plt.grid()\n",
        "    plt.plot(loss_trace)\n",
        "    plt.show()\n",
        "\n",
        "    model.eval()"
      ]
    },
    {
      "cell_type": "code",
      "execution_count": null,
      "metadata": {
        "scrolled": true,
        "id": "0ORGhFilFFq9"
      },
      "outputs": [],
      "source": [
        "transform = transforms.Compose([transforms.ToTensor()])\n",
        "\n",
        "train_dataset = torchvision.datasets.MNIST(\n",
        "    root=\"./mnist\", train=True, download=True, transform=transform\n",
        ")\n",
        "test_dataset = torchvision.datasets.MNIST(\n",
        "    root=\"./mnist\", train=False, download=True, transform=transform\n",
        ")\n",
        "\n",
        "train_dataloader = torch.utils.data.DataLoader(\n",
        "    train_dataset, batch_size=256, shuffle=True, num_workers=1\n",
        ")\n",
        "test_dataloader = torch.utils.data.DataLoader(\n",
        "    test_dataset, batch_size=256, shuffle=False, num_workers=1\n",
        ")"
      ]
    },
    {
      "cell_type": "code",
      "execution_count": null,
      "metadata": {
        "colab": {
          "base_uri": "https://localhost:8080/",
          "height": 534,
          "referenced_widgets": [
            "fe3706a3f17642f98ab36c1cdbd36d3e",
            "fa3af51de13742c89293b664757255e6",
            "007df95a6aa94b6283b08a446a5e57fc",
            "9e7f84c6b1f14529b2ca8d5f70cd214d",
            "930b3f4251d24d1992b3635da9ec288d",
            "9666b0d51fa84786bb0bd27980ae19e0",
            "012a8fc8450941f2bc7694a3ef0c9bf5",
            "abe386ba25ab4f8088cae9f3ef1d0967",
            "7b198bad5f344c15843015f593f74f4e",
            "d4139519be7444cab73485eb8ac2d122",
            "871a87442fe049078055b9e2c65e2bc6",
            "a2e26ea667e54d48b0ff11465a10ed76",
            "a4fd57f259f2408189e01357559f7edb",
            "7912164531394b789bbfb9a437485ce5",
            "14cb29f96d0d42b396f80139430fd8a1",
            "57eb71e95ef74c859eba200053d83bd8",
            "c3ee4bab82804e50b80ae0cff258c362",
            "b563e36224f44741bf662d2ace0d7a45",
            "0bd89d3410364b7e835ef668808c4909",
            "5e18c22fc21c475388241906a1df75fe",
            "3d02dffde89948a5b2a4513393e686f5"
          ]
        },
        "id": "ZW5Ef9eoFFq-",
        "outputId": "d4aa185c-3522-4e08-958f-fefdaa605eb4"
      },
      "outputs": [
        {
          "output_type": "display_data",
          "data": {
            "text/plain": [
              "Epoch:   0%|          | 0/5 [00:00<?, ?it/s]"
            ],
            "application/vnd.jupyter.widget-view+json": {
              "version_major": 2,
              "version_minor": 0,
              "model_id": "fe3706a3f17642f98ab36c1cdbd36d3e"
            }
          },
          "metadata": {}
        },
        {
          "output_type": "display_data",
          "data": {
            "text/plain": [
              "Output()"
            ],
            "application/vnd.jupyter.widget-view+json": {
              "version_major": 2,
              "version_minor": 0,
              "model_id": "a2e26ea667e54d48b0ff11465a10ed76"
            }
          },
          "metadata": {}
        },
        {
          "output_type": "display_data",
          "data": {
            "text/plain": [
              "Output()"
            ],
            "application/vnd.jupyter.widget-view+json": {
              "version_major": 2,
              "version_minor": 0,
              "model_id": "7912164531394b789bbfb9a437485ce5"
            }
          },
          "metadata": {}
        },
        {
          "output_type": "display_data",
          "data": {
            "text/plain": [
              "Output()"
            ],
            "application/vnd.jupyter.widget-view+json": {
              "version_major": 2,
              "version_minor": 0,
              "model_id": "57eb71e95ef74c859eba200053d83bd8"
            }
          },
          "metadata": {}
        },
        {
          "output_type": "display_data",
          "data": {
            "text/plain": [
              "Output()"
            ],
            "application/vnd.jupyter.widget-view+json": {
              "version_major": 2,
              "version_minor": 0,
              "model_id": "b563e36224f44741bf662d2ace0d7a45"
            }
          },
          "metadata": {}
        },
        {
          "output_type": "display_data",
          "data": {
            "text/plain": [
              "Output()"
            ],
            "application/vnd.jupyter.widget-view+json": {
              "version_major": 2,
              "version_minor": 0,
              "model_id": "5e18c22fc21c475388241906a1df75fe"
            }
          },
          "metadata": {}
        },
        {
          "output_type": "display_data",
          "data": {
            "text/plain": [
              "<Figure size 1000x500 with 1 Axes>"
            ],
            "image/png": "[encoded data removed]"
          },
          "metadata": {}
        }
      ],
      "source": [
        "# обучим модель с латентным кодом длины 8\n",
        "model = AutoEncoder(8)\n",
        "optimizer = optim.Adam(model.parameters(), lr=1e-3)\n",
        "\n",
        "train_model(model, train_dataloader, optimizer, device=device)"
      ]
    },
    {
      "cell_type": "markdown",
      "metadata": {
        "id": "DG5wcf5pFFq-"
      },
      "source": [
        "Для довольно хорошего сжатия картинок из MNIST'a хватает всего 8 латентных переменных!"
      ]
    },
    {
      "cell_type": "markdown",
      "metadata": {
        "id": "F7OpbtdyFFq_"
      },
      "source": [
        "## Латентное пространство\n",
        "\n",
        "Главная ценность автоэнкодера как модели - его латентный код. Он крайне насыщенный, т.к. он должен сохранять как можно больше важной информации об объекте. Кроме того, само латентное пространство (множество латентных кодов всех объектов) - довольно плотное и отлично сохраняет структуру исходного пространства - например, похожие объекты в исходном пространстве будут находиться недалеко друг от друга в латентном пространстве.\n",
        "\n",
        "В этой части мы проиллюстрируем эти свойства."
      ]
    },
    {
      "cell_type": "markdown",
      "metadata": {
        "id": "77Z0S7IHFFq_"
      },
      "source": [
        "### Интерполяция латентных кодов\n",
        "\n",
        "Интерполяция латентного кода - это визуализация процесса движения от одной точки латентного пространства к другой. Обычно интерполируют по прямой - соединяют две точки, соответствующие реальным объектам, отрезком и смотрят латентные коды через равные части этого отрезка. Для каждой промежуточной точки строят выход декодера.\n",
        "\n",
        "Давайте возьмем два случайных объекта из выборки и построим интерполяцию между ними."
      ]
    },
    {
      "cell_type": "code",
      "execution_count": null,
      "metadata": {
        "id": "VHWkWAhnFFrA"
      },
      "outputs": [],
      "source": [
        "x, _ = next(iter(train_dataloader))\n",
        "\n",
        "x1 = x[0].to(device)\n",
        "x2 = x[1].to(device)"
      ]
    },
    {
      "cell_type": "code",
      "execution_count": null,
      "metadata": {
        "colab": {
          "base_uri": "https://localhost:8080/",
          "height": 200
        },
        "id": "y7WNQXKGFFrA",
        "outputId": "a5a4df3f-3cb1-49db-f80f-8c840783aaf0"
      },
      "outputs": [
        {
          "output_type": "display_data",
          "data": {
            "text/plain": [
              "<Figure size 400x200 with 2 Axes>"
            ],
            "image/png": "[encoded data removed]"
          },
          "metadata": {}
        }
      ],
      "source": [
        "fig, axs = plt.subplots(1, 2, figsize=(4, 2))\n",
        "\n",
        "axs[0].axis(\"off\")\n",
        "axs[0].set_title(\"x1\")\n",
        "axs[0].imshow(x1[0].cpu().detach().numpy(), cmap=\"gray\")\n",
        "axs[1].axis(\"off\")\n",
        "axs[1].set_title(\"x2\")\n",
        "axs[1].imshow(x2[0].cpu().detach().numpy(), cmap=\"gray\");"
      ]
    },
    {
      "cell_type": "code",
      "execution_count": null,
      "metadata": {
        "id": "cu3EpLPFFFrA"
      },
      "outputs": [],
      "source": [
        "# латентные коды объектов\n",
        "z_1 = model.encode(x1[None, :, :, :])\n",
        "z_2 = model.encode(x2[None, :, :, :])\n",
        "\n",
        "# батч с интерполяцией этих латентных кодов по прямой в 11 точках\n",
        "linspace = torch.linspace(0, 1, 11)[:, None].to(device)\n",
        "z_linspace = z_2 * linspace + z_1 * (1 - linspace)\n",
        "\n",
        "# восстановленные из латентных кодов изображения\n",
        "x_linspace = model.decode(z_linspace)"
      ]
    },
    {
      "cell_type": "code",
      "execution_count": null,
      "metadata": {
        "colab": {
          "base_uri": "https://localhost:8080/",
          "height": 136
        },
        "id": "PIO3j3VQFFrB",
        "outputId": "89572ef6-2733-4991-98fb-1adeb785be30"
      },
      "outputs": [
        {
          "output_type": "display_data",
          "data": {
            "text/plain": [
              "<Figure size 2000x2000 with 11 Axes>"
            ],
            "image/png": "[encoded data removed]"
          },
          "metadata": {}
        }
      ],
      "source": [
        "# рисуем проинтерполированные объекты\n",
        "fig, axs = plt.subplots(1, 11, figsize=(20, 20))\n",
        "\n",
        "for i, d in enumerate(np.linspace(0, 1, 11)):\n",
        "    axs[i].axis(\"off\")\n",
        "    axs[i].set_title(f\"{d:.2}\")\n",
        "    axs[i].imshow(x_linspace[i, 0].cpu().detach().numpy(), cmap=\"gray\")"
      ]
    },
    {
      "cell_type": "code",
      "source": [],
      "metadata": {
        "id": "tF3_Rq22bmvh"
      },
      "execution_count": null,
      "outputs": []
    }
  ],
  "metadata": {
    "kernelspec": {
      "display_name": "Python 3",
      "name": "python3"
    },
    "language_info": {
      "codemirror_mode": {
        "name": "ipython",
        "version": 3
      },
      "file_extension": ".py",
      "mimetype": "text/x-python",
      "name": "python",
      "nbconvert_exporter": "python",
      "pygments_lexer": "ipython3",
      "version": "3.9.7"
    },
    "colab": {
      "provenance": [],
      "gpuType": "T4"
    },
    "widgets": {
      "application/vnd.jupyter.widget-state+json": {
        "fe3706a3f17642f98ab36c1cdbd36d3e": {
          "model_module": "@jupyter-widgets/controls",
          "model_name": "HBoxModel",
          "model_module_version": "1.5.0",
          "state": {
            "_dom_classes": [],
            "_model_module": "@jupyter-widgets/controls",
            "_model_module_version": "1.5.0",
            "_model_name": "HBoxModel",
            "_view_count": null,
            "_view_module": "@jupyter-widgets/controls",
            "_view_module_version": "1.5.0",
            "_view_name": "HBoxView",
            "box_style": "",
            "children": [
              "IPY_MODEL_fa3af51de13742c89293b664757255e6",
              "IPY_MODEL_007df95a6aa94b6283b08a446a5e57fc",
              "IPY_MODEL_9e7f84c6b1f14529b2ca8d5f70cd214d"
            ],
            "layout": "IPY_MODEL_930b3f4251d24d1992b3635da9ec288d"
          }
        },
        "fa3af51de13742c89293b664757255e6": {
          "model_module": "@jupyter-widgets/controls",
          "model_name": "HTMLModel",
          "model_module_version": "1.5.0",
          "state": {
            "_dom_classes": [],
            "_model_module": "@jupyter-widgets/controls",
            "_model_module_version": "1.5.0",
            "_model_name": "HTMLModel",
            "_view_count": null,
            "_view_module": "@jupyter-widgets/controls",
            "_view_module_version": "1.5.0",
            "_view_name": "HTMLView",
            "description": "",
            "description_tooltip": null,
            "layout": "IPY_MODEL_9666b0d51fa84786bb0bd27980ae19e0",
            "placeholder": "​",
            "style": "IPY_MODEL_012a8fc8450941f2bc7694a3ef0c9bf5",
            "value": "Epoch: 100%"
          }
        },
        "007df95a6aa94b6283b08a446a5e57fc": {
          "model_module": "@jupyter-widgets/controls",
          "model_name": "FloatProgressModel",
          "model_module_version": "1.5.0",
          "state": {
            "_dom_classes": [],
            "_model_module": "@jupyter-widgets/controls",
            "_model_module_version": "1.5.0",
            "_model_name": "FloatProgressModel",
            "_view_count": null,
            "_view_module": "@jupyter-widgets/controls",
            "_view_module_version": "1.5.0",
            "_view_name": "ProgressView",
            "bar_style": "success",
            "description": "",
            "description_tooltip": null,
            "layout": "IPY_MODEL_abe386ba25ab4f8088cae9f3ef1d0967",
            "max": 5,
            "min": 0,
            "orientation": "horizontal",
            "style": "IPY_MODEL_7b198bad5f344c15843015f593f74f4e",
            "value": 5
          }
        },
        "9e7f84c6b1f14529b2ca8d5f70cd214d": {
          "model_module": "@jupyter-widgets/controls",
          "model_name": "HTMLModel",
          "model_module_version": "1.5.0",
          "state": {
            "_dom_classes": [],
            "_model_module": "@jupyter-widgets/controls",
            "_model_module_version": "1.5.0",
            "_model_name": "HTMLModel",
            "_view_count": null,
            "_view_module": "@jupyter-widgets/controls",
            "_view_module_version": "1.5.0",
            "_view_name": "HTMLView",
            "description": "",
            "description_tooltip": null,
            "layout": "IPY_MODEL_d4139519be7444cab73485eb8ac2d122",
            "placeholder": "​",
            "style": "IPY_MODEL_871a87442fe049078055b9e2c65e2bc6",
            "value": " 5/5 [00:54&lt;00:00, 11.00s/it]"
          }
        },
        "930b3f4251d24d1992b3635da9ec288d": {
          "model_module": "@jupyter-widgets/base",
          "model_name": "LayoutModel",
          "model_module_version": "1.2.0",
          "state": {
            "_model_module": "@jupyter-widgets/base",
            "_model_module_version": "1.2.0",
            "_model_name": "LayoutModel",
            "_view_count": null,
            "_view_module": "@jupyter-widgets/base",
            "_view_module_version": "1.2.0",
            "_view_name": "LayoutView",
            "align_content": null,
            "align_items": null,
            "align_self": null,
            "border": null,
            "bottom": null,
            "display": null,
            "flex": null,
            "flex_flow": null,
            "grid_area": null,
            "grid_auto_columns": null,
            "grid_auto_flow": null,
            "grid_auto_rows": null,
            "grid_column": null,
            "grid_gap": null,
            "grid_row": null,
            "grid_template_areas": null,
            "grid_template_columns": null,
            "grid_template_rows": null,
            "height": null,
            "justify_content": null,
            "justify_items": null,
            "left": null,
            "margin": null,
            "max_height": null,
            "max_width": null,
            "min_height": null,
            "min_width": null,
            "object_fit": null,
            "object_position": null,
            "order": null,
            "overflow": null,
            "overflow_x": null,
            "overflow_y": null,
            "padding": null,
            "right": null,
            "top": null,
            "visibility": null,
            "width": null
          }
        },
        "9666b0d51fa84786bb0bd27980ae19e0": {
          "model_module": "@jupyter-widgets/base",
          "model_name": "LayoutModel",
          "model_module_version": "1.2.0",
          "state": {
            "_model_module": "@jupyter-widgets/base",
            "_model_module_version": "1.2.0",
            "_model_name": "LayoutModel",
            "_view_count": null,
            "_view_module": "@jupyter-widgets/base",
            "_view_module_version": "1.2.0",
            "_view_name": "LayoutView",
            "align_content": null,
            "align_items": null,
            "align_self": null,
            "border": null,
            "bottom": null,
            "display": null,
            "flex": null,
            "flex_flow": null,
            "grid_area": null,
            "grid_auto_columns": null,
            "grid_auto_flow": null,
            "grid_auto_rows": null,
            "grid_column": null,
            "grid_gap": null,
            "grid_row": null,
            "grid_template_areas": null,
            "grid_template_columns": null,
            "grid_template_rows": null,
            "height": null,
            "justify_content": null,
            "justify_items": null,
            "left": null,
            "margin": null,
            "max_height": null,
            "max_width": null,
            "min_height": null,
            "min_width": null,
            "object_fit": null,
            "object_position": null,
            "order": null,
            "overflow": null,
            "overflow_x": null,
            "overflow_y": null,
            "padding": null,
            "right": null,
            "top": null,
            "visibility": null,
            "width": null
          }
        },
        "012a8fc8450941f2bc7694a3ef0c9bf5": {
          "model_module": "@jupyter-widgets/controls",
          "model_name": "DescriptionStyleModel",
          "model_module_version": "1.5.0",
          "state": {
            "_model_module": "@jupyter-widgets/controls",
            "_model_module_version": "1.5.0",
            "_model_name": "DescriptionStyleModel",
            "_view_count": null,
            "_view_module": "@jupyter-widgets/base",
            "_view_module_version": "1.2.0",
            "_view_name": "StyleView",
            "description_width": ""
          }
        },
        "abe386ba25ab4f8088cae9f3ef1d0967": {
          "model_module": "@jupyter-widgets/base",
          "model_name": "LayoutModel",
          "model_module_version": "1.2.0",
          "state": {
            "_model_module": "@jupyter-widgets/base",
            "_model_module_version": "1.2.0",
            "_model_name": "LayoutModel",
            "_view_count": null,
            "_view_module": "@jupyter-widgets/base",
            "_view_module_version": "1.2.0",
            "_view_name": "LayoutView",
            "align_content": null,
            "align_items": null,
            "align_self": null,
            "border": null,
            "bottom": null,
            "display": null,
            "flex": null,
            "flex_flow": null,
            "grid_area": null,
            "grid_auto_columns": null,
            "grid_auto_flow": null,
            "grid_auto_rows": null,
            "grid_column": null,
            "grid_gap": null,
            "grid_row": null,
            "grid_template_areas": null,
            "grid_template_columns": null,
            "grid_template_rows": null,
            "height": null,
            "justify_content": null,
            "justify_items": null,
            "left": null,
            "margin": null,
            "max_height": null,
            "max_width": null,
            "min_height": null,
            "min_width": null,
            "object_fit": null,
            "object_position": null,
            "order": null,
            "overflow": null,
            "overflow_x": null,
            "overflow_y": null,
            "padding": null,
            "right": null,
            "top": null,
            "visibility": null,
            "width": null
          }
        },
        "7b198bad5f344c15843015f593f74f4e": {
          "model_module": "@jupyter-widgets/controls",
          "model_name": "ProgressStyleModel",
          "model_module_version": "1.5.0",
          "state": {
            "_model_module": "@jupyter-widgets/controls",
            "_model_module_version": "1.5.0",
            "_model_name": "ProgressStyleModel",
            "_view_count": null,
            "_view_module": "@jupyter-widgets/base",
            "_view_module_version": "1.2.0",
            "_view_name": "StyleView",
            "bar_color": null,
            "description_width": ""
          }
        },
        "d4139519be7444cab73485eb8ac2d122": {
          "model_module": "@jupyter-widgets/base",
          "model_name": "LayoutModel",
          "model_module_version": "1.2.0",
          "state": {
            "_model_module": "@jupyter-widgets/base",
            "_model_module_version": "1.2.0",
            "_model_name": "LayoutModel",
            "_view_count": null,
            "_view_module": "@jupyter-widgets/base",
            "_view_module_version": "1.2.0",
            "_view_name": "LayoutView",
            "align_content": null,
            "align_items": null,
            "align_self": null,
            "border": null,
            "bottom": null,
            "display": null,
            "flex": null,
            "flex_flow": null,
            "grid_area": null,
            "grid_auto_columns": null,
            "grid_auto_flow": null,
            "grid_auto_rows": null,
            "grid_column": null,
            "grid_gap": null,
            "grid_row": null,
            "grid_template_areas": null,
            "grid_template_columns": null,
            "grid_template_rows": null,
            "height": null,
            "justify_content": null,
            "justify_items": null,
            "left": null,
            "margin": null,
            "max_height": null,
            "max_width": null,
            "min_height": null,
            "min_width": null,
            "object_fit": null,
            "object_position": null,
            "order": null,
            "overflow": null,
            "overflow_x": null,
            "overflow_y": null,
            "padding": null,
            "right": null,
            "top": null,
            "visibility": null,
            "width": null
          }
        },
        "871a87442fe049078055b9e2c65e2bc6": {
          "model_module": "@jupyter-widgets/controls",
          "model_name": "DescriptionStyleModel",
          "model_module_version": "1.5.0",
          "state": {
            "_model_module": "@jupyter-widgets/controls",
            "_model_module_version": "1.5.0",
            "_model_name": "DescriptionStyleModel",
            "_view_count": null,
            "_view_module": "@jupyter-widgets/base",
            "_view_module_version": "1.2.0",
            "_view_name": "StyleView",
            "description_width": ""
          }
        },
        "a2e26ea667e54d48b0ff11465a10ed76": {
          "model_module": "@jupyter-widgets/output",
          "model_name": "OutputModel",
          "model_module_version": "1.0.0",
          "state": {
            "_dom_classes": [],
            "_model_module": "@jupyter-widgets/output",
            "_model_module_version": "1.0.0",
            "_model_name": "OutputModel",
            "_view_count": null,
            "_view_module": "@jupyter-widgets/output",
            "_view_module_version": "1.0.0",
            "_view_name": "OutputView",
            "layout": "IPY_MODEL_a4fd57f259f2408189e01357559f7edb",
            "msg_id": "",
            "outputs": []
          }
        },
        "a4fd57f259f2408189e01357559f7edb": {
          "model_module": "@jupyter-widgets/base",
          "model_name": "LayoutModel",
          "model_module_version": "1.2.0",
          "state": {
            "_model_module": "@jupyter-widgets/base",
            "_model_module_version": "1.2.0",
            "_model_name": "LayoutModel",
            "_view_count": null,
            "_view_module": "@jupyter-widgets/base",
            "_view_module_version": "1.2.0",
            "_view_name": "LayoutView",
            "align_content": null,
            "align_items": null,
            "align_self": null,
            "border": null,
            "bottom": null,
            "display": null,
            "flex": null,
            "flex_flow": null,
            "grid_area": null,
            "grid_auto_columns": null,
            "grid_auto_flow": null,
            "grid_auto_rows": null,
            "grid_column": null,
            "grid_gap": null,
            "grid_row": null,
            "grid_template_areas": null,
            "grid_template_columns": null,
            "grid_template_rows": null,
            "height": null,
            "justify_content": null,
            "justify_items": null,
            "left": null,
            "margin": null,
            "max_height": null,
            "max_width": null,
            "min_height": null,
            "min_width": null,
            "object_fit": null,
            "object_position": null,
            "order": null,
            "overflow": null,
            "overflow_x": null,
            "overflow_y": null,
            "padding": null,
            "right": null,
            "top": null,
            "visibility": null,
            "width": null
          }
        },
        "7912164531394b789bbfb9a437485ce5": {
          "model_module": "@jupyter-widgets/output",
          "model_name": "OutputModel",
          "model_module_version": "1.0.0",
          "state": {
            "_dom_classes": [],
            "_model_module": "@jupyter-widgets/output",
            "_model_module_version": "1.0.0",
            "_model_name": "OutputModel",
            "_view_count": null,
            "_view_module": "@jupyter-widgets/output",
            "_view_module_version": "1.0.0",
            "_view_name": "OutputView",
            "layout": "IPY_MODEL_14cb29f96d0d42b396f80139430fd8a1",
            "msg_id": "",
            "outputs": []
          }
        },
        "14cb29f96d0d42b396f80139430fd8a1": {
          "model_module": "@jupyter-widgets/base",
          "model_name": "LayoutModel",
          "model_module_version": "1.2.0",
          "state": {
            "_model_module": "@jupyter-widgets/base",
            "_model_module_version": "1.2.0",
            "_model_name": "LayoutModel",
            "_view_count": null,
            "_view_module": "@jupyter-widgets/base",
            "_view_module_version": "1.2.0",
            "_view_name": "LayoutView",
            "align_content": null,
            "align_items": null,
            "align_self": null,
            "border": null,
            "bottom": null,
            "display": null,
            "flex": null,
            "flex_flow": null,
            "grid_area": null,
            "grid_auto_columns": null,
            "grid_auto_flow": null,
            "grid_auto_rows": null,
            "grid_column": null,
            "grid_gap": null,
            "grid_row": null,
            "grid_template_areas": null,
            "grid_template_columns": null,
            "grid_template_rows": null,
            "height": null,
            "justify_content": null,
            "justify_items": null,
            "left": null,
            "margin": null,
            "max_height": null,
            "max_width": null,
            "min_height": null,
            "min_width": null,
            "object_fit": null,
            "object_position": null,
            "order": null,
            "overflow": null,
            "overflow_x": null,
            "overflow_y": null,
            "padding": null,
            "right": null,
            "top": null,
            "visibility": null,
            "width": null
          }
        },
        "57eb71e95ef74c859eba200053d83bd8": {
          "model_module": "@jupyter-widgets/output",
          "model_name": "OutputModel",
          "model_module_version": "1.0.0",
          "state": {
            "_dom_classes": [],
            "_model_module": "@jupyter-widgets/output",
            "_model_module_version": "1.0.0",
            "_model_name": "OutputModel",
            "_view_count": null,
            "_view_module": "@jupyter-widgets/output",
            "_view_module_version": "1.0.0",
            "_view_name": "OutputView",
            "layout": "IPY_MODEL_c3ee4bab82804e50b80ae0cff258c362",
            "msg_id": "",
            "outputs": []
          }
        },
        "c3ee4bab82804e50b80ae0cff258c362": {
          "model_module": "@jupyter-widgets/base",
          "model_name": "LayoutModel",
          "model_module_version": "1.2.0",
          "state": {
            "_model_module": "@jupyter-widgets/base",
            "_model_module_version": "1.2.0",
            "_model_name": "LayoutModel",
            "_view_count": null,
            "_view_module": "@jupyter-widgets/base",
            "_view_module_version": "1.2.0",
            "_view_name": "LayoutView",
            "align_content": null,
            "align_items": null,
            "align_self": null,
            "border": null,
            "bottom": null,
            "display": null,
            "flex": null,
            "flex_flow": null,
            "grid_area": null,
            "grid_auto_columns": null,
            "grid_auto_flow": null,
            "grid_auto_rows": null,
            "grid_column": null,
            "grid_gap": null,
            "grid_row": null,
            "grid_template_areas": null,
            "grid_template_columns": null,
            "grid_template_rows": null,
            "height": null,
            "justify_content": null,
            "justify_items": null,
            "left": null,
            "margin": null,
            "max_height": null,
            "max_width": null,
            "min_height": null,
            "min_width": null,
            "object_fit": null,
            "object_position": null,
            "order": null,
            "overflow": null,
            "overflow_x": null,
            "overflow_y": null,
            "padding": null,
            "right": null,
            "top": null,
            "visibility": null,
            "width": null
          }
        },
        "b563e36224f44741bf662d2ace0d7a45": {
          "model_module": "@jupyter-widgets/output",
          "model_name": "OutputModel",
          "model_module_version": "1.0.0",
          "state": {
            "_dom_classes": [],
            "_model_module": "@jupyter-widgets/output",
            "_model_module_version": "1.0.0",
            "_model_name": "OutputModel",
            "_view_count": null,
            "_view_module": "@jupyter-widgets/output",
            "_view_module_version": "1.0.0",
            "_view_name": "OutputView",
            "layout": "IPY_MODEL_0bd89d3410364b7e835ef668808c4909",
            "msg_id": "",
            "outputs": []
          }
        },
        "0bd89d3410364b7e835ef668808c4909": {
          "model_module": "@jupyter-widgets/base",
          "model_name": "LayoutModel",
          "model_module_version": "1.2.0",
          "state": {
            "_model_module": "@jupyter-widgets/base",
            "_model_module_version": "1.2.0",
            "_model_name": "LayoutModel",
            "_view_count": null,
            "_view_module": "@jupyter-widgets/base",
            "_view_module_version": "1.2.0",
            "_view_name": "LayoutView",
            "align_content": null,
            "align_items": null,
            "align_self": null,
            "border": null,
            "bottom": null,
            "display": null,
            "flex": null,
            "flex_flow": null,
            "grid_area": null,
            "grid_auto_columns": null,
            "grid_auto_flow": null,
            "grid_auto_rows": null,
            "grid_column": null,
            "grid_gap": null,
            "grid_row": null,
            "grid_template_areas": null,
            "grid_template_columns": null,
            "grid_template_rows": null,
            "height": null,
            "justify_content": null,
            "justify_items": null,
            "left": null,
            "margin": null,
            "max_height": null,
            "max_width": null,
            "min_height": null,
            "min_width": null,
            "object_fit": null,
            "object_position": null,
            "order": null,
            "overflow": null,
            "overflow_x": null,
            "overflow_y": null,
            "padding": null,
            "right": null,
            "top": null,
            "visibility": null,
            "width": null
          }
        },
        "5e18c22fc21c475388241906a1df75fe": {
          "model_module": "@jupyter-widgets/output",
          "model_name": "OutputModel",
          "model_module_version": "1.0.0",
          "state": {
            "_dom_classes": [],
            "_model_module": "@jupyter-widgets/output",
            "_model_module_version": "1.0.0",
            "_model_name": "OutputModel",
            "_view_count": null,
            "_view_module": "@jupyter-widgets/output",
            "_view_module_version": "1.0.0",
            "_view_name": "OutputView",
            "layout": "IPY_MODEL_3d02dffde89948a5b2a4513393e686f5",
            "msg_id": "",
            "outputs": []
          }
        },
        "3d02dffde89948a5b2a4513393e686f5": {
          "model_module": "@jupyter-widgets/base",
          "model_name": "LayoutModel",
          "model_module_version": "1.2.0",
          "state": {
            "_model_module": "@jupyter-widgets/base",
            "_model_module_version": "1.2.0",
            "_model_name": "LayoutModel",
            "_view_count": null,
            "_view_module": "@jupyter-widgets/base",
            "_view_module_version": "1.2.0",
            "_view_name": "LayoutView",
            "align_content": null,
            "align_items": null,
            "align_self": null,
            "border": null,
            "bottom": null,
            "display": null,
            "flex": null,
            "flex_flow": null,
            "grid_area": null,
            "grid_auto_columns": null,
            "grid_auto_flow": null,
            "grid_auto_rows": null,
            "grid_column": null,
            "grid_gap": null,
            "grid_row": null,
            "grid_template_areas": null,
            "grid_template_columns": null,
            "grid_template_rows": null,
            "height": null,
            "justify_content": null,
            "justify_items": null,
            "left": null,
            "margin": null,
            "max_height": null,
            "max_width": null,
            "min_height": null,
            "min_width": null,
            "object_fit": null,
            "object_position": null,
            "order": null,
            "overflow": null,
            "overflow_x": null,
            "overflow_y": null,
            "padding": null,
            "right": null,
            "top": null,
            "visibility": null,
            "width": null
          }
        }
      }
    },
    "accelerator": "GPU"
  },
  "nbformat": 4,
  "nbformat_minor": 0
}