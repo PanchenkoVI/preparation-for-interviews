{
  "cells": [
    {
      "cell_type": "markdown",
      "metadata": {
        "id": "AZi8vr-Z9OTY"
      },
      "source": [
        "В рамках этого практического задания вам будет дан код с кратким описанием. Вам необходимо описать какие из SOLID-принципов в нём нарушаются и отрефакторить его, приведя его в соответствие SOLID-принципам.\n",
        "\n",
        "P.S. Решение всех задач не единственное. Необходимость любого рефакторинга на соответствие SOLID-принципам безусловно зависит от контекста и не является 100% необходимостью."
      ]
    },
    {
      "cell_type": "markdown",
      "metadata": {
        "id": "uGi6EBVE9gcF"
      },
      "source": [
        "0. **Управление товарами на складе** (0б, с разбором)\n",
        "\n",
        "Система для управления товарами на складе. Класс `WarehouseManager` выполняет обработку всех операций: добавление товара, удаление товара, генерация отчетов и синхронизация данных с удаленным сервером.\n",
        "\n",
        "Исходный код:"
      ]
    },
    {
      "cell_type": "code",
      "execution_count": null,
      "metadata": {
        "colab": {
          "base_uri": "https://localhost:8080/"
        },
        "id": "LnPm3V_W8_Tv",
        "outputId": "c1fd0169-c88a-4adc-e854-002e07642c05"
      },
      "outputs": [
        {
          "name": "stdout",
          "output_type": "stream",
          "text": [
            "Added 10 of item item1 to warehouse.\n",
            "Removed 5 of item item1 from warehouse.\n",
            "Warehouse Report:\n",
            " item1: 5\n",
            "Sync failed\n"
          ]
        }
      ],
      "source": [
        "import requests\n",
        "\n",
        "class WarehouseManager:\n",
        "    def __init__(self):\n",
        "        self.items = {}\n",
        "\n",
        "    def add_item(self, item_id, quantity):\n",
        "        if item_id in self.items:\n",
        "            self.items[item_id] += quantity\n",
        "        else:\n",
        "            self.items[item_id] = quantity\n",
        "        print(f\"Added {quantity} of item {item_id} to warehouse.\")\n",
        "\n",
        "    def remove_item(self, item_id, quantity):\n",
        "        if item_id not in self.items or self.items[item_id] < quantity:\n",
        "            raise ValueError(\"Insufficient stock\")\n",
        "        self.items[item_id] -= quantity\n",
        "        print(f\"Removed {quantity} of item {item_id} from warehouse.\")\n",
        "\n",
        "    def generate_report(self):\n",
        "        report = \"\\n\".join(f\"{item_id}: {quantity}\" for item_id, quantity in self.items.items())\n",
        "        print(\"Warehouse Report:\\n\", report)\n",
        "        return report\n",
        "\n",
        "    def sync_with_server(self):\n",
        "        response = requests.post(\"https://example.com/sync\", json=self.items)\n",
        "        if response.status_code == 200:\n",
        "            print(\"Sync successful\")\n",
        "        else:\n",
        "            print(\"Sync failed\")\n",
        "\n",
        "manager = WarehouseManager()\n",
        "manager.add_item(\"item1\", 10)\n",
        "manager.remove_item(\"item1\", 5)\n",
        "manager.generate_report()\n",
        "manager.sync_with_server()\n"
      ]
    },
    {
      "cell_type": "markdown",
      "metadata": {
        "id": "PBXrIuu19wMe"
      },
      "source": [
        "Проблемы:\n",
        "\n",
        "1. **Нарушение SRP**:\n",
        "   - `WarehouseManager` занимается управлением запасами, генерацией отчетов и синхронизацией с сервером.\n",
        "   - Каждая из этих задач требует изменений в одном классе.\n",
        "\n",
        "2. **Нарушение OCP**:\n",
        "   - Если нужно добавить новую функциональность, например, расчет стоимости товаров, потребуется изменить `WarehouseManager`.\n",
        "\n",
        "3. **Нарушение DIP**:\n",
        "   - Класс напрямую зависит от библиотеки `requests` для синхронизации.\n",
        "\n",
        "Решение:"
      ]
    },
    {
      "cell_type": "code",
      "execution_count": null,
      "metadata": {
        "colab": {
          "base_uri": "https://localhost:8080/"
        },
        "id": "WeTatbZM98ME",
        "outputId": "8797d0d6-a1e3-4dbc-f509-29c50c3cc9c0"
      },
      "outputs": [
        {
          "name": "stdout",
          "output_type": "stream",
          "text": [
            "Warehouse Report:\n",
            " item1: 7\n",
            "item2: 5\n",
            "Sync failed\n"
          ]
        }
      ],
      "source": [
        "class Inventory:\n",
        "    def __init__(self):\n",
        "        self.items = {}\n",
        "\n",
        "    def add_item(self, item_id, quantity):\n",
        "        if item_id in self.items:\n",
        "            self.items[item_id] += quantity\n",
        "        else:\n",
        "            self.items[item_id] = quantity\n",
        "\n",
        "    def remove_item(self, item_id, quantity):\n",
        "        if item_id not in self.items or self.items[item_id] < quantity:\n",
        "            raise ValueError(\"Insufficient stock\")\n",
        "        self.items[item_id] -= quantity\n",
        "\n",
        "    def get_items(self):\n",
        "        return self.items\n",
        "\n",
        "class ReportGenerator:\n",
        "    @staticmethod\n",
        "    def generate_report(items):\n",
        "        report = \"\\n\".join(f\"{item_id}: {quantity}\" for item_id, quantity in items.items())\n",
        "        print(\"Warehouse Report:\\n\", report)\n",
        "        return report\n",
        "\n",
        "class ServerSync:\n",
        "    def __init__(self, server_url, client):\n",
        "        self.server_url = server_url\n",
        "        self.client = client\n",
        "\n",
        "    def sync(self, data):\n",
        "        response = self.client.post(self.server_url, json=data)\n",
        "        if response.status_code == 200:\n",
        "            print(\"Sync successful\")\n",
        "        else:\n",
        "            print(\"Sync failed\")\n",
        "\n",
        "import requests\n",
        "\n",
        "# Используем класс Inventory\n",
        "inventory = Inventory()\n",
        "inventory.add_item(\"item1\", 10)\n",
        "inventory.add_item(\"item2\", 5)\n",
        "inventory.remove_item(\"item1\", 3)\n",
        "\n",
        "# Генерация отчета\n",
        "report = ReportGenerator.generate_report(inventory.get_items())\n",
        "\n",
        "# Синхронизация с сервером\n",
        "server_sync = ServerSync(\"https://example.com/sync\", requests)\n",
        "server_sync.sync(inventory.get_items())"
      ]
    },
    {
      "cell_type": "markdown",
      "metadata": {
        "id": "mqRmqT-y9wHQ"
      },
      "source": [
        "1. **Система управления подписками (2б)**\n",
        "\n",
        "В системе управления подписками есть разные планы подписок: базовый, премиум и бизнес. Каждому плану соответствует своя логика расчета стоимости с учетом скидок и налогов.\n",
        "\n",
        "Исходный код:"
      ]
    },
    {
      "cell_type": "code",
      "execution_count": null,
      "metadata": {
        "colab": {
          "base_uri": "https://localhost:8080/"
        },
        "id": "g01gRXSM9pB4",
        "outputId": "fb38c55c-3307-48b4-8bd7-ca065d280c6b"
      },
      "outputs": [
        {
          "output_type": "stream",
          "name": "stdout",
          "text": [
            "12.0\n",
            "21.599999999999998\n",
            "28.799999999999997\n"
          ]
        }
      ],
      "source": [
        "class SubscriptionManager:\n",
        "    def __init__(self):\n",
        "        self.plans = {}\n",
        "\n",
        "    def add_plan(self, name, cost):\n",
        "        self.plans[name] = {\"cost\": cost}\n",
        "\n",
        "    def calculate_price(self, plan_name, tax_rate, discount=0):\n",
        "        if plan_name not in self.plans:\n",
        "            raise ValueError(\"Plan not found\")\n",
        "        base_price = self.plans[plan_name][\"cost\"]\n",
        "        if plan_name == \"premium\":\n",
        "            discount += 0.1  # Дополнительная скидка для премиум-плана\n",
        "        elif plan_name == \"business\":\n",
        "            discount += 0.2  # Дополнительная скидка для бизнес-плана\n",
        "        final_price = base_price * (1 - discount) * (1 + tax_rate)\n",
        "        return final_price\n",
        "\n",
        "manager = SubscriptionManager()\n",
        "manager.add_plan(\"basic\", 10)\n",
        "manager.add_plan(\"premium\", 20)\n",
        "manager.add_plan(\"business\", 30)\n",
        "\n",
        "print(manager.calculate_price(\"basic\", 0.2))\n",
        "print(manager.calculate_price(\"premium\", 0.2))\n",
        "print(manager.calculate_price(\"business\", 0.2))\n"
      ]
    },
    {
      "cell_type": "markdown",
      "source": [
        "**Проблемы:**\n",
        "\n",
        "1. **Нарушение SRP:**\n",
        "   - Логика расчёта цены для разных типов подписок сосредоточена в одном методе.\n",
        "\n",
        "2. **Нарушение OCP:**\n",
        "   - Добавление нового типа подписки приведёт к изменению метода `calculate_price`.\n",
        "\n",
        "3. **Нарушение DIP:**\n",
        "   - `SubscriptionManager` зависит от конкретной реализации расчета цены.\n",
        "\n",
        "**Решение:**"
      ],
      "metadata": {
        "id": "2lhUmwWk_V7r"
      }
    },
    {
      "cell_type": "code",
      "source": [
        "from abc import ABC, abstractmethod\n",
        "\n",
        "class SubscriptionPlan(ABC):\n",
        "    \"\"\"Base class for subscription plans\"\"\"\n",
        "    def __init__(self, cost):\n",
        "        self.cost = cost\n",
        "\n",
        "    @abstractmethod\n",
        "    def calculate_price(self, tax_rate, discount=0):\n",
        "        pass\n",
        "\n",
        "class BasicPlan(SubscriptionPlan):\n",
        "    def calculate_price(self, tax_rate, discount=0):\n",
        "        return self.cost * (1 - discount) * (1 + tax_rate)\n",
        "\n",
        "class PremiumPlan(SubscriptionPlan):\n",
        "    def calculate_price(self, tax_rate, discount=0):\n",
        "        discount += 0.1\n",
        "        return self.cost * (1 - discount) * (1 + tax_rate)\n",
        "\n",
        "class BusinessPlan(SubscriptionPlan):\n",
        "    def calculate_price(self, tax_rate, discount=0):\n",
        "        discount += 0.2\n",
        "        return self.cost * (1 - discount) * (1 + tax_rate)\n",
        "\n",
        "class SubscriptionManager:\n",
        "    def __init__(self):\n",
        "        self.plans = {}\n",
        "\n",
        "    def add_plan(self, name, plan):\n",
        "        self.plans[name] = plan\n",
        "\n",
        "    def calculate_price(self, plan_name, tax_rate, discount=0):\n",
        "        if plan_name not in self.plans:\n",
        "            raise ValueError(\"Plan not found\")\n",
        "        return self.plans[plan_name].calculate_price(tax_rate, discount)\n",
        "\n",
        "\n",
        "manager = SubscriptionManager()\n",
        "manager.add_plan(\"basic\", BasicPlan(10))\n",
        "manager.add_plan(\"premium\", PremiumPlan(20))\n",
        "manager.add_plan(\"business\", BusinessPlan(30))\n",
        "\n",
        "print(manager.calculate_price(\"basic\", 0.2))\n",
        "print(manager.calculate_price(\"premium\", 0.2))\n",
        "print(manager.calculate_price(\"business\", 0.2))\n"
      ],
      "metadata": {
        "colab": {
          "base_uri": "https://localhost:8080/"
        },
        "id": "AZYxCU76_Tel",
        "outputId": "7b262696-cc23-4b6a-ac53-fd8bd95aba6f"
      },
      "execution_count": null,
      "outputs": [
        {
          "output_type": "stream",
          "name": "stdout",
          "text": [
            "12.0\n",
            "21.599999999999998\n",
            "28.799999999999997\n"
          ]
        }
      ]
    },
    {
      "cell_type": "markdown",
      "metadata": {
        "id": "0yFkJ8W5_N6j"
      },
      "source": [
        "2. **Система бронирования билетов (2б)**\n",
        "\n",
        "В системе бронирования билетов есть разные типы билетов: эконом (невозвратные) и бизнес (возвратные). Каждый тип билета имеет свою стоимость и условия возврата.\n",
        "\n",
        "Исходный код:"
      ]
    },
    {
      "cell_type": "code",
      "execution_count": null,
      "metadata": {
        "colab": {
          "base_uri": "https://localhost:8080/"
        },
        "id": "Qi51opC0_MvW",
        "outputId": "2ac34dd1-2888-4ed8-a376-143ee5c1a501"
      },
      "outputs": [
        {
          "output_type": "stream",
          "name": "stdout",
          "text": [
            "Booked economy ticket for $100. Refundable: False\n",
            "Booked business ticket for $300. Refundable: True\n",
            "Refund processed for business ticket costing $300\n",
            "Charging $400 through payment gateway...\n"
          ]
        }
      ],
      "source": [
        "class TicketBookingSystem:\n",
        "    def __init__(self):\n",
        "        self.tickets = []\n",
        "\n",
        "    def book_ticket(self, ticket_type, cost, refundable):\n",
        "        self.tickets.append({\"type\": ticket_type, \"cost\": cost, \"refundable\": refundable})\n",
        "        print(f\"Booked {ticket_type} ticket for ${cost}. Refundable: {refundable}\")\n",
        "\n",
        "    def process_refund(self, ticket_id):\n",
        "        ticket = self.tickets[ticket_id]\n",
        "        if not ticket[\"refundable\"]:\n",
        "            raise ValueError(\"This ticket is non-refundable\")\n",
        "        print(f\"Refund processed for {ticket['type']} ticket costing ${ticket['cost']}\")\n",
        "\n",
        "    def charge_payment(self, amount):\n",
        "        print(f\"Charging ${amount} through payment gateway...\")\n",
        "\n",
        "system = TicketBookingSystem()\n",
        "system.book_ticket(\"economy\", 100, False)\n",
        "system.book_ticket(\"business\", 300, True)\n",
        "system.process_refund(1)\n",
        "system.charge_payment(400)\n"
      ]
    },
    {
      "cell_type": "markdown",
      "source": [
        "**Проблемы:**\n",
        "\n",
        "1. **Нарушение SRP:**\n",
        "   - Один класс выполняет бронирование, обработку возвратов и оплату.\n",
        "\n",
        "2. **Нарушение OCP:**\n",
        "   - Добавление новых типов билетов приведёт к изменениям в методах класса.\n",
        "\n",
        "3. **Нарушение ISP:**\n",
        "   - Методы `process_refund` и `charge_payment` не используются одновременно всеми билетами.\n",
        "\n",
        "4. **Нарушение DIP:**\n",
        "   - Система напрямую взаимодействует с оплатой, что делает её жестко зависимой от конкретной реализации.\n",
        "\n",
        "**Решение:**"
      ],
      "metadata": {
        "id": "TRtybEFh_sHV"
      }
    },
    {
      "cell_type": "code",
      "source": [
        "from abc import ABC, abstractmethod\n",
        "\n",
        "class Ticket(ABC):\n",
        "    @abstractmethod\n",
        "    def book(self):\n",
        "        pass\n",
        "\n",
        "    @abstractmethod\n",
        "    def process_refund(self):\n",
        "        pass\n",
        "\n",
        "class EconomyTicket(Ticket):\n",
        "    def __init__(self, cost):\n",
        "        self.cost = cost\n",
        "\n",
        "    def book(self):\n",
        "        print(f\"Booked economy ticket for ${self.cost}. Non-refundable.\")\n",
        "\n",
        "    def process_refund(self):\n",
        "        raise ValueError(\"Economy tickets are non-refundable\")\n",
        "\n",
        "class BusinessTicket(Ticket):\n",
        "    def __init__(self, cost):\n",
        "        self.cost = cost\n",
        "\n",
        "    def book(self):\n",
        "        print(f\"Booked business ticket for ${self.cost}. Refundable.\")\n",
        "\n",
        "    def process_refund(self):\n",
        "        print(f\"Refund processed for business ticket costing ${self.cost}\")\n",
        "\n",
        "class PaymentGateway:\n",
        "    def charge_payment(self, amount):\n",
        "        print(f\"Charging ${amount} through payment gateway...\")\n",
        "\n",
        "class TicketBookingSystem:\n",
        "    def __init__(self, payment_gateway):\n",
        "        self.payment_gateway = payment_gateway\n",
        "        self.tickets = []\n",
        "\n",
        "    def book_ticket(self, ticket):\n",
        "        ticket.book()\n",
        "        self.tickets.append(ticket)\n",
        "\n",
        "    def process_refund(self, ticket_id):\n",
        "        self.tickets[ticket_id].process_refund()\n",
        "\n",
        "    def charge_payment(self, amount):\n",
        "        self.payment_gateway.charge_payment(amount)\n",
        "\n",
        "# Создаем платежный шлюз\n",
        "payment_gateway = PaymentGateway()\n",
        "\n",
        "# Создаем систему бронирования\n",
        "system = TicketBookingSystem(payment_gateway)\n",
        "\n",
        "# Бронируем билеты\n",
        "economy_ticket = EconomyTicket(100)\n",
        "business_ticket = BusinessTicket(300)\n",
        "\n",
        "system.book_ticket(economy_ticket)\n",
        "system.book_ticket(business_ticket)\n",
        "\n",
        "# Обрабатываем возврат\n",
        "system.process_refund(1)\n",
        "\n",
        "# Оплата\n",
        "system.charge_payment(400)\n"
      ],
      "metadata": {
        "colab": {
          "base_uri": "https://localhost:8080/"
        },
        "id": "tQnlCfyaLTdh",
        "outputId": "177b2e94-dd31-482f-9bda-fb0b674dc8cb"
      },
      "execution_count": null,
      "outputs": [
        {
          "output_type": "stream",
          "name": "stdout",
          "text": [
            "Booked economy ticket for $100. Non-refundable.\n",
            "Booked business ticket for $300. Refundable.\n",
            "Refund processed for business ticket costing $300\n",
            "Charging $400 through payment gateway...\n"
          ]
        }
      ]
    },
    {
      "cell_type": "markdown",
      "metadata": {
        "id": "8kFbI1LF_p0d"
      },
      "source": [
        "3. **Система управления бронированием для отелей (2б)**\n",
        "\n",
        "В системе управления бронированием для отелей обрабатываются все аспекты бронирования: проверка доступности номеров, расчет стоимости, создание бронирования, отправка уведомлений клиенту и генерация отчетов для менеджеров.\n",
        "\n",
        "Исходный код:"
      ]
    },
    {
      "cell_type": "code",
      "execution_count": null,
      "metadata": {
        "colab": {
          "base_uri": "https://localhost:8080/"
        },
        "id": "_s2ufXwx_eCg",
        "outputId": "550f53ec-2bb9-4d0d-bd7d-7a5068f22d4d"
      },
      "outputs": [
        {
          "name": "stdout",
          "output_type": "stream",
          "text": [
            "Booking created for Alice in room 101 for 3 nights. Total price: $300.\n",
            "Sending booking confirmation to Alice at alice@example.com...\n",
            "Failed to send notification.\n",
            "Booked rooms: ['101', '102']\n"
          ]
        },
        {
          "data": {
            "text/plain": [
              "['101', '102']"
            ]
          },
          "execution_count": 5,
          "metadata": {},
          "output_type": "execute_result"
        }
      ],
      "source": [
        "import requests\n",
        "\n",
        "class BookingManager:\n",
        "    def __init__(self):\n",
        "        self.rooms = {\"101\": True, \"102\": False, \"103\": True}  # True - свободно, False - занято\n",
        "\n",
        "    def check_availability(self, room_id):\n",
        "        return self.rooms.get(room_id, False)\n",
        "\n",
        "    def calculate_price(self, room_id, nights):\n",
        "        base_price = 100\n",
        "        if room_id == \"102\":\n",
        "            base_price = 150  # Цена люкса\n",
        "        return base_price * nights\n",
        "\n",
        "    def create_booking(self, room_id, customer_name, nights):\n",
        "        if not self.check_availability(room_id):\n",
        "            raise ValueError(\"Room not available\")\n",
        "        price = self.calculate_price(room_id, nights)\n",
        "        self.rooms[room_id] = False\n",
        "        print(f\"Booking created for {customer_name} in room {room_id} for {nights} nights. Total price: ${price}.\")\n",
        "        return {\"room_id\": room_id, \"customer_name\": customer_name, \"nights\": nights, \"price\": price}\n",
        "\n",
        "    def send_notification(self, customer_name, email):\n",
        "        print(f\"Sending booking confirmation to {customer_name} at {email}...\")\n",
        "        response = requests.post(\"https://example.com/notify\", json={\"name\": customer_name, \"email\": email})\n",
        "        if response.status_code == 200:\n",
        "            print(\"Notification sent.\")\n",
        "        else:\n",
        "            print(\"Failed to send notification.\")\n",
        "\n",
        "    def generate_report(self):\n",
        "        booked_rooms = [room for room, available in self.rooms.items() if not available]\n",
        "        print(\"Booked rooms:\", booked_rooms)\n",
        "        return booked_rooms\n",
        "\n",
        "manager = BookingManager()\n",
        "manager.create_booking(\"101\", \"Alice\", 3)\n",
        "manager.send_notification(\"Alice\", \"alice@example.com\")\n",
        "manager.generate_report()\n"
      ]
    },
    {
      "cell_type": "markdown",
      "source": [
        "**Проблемы:**\n",
        "\n",
        "1. **Нарушение SRP:**\n",
        "   - Один класс обрабатывает доступность номеров, расчёт цены, создание бронирования, отправку уведомлений и генерацию отчётов.\n",
        "\n",
        "2. **Нарушение DIP:**\n",
        "   - Прямая зависимость от `requests`.\n",
        "\n",
        "**Решение:**"
      ],
      "metadata": {
        "id": "LCjPf1N8AG2r"
      }
    },
    {
      "cell_type": "code",
      "source": [
        "class RoomManager:\n",
        "    def __init__(self):\n",
        "        self.rooms = {\"101\": True, \"102\": False, \"103\": True}  # True - available, False - booked\n",
        "\n",
        "    def check_availability(self, room_id):\n",
        "        return self.rooms.get(room_id, False)\n",
        "\n",
        "    def book_room(self, room_id):\n",
        "        if not self.check_availability(room_id):\n",
        "            raise ValueError(\"Room not available\")\n",
        "        self.rooms[room_id] = False\n",
        "\n",
        "    def generate_report(self):\n",
        "        booked_rooms = [room for room, available in self.rooms.items() if not available]\n",
        "        print(\"Booked rooms:\", booked_rooms)\n",
        "        return booked_rooms\n",
        "\n",
        "class PriceCalculator:\n",
        "    def calculate_price(self, room_id, nights):\n",
        "        base_price = 100\n",
        "        if room_id == \"102\":\n",
        "            base_price = 150\n",
        "        return base_price * nights\n",
        "\n",
        "class NotificationService:\n",
        "    def send_notification(self, customer_name, email):\n",
        "        print(f\"Sending booking confirmation to {customer_name} at {email}...\")\n",
        "        response = requests.post(\"https://example.com/notify\", json={\"name\": customer_name, \"email\": email})\n",
        "        if response.status_code == 200:\n",
        "            print(\"Notification sent.\")\n",
        "        else:\n",
        "            print(\"Failed to send notification.\")\n",
        "\n",
        "class BookingService:\n",
        "    def __init__(self, room_manager, price_calculator):\n",
        "        self.room_manager = room_manager\n",
        "        self.price_calculator = price_calculator\n",
        "\n",
        "    def create_booking(self, room_id, customer_name, nights):\n",
        "        self.room_manager.book_room(room_id)\n",
        "        price = self.price_calculator.calculate_price(room_id, nights)\n",
        "        print(f\"Booking created for {customer_name} in room {room_id} for {nights} nights. Total price: ${price}.\")\n",
        "        return {\"room_id\": room_id, \"customer_name\": customer_name, \"nights\": nights, \"price\": price}\n",
        "\n",
        "# Usage\n",
        "room_manager = RoomManager()\n",
        "price_calculator = PriceCalculator()\n",
        "booking_service = BookingService(room_manager, price_calculator)\n",
        "notification_service = NotificationService()\n",
        "\n",
        "booking = booking_service.create_booking(\"101\", \"Alice\", 3)\n",
        "notification_service.send_notification(\"Alice\", \"alice@example.com\")\n",
        "room_manager.generate_report()"
      ],
      "metadata": {
        "colab": {
          "base_uri": "https://localhost:8080/"
        },
        "id": "2Nk2MnlqAHdY",
        "outputId": "d6dcc808-5ba5-40cf-e1a8-a06a1d874265"
      },
      "execution_count": null,
      "outputs": [
        {
          "output_type": "stream",
          "name": "stdout",
          "text": [
            "Booking created for Alice in room 101 for 3 nights. Total price: $300.\n",
            "Sending booking confirmation to Alice at alice@example.com...\n",
            "Failed to send notification.\n",
            "Booked rooms: ['101', '102']\n"
          ]
        },
        {
          "output_type": "execute_result",
          "data": {
            "text/plain": [
              "['101', '102']"
            ]
          },
          "metadata": {},
          "execution_count": 10
        }
      ]
    },
    {
      "cell_type": "markdown",
      "metadata": {
        "id": "rwtiE0UwAfVT"
      },
      "source": [
        "4. **Система управления логистикой (1б)**\n",
        "\n",
        "В системе управления логистикой есть разные типы заказов: стандартные, экспресс и крупногабаритные. Каждый тип заказа имеет свои уникальные требования:  \n",
        "- **Стандартные заказы** рассчитывают маршрут на основе ближайших пунктов доставки.  \n",
        "- **Экспресс-заказы** имеют фиксированные маршруты, но для них также требуется учитывать время доставки.  \n",
        "- **Крупногабаритные заказы** требуют предварительного расчета вместимости транспорта.\n",
        "\n",
        "Исходный код:"
      ]
    },
    {
      "cell_type": "code",
      "execution_count": null,
      "metadata": {
        "colab": {
          "base_uri": "https://localhost:8080/"
        },
        "id": "podt_9X2Aezh",
        "outputId": "76ebadcd-b736-40c4-e3eb-ea5c7e946d2c"
      },
      "outputs": [
        {
          "name": "stdout",
          "output_type": "stream",
          "text": [
            "Calculating optimized route for standard order 001 to New York\n",
            "Order 001: delivery time is 2 days, capacity 10\n",
            "Calculating generic route for order 002 to Los Angeles\n",
            "Calculating delivery time for express order 002\n",
            "Order 002: delivery time is 1 days, capacity 5\n",
            "Calculating generic route for order 003 to Chicago\n",
            "Calculating capacity for bulk order 003\n",
            "Order 003: delivery time is 2 days, capacity 200\n"
          ]
        }
      ],
      "source": [
        "class Order:\n",
        "    def __init__(self, order_id, destination, weight):\n",
        "        self.order_id = order_id\n",
        "        self.destination = destination\n",
        "        self.weight = weight\n",
        "\n",
        "    def calculate_route(self):\n",
        "        # Универсальный метод расчета маршрута\n",
        "        print(f\"Calculating generic route for order {self.order_id} to {self.destination}\")\n",
        "\n",
        "    def calculate_delivery_time(self):\n",
        "        return 2  # Время в днях\n",
        "\n",
        "    def calculate_capacity(self):\n",
        "        return self.weight\n",
        "\n",
        "class StandardOrder(Order):\n",
        "    def calculate_route(self):\n",
        "        print(f\"Calculating optimized route for standard order {self.order_id} to {self.destination}\")\n",
        "\n",
        "\n",
        "class ExpressOrder(Order):\n",
        "    def calculate_delivery_time(self):\n",
        "        print(f\"Calculating delivery time for express order {self.order_id}\")\n",
        "        return 1  # Экспресс-доставка за 1 день\n",
        "\n",
        "\n",
        "class BulkOrder(Order):\n",
        "    def calculate_capacity(self):\n",
        "        print(f\"Calculating capacity for bulk order {self.order_id}\")\n",
        "        return self.weight * 2  # Специальный расчет для крупногабаритных заказов\n",
        "\n",
        "class LogisticsManager:\n",
        "    def __init__(self):\n",
        "        self.orders = []\n",
        "\n",
        "    def add_order(self, order):\n",
        "        self.orders.append(order)\n",
        "\n",
        "    def process_orders(self):\n",
        "        for order in self.orders:\n",
        "            order.calculate_route()\n",
        "            delivery_time = order.calculate_delivery_time()\n",
        "            capacity = order.calculate_capacity()\n",
        "            print(f\"Order {order.order_id}: delivery time is {delivery_time} days, capacity {capacity}\")\n",
        "\n",
        "manager = LogisticsManager()\n",
        "manager.add_order(StandardOrder(\"001\", \"New York\", 10))\n",
        "manager.add_order(ExpressOrder(\"002\", \"Los Angeles\", 5))\n",
        "manager.add_order(BulkOrder(\"003\", \"Chicago\", 100))\n",
        "manager.process_orders()\n"
      ]
    },
    {
      "cell_type": "markdown",
      "source": [
        "**Проблемы:**\n",
        "\n",
        "1. **Нарушение SRP:**\n",
        "   - Один класс отвечает за маршруты, время доставки и вместимость.\n",
        "\n",
        "2. **LSP:**\n",
        "   - Специальное поведение подклассов нарушает ожидания общего интерфейса.\n",
        "\n",
        "**Решение:**\n",
        "\n",
        "На самом деле, исходный код вполне себе неплохой и хорошо справляется с задачей уменьшения дублирования. Тем не менее, мы введем абстрактный класс и как минимум поменяем сообщение в calculate_route, что может быть полезным."
      ],
      "metadata": {
        "id": "2LCldlDkDUou"
      }
    },
    {
      "cell_type": "code",
      "source": [
        "from abc import ABC, abstractmethod\n",
        "\n",
        "\n",
        "class Order(ABC):\n",
        "    def __init__(self, order_id, destination, weight):\n",
        "        self.order_id = order_id\n",
        "        self.destination = destination\n",
        "        self.weight = weight\n",
        "\n",
        "    @abstractmethod\n",
        "    def calculate_route(self):\n",
        "        pass\n",
        "\n",
        "    @abstractmethod\n",
        "    def calculate_delivery_time(self):\n",
        "        pass\n",
        "\n",
        "    @abstractmethod\n",
        "    def calculate_capacity(self):\n",
        "        pass\n",
        "\n",
        "\n",
        "class StandardOrder(Order):\n",
        "    def calculate_route(self):\n",
        "        print(f\"Calculating optimized route for standard order {self.order_id} to {self.destination}\")\n",
        "\n",
        "    def calculate_delivery_time(self):\n",
        "        return 2  # Время в днях\n",
        "\n",
        "    def calculate_capacity(self):\n",
        "        return self.weight\n",
        "\n",
        "\n",
        "class ExpressOrder(Order):\n",
        "    def calculate_route(self):\n",
        "        print(f\"Calculating generic route for express order {self.order_id} to {self.destination}\")\n",
        "\n",
        "    def calculate_delivery_time(self):\n",
        "        print(f\"Calculating delivery time for express order {self.order_id}\")\n",
        "        return 1  # Экспресс-доставка за 1 день\n",
        "\n",
        "    def calculate_capacity(self):\n",
        "        return self.weight\n",
        "\n",
        "\n",
        "class BulkOrder(Order):\n",
        "    def calculate_route(self):\n",
        "        print(f\"Calculating generic route for bulk order {self.order_id} to {self.destination}\")\n",
        "\n",
        "    def calculate_delivery_time(self):\n",
        "        return 3  # Крупногабаритные заказы требуют больше времени\n",
        "\n",
        "    def calculate_capacity(self):\n",
        "        print(f\"Calculating capacity for bulk order {self.order_id}\")\n",
        "        return self.weight * 2  # Специальный расчет для крупногабаритных заказов\n",
        "\n",
        "\n",
        "class LogisticsManager:\n",
        "    def __init__(self):\n",
        "        self.orders = []\n",
        "\n",
        "    def add_order(self, order: Order):\n",
        "        self.orders.append(order)\n",
        "\n",
        "    def process_orders(self):\n",
        "        for order in self.orders:\n",
        "            order.calculate_route()\n",
        "            delivery_time = order.calculate_delivery_time()\n",
        "            capacity = order.calculate_capacity()\n",
        "            print(f\"Order {order.order_id}: delivery time is {delivery_time} days, capacity {capacity}\")\n",
        "\n",
        "\n",
        "# Пример использования\n",
        "manager = LogisticsManager()\n",
        "manager.add_order(StandardOrder(\"001\", \"New York\", 10))\n",
        "manager.add_order(ExpressOrder(\"002\", \"Los Angeles\", 5))\n",
        "manager.add_order(BulkOrder(\"003\", \"Chicago\", 100))\n",
        "manager.process_orders()\n"
      ],
      "metadata": {
        "colab": {
          "base_uri": "https://localhost:8080/"
        },
        "id": "MVCo79SaEZes",
        "outputId": "b850b3bc-479d-46b6-81da-b2c76d50049c"
      },
      "execution_count": null,
      "outputs": [
        {
          "output_type": "stream",
          "name": "stdout",
          "text": [
            "Calculating optimized route for standard order 001 to New York\n",
            "Order 001: delivery time is 2 days, capacity 10\n",
            "Calculating generic route for express order 002 to Los Angeles\n",
            "Calculating delivery time for express order 002\n",
            "Order 002: delivery time is 1 days, capacity 5\n",
            "Calculating generic route for bulk order 003 to Chicago\n",
            "Calculating capacity for bulk order 003\n",
            "Order 003: delivery time is 3 days, capacity 200\n"
          ]
        }
      ]
    },
    {
      "cell_type": "markdown",
      "metadata": {
        "id": "lxgwQ58UChvZ"
      },
      "source": [
        "5. **Система обработки задач (5б)**\n",
        "\n",
        "*Выполнять локально (не в colab).*\n",
        "\n",
        "Разрабатываем систему обработки задач, использующую два типа очередей:\n",
        "1. **Локальная очередь** — хранит задачи в оперативной памяти.\n",
        "2. **Распределенная очередь** — взаимодействует с **RabbitMQ**.\n",
        "\n",
        "Система выполняет три типа задач:\n",
        "- `send_email`: Отправка email.\n",
        "- `generate_report`: Генерация отчета.\n",
        "- `process_data`: Обработка данных.\n",
        "\n",
        "\n",
        "Для работы с **RabbitMQ** потребуется:\n",
        "- Установленный и запущенный сервер RabbitMQ.\n",
        "- Брокер сообщений будет доступен на порту `5672` для взаимодействия через AMQP-протокол.\n",
        "- Веб-интерфейс управления RabbitMQ будет доступен по адресу [http://localhost:15672](http://localhost:15672), если вы используете официальный Docker-образ с поддержкой веб-интерфейса.\n",
        "\n",
        "Чтобы запустить RabbitMQ, вы можете воспользоваться Docker. Это самый простой способ:\n",
        "\n",
        "```bash\n",
        "docker run -d --hostname my-rabbit --name some-rabbit \\\n",
        "-p 5672:5672 -p 15672:15672 rabbitmq:management\n",
        "```\n",
        "\n",
        "Если образ уже обновился, выполните команду для загрузки последней версии:\n",
        "\n",
        "```bash\n",
        "docker pull rabbitmq:management\n",
        "```\n",
        "\n",
        "После запуска:\n",
        "- **Порт 5672** будет доступен для AMQP-протокола.\n",
        "- **Порт 15672** будет доступен для веб-интерфейса RabbitMQ Management Console.\n",
        "- Логин и пароль по умолчанию: `guest` / `guest`.\n",
        "\n",
        "Убедитесь, что контейнер с RabbitMQ работает, выполнив команду.\n",
        "\n",
        "```bash\n",
        "docker ps\n",
        "```\n",
        "\n",
        "Перейдите в браузере на [http://localhost:15672](http://localhost:15672) для входа в веб-интерфейс с учетными данными `guest/guest`..\n",
        "\n",
        "Исходный код:"
      ]
    },
    {
      "cell_type": "code",
      "execution_count": null,
      "metadata": {
        "id": "zxeUj8MTDsNL",
        "outputId": "be5b8635-68e9-4622-9244-3bc5ab0f9906"
      },
      "outputs": [
        {
          "name": "stdout",
          "output_type": "stream",
          "text": [
            "Requirement already satisfied: pika in /Users/serggor/venv/lib/python3.12/site-packages (1.3.2)\n",
            "\n",
            "\u001b[1m[\u001b[0m\u001b[34;49mnotice\u001b[0m\u001b[1;39;49m]\u001b[0m\u001b[39;49m A new release of pip is available: \u001b[0m\u001b[31;49m24.0\u001b[0m\u001b[39;49m -> \u001b[0m\u001b[32;49m24.3.1\u001b[0m\n",
            "\u001b[1m[\u001b[0m\u001b[34;49mnotice\u001b[0m\u001b[1;39;49m]\u001b[0m\u001b[39;49m To update, run: \u001b[0m\u001b[32;49mpip install --upgrade pip\u001b[0m\n"
          ]
        }
      ],
      "source": [
        "! pip install pika"
      ]
    },
    {
      "cell_type": "code",
      "execution_count": null,
      "metadata": {
        "id": "V-AmnQXaDjoh"
      },
      "outputs": [],
      "source": [
        "class TaskProcessor:\n",
        "    def process_task(self, task):\n",
        "        task_type = task.get(\"type\")\n",
        "\n",
        "        payload = task.get(\"payload\")\n",
        "\n",
        "        if task_type == \"send_email\":\n",
        "            self._send_email(payload)\n",
        "        elif task_type == \"generate_report\":\n",
        "            self._generate_report(payload)\n",
        "        elif task_type == \"process_data\":\n",
        "            self._process_data(payload)\n",
        "        else:\n",
        "            print(f\"Unknown task type: {task_type}\")\n",
        "\n",
        "    def _send_email(self, payload):\n",
        "        email = payload.get(\"email\")\n",
        "        subject = payload.get(\"subject\")\n",
        "        content = payload.get(\"content\")\n",
        "        print(f\"Sending email to {email} with subject '{subject}' and content '{content}'\")\n",
        "\n",
        "    def _generate_report(self, payload):\n",
        "        report_id = payload.get(\"report_id\")\n",
        "        print(f\"Generating report with ID {report_id}...\")\n",
        "        # Имитация долгой работы\n",
        "        import time\n",
        "        time.sleep(2)\n",
        "        print(f\"Report {report_id} generated\")\n",
        "\n",
        "    def _process_data(self, payload):\n",
        "        data = payload.get(\"data\")\n",
        "        print(f\"Processing data: {data}\")\n",
        "        # Имитация обработки данных\n",
        "        processed_data = [d.upper() for d in data]\n",
        "        print(f\"Processed data: {processed_data}\")\n"
      ]
    },
    {
      "cell_type": "code",
      "execution_count": null,
      "metadata": {
        "id": "HdJAHImU_7uO"
      },
      "outputs": [],
      "source": [
        "import time\n",
        "import json\n",
        "import pika\n",
        "\n",
        "\n",
        "class TaskQueue:\n",
        "    def enqueue(self, task):\n",
        "        pass\n",
        "\n",
        "    def dequeue(self):\n",
        "        pass\n",
        "\n",
        "    def connect(self):\n",
        "        pass\n",
        "\n",
        "\n",
        "class LocalQueue(TaskQueue):\n",
        "    def __init__(self):\n",
        "        self.tasks = []\n",
        "\n",
        "    def enqueue(self, task):\n",
        "        self.tasks.append(task)\n",
        "\n",
        "    def dequeue(self):\n",
        "        if not self.tasks:\n",
        "            return None\n",
        "        return self.tasks.pop(0)\n",
        "\n",
        "\n",
        "class RabbitMQQueue(TaskQueue):\n",
        "    def __init__(self, broker_url, queue_name):\n",
        "        self.broker_url = broker_url\n",
        "        self.queue_name = queue_name\n",
        "        self.channel = None\n",
        "\n",
        "    def connect(self):\n",
        "        connection = pika.BlockingConnection(pika.ConnectionParameters(self.broker_url))\n",
        "        self.channel = connection.channel()\n",
        "        self.channel.queue_declare(queue=self.queue_name, durable=True)\n",
        "        print(f\"Connected to RabbitMQ queue '{self.queue_name}'\")\n",
        "\n",
        "    def enqueue(self, task):\n",
        "        \"\"\"Добавляет задачу в RabbitMQ с сериализацией в JSON.\"\"\"\n",
        "        if not self.channel:\n",
        "            raise ConnectionError(\"Not connected to RabbitMQ\")\n",
        "        task_str = json.dumps(task)  # Сериализуем задачу в строку\n",
        "        self.channel.basic_publish(\n",
        "            exchange=\"\",\n",
        "            routing_key=self.queue_name,\n",
        "            body=task_str,\n",
        "            properties=pika.BasicProperties(\n",
        "                delivery_mode=2  # Делает сообщение устойчивым\n",
        "            )\n",
        "        )\n",
        "        print(f\"Task '{task_str}' enqueued in RabbitMQQueue\")\n",
        "\n",
        "    def dequeue(self):\n",
        "        \"\"\"Извлекает задачу из RabbitMQ с десериализацией из JSON.\"\"\"\n",
        "        if not self.channel:\n",
        "            raise ConnectionError(\"Not connected to RabbitMQ\")\n",
        "        method_frame, header_frame, body = self.channel.basic_get(queue=self.queue_name)\n",
        "        if method_frame:\n",
        "            self.channel.basic_ack(method_frame.delivery_tag)\n",
        "            task = json.loads(body.decode())  # Десериализуем задачу обратно в словарь\n",
        "            print(f\"Task '{task}' dequeued from RabbitMQQueue\")\n",
        "            return task\n",
        "        return None\n",
        "\n",
        "\n",
        "class TaskManager:\n",
        "    def __init__(self, queue, processor):\n",
        "        self.queue = queue\n",
        "        self.processor = processor\n",
        "\n",
        "    def process_tasks(self):\n",
        "        while True:\n",
        "            task = self.queue.dequeue()\n",
        "            if task is None:\n",
        "                print(\"No tasks to process. Waiting...\")\n",
        "                import time\n",
        "                time.sleep(2)\n",
        "            else:\n",
        "                print(f\"Processing task: {task}\")\n",
        "                self.processor.process_task(task)\n"
      ]
    },
    {
      "cell_type": "code",
      "execution_count": null,
      "metadata": {
        "colab": {
          "base_uri": "https://localhost:8080/",
          "height": 211
        },
        "id": "vcSvMaXRDVRD",
        "outputId": "c55c7db5-0e4b-4c3c-f8f6-82b104fdad83"
      },
      "outputs": [
        {
          "name": "stdout",
          "output_type": "stream",
          "text": [
            "Processing task: {'type': 'send_email', 'payload': {'email': 'user@example.com', 'subject': 'Welcome', 'content': 'Thank you for joining!'}}\n",
            "Sending email to user@example.com with subject 'Welcome' and content 'Thank you for joining!'\n",
            "Processing task: {'type': 'generate_report', 'payload': {'report_id': 42}}\n",
            "Generating report with ID 42...\n",
            "Report 42 generated\n",
            "Processing task: {'type': 'process_data', 'payload': {'data': ['foo', 'bar', 'baz']}}\n",
            "Processing data: ['foo', 'bar', 'baz']\n",
            "Processed data: ['FOO', 'BAR', 'BAZ']\n",
            "No tasks to process. Waiting...\n",
            "No tasks to process. Waiting...\n",
            "No tasks to process. Waiting...\n"
          ]
        },
        {
          "ename": "KeyboardInterrupt",
          "evalue": "",
          "output_type": "error",
          "traceback": [
            "\u001b[0;31m---------------------------------------------------------------------------\u001b[0m",
            "\u001b[0;31mKeyboardInterrupt\u001b[0m                         Traceback (most recent call last)",
            "Cell \u001b[0;32mIn[8], line 11\u001b[0m\n\u001b[1;32m      8\u001b[0m local_queue\u001b[38;5;241m.\u001b[39menqueue({\u001b[38;5;124m\"\u001b[39m\u001b[38;5;124mtype\u001b[39m\u001b[38;5;124m\"\u001b[39m: \u001b[38;5;124m\"\u001b[39m\u001b[38;5;124mprocess_data\u001b[39m\u001b[38;5;124m\"\u001b[39m, \u001b[38;5;124m\"\u001b[39m\u001b[38;5;124mpayload\u001b[39m\u001b[38;5;124m\"\u001b[39m: {\u001b[38;5;124m\"\u001b[39m\u001b[38;5;124mdata\u001b[39m\u001b[38;5;124m\"\u001b[39m: [\u001b[38;5;124m\"\u001b[39m\u001b[38;5;124mfoo\u001b[39m\u001b[38;5;124m\"\u001b[39m, \u001b[38;5;124m\"\u001b[39m\u001b[38;5;124mbar\u001b[39m\u001b[38;5;124m\"\u001b[39m, \u001b[38;5;124m\"\u001b[39m\u001b[38;5;124mbaz\u001b[39m\u001b[38;5;124m\"\u001b[39m]}})\n\u001b[1;32m     10\u001b[0m \u001b[38;5;66;03m# Запускаем обработку задач\u001b[39;00m\n\u001b[0;32m---> 11\u001b[0m \u001b[43mmanager\u001b[49m\u001b[38;5;241;43m.\u001b[39;49m\u001b[43mprocess_tasks\u001b[49m\u001b[43m(\u001b[49m\u001b[43m)\u001b[49m\n",
            "Cell \u001b[0;32mIn[7], line 81\u001b[0m, in \u001b[0;36mTaskManager.process_tasks\u001b[0;34m(self)\u001b[0m\n\u001b[1;32m     79\u001b[0m     \u001b[38;5;28mprint\u001b[39m(\u001b[38;5;124m\"\u001b[39m\u001b[38;5;124mNo tasks to process. Waiting...\u001b[39m\u001b[38;5;124m\"\u001b[39m)\n\u001b[1;32m     80\u001b[0m     \u001b[38;5;28;01mimport\u001b[39;00m \u001b[38;5;21;01mtime\u001b[39;00m\n\u001b[0;32m---> 81\u001b[0m     \u001b[43mtime\u001b[49m\u001b[38;5;241;43m.\u001b[39;49m\u001b[43msleep\u001b[49m\u001b[43m(\u001b[49m\u001b[38;5;241;43m2\u001b[39;49m\u001b[43m)\u001b[49m\n\u001b[1;32m     82\u001b[0m \u001b[38;5;28;01melse\u001b[39;00m:\n\u001b[1;32m     83\u001b[0m     \u001b[38;5;28mprint\u001b[39m(\u001b[38;5;124mf\u001b[39m\u001b[38;5;124m\"\u001b[39m\u001b[38;5;124mProcessing task: \u001b[39m\u001b[38;5;132;01m{\u001b[39;00mtask\u001b[38;5;132;01m}\u001b[39;00m\u001b[38;5;124m\"\u001b[39m)\n",
            "\u001b[0;31mKeyboardInterrupt\u001b[0m: "
          ]
        }
      ],
      "source": [
        "local_queue = LocalQueue()\n",
        "processor = TaskProcessor()\n",
        "manager = TaskManager(local_queue, processor)\n",
        "\n",
        "# Добавляем задачи в локальную очередь\n",
        "local_queue.enqueue({\"type\": \"send_email\", \"payload\": {\"email\": \"user@example.com\", \"subject\": \"Welcome\", \"content\": \"Thank you for joining!\"}})\n",
        "local_queue.enqueue({\"type\": \"generate_report\", \"payload\": {\"report_id\": 42}})\n",
        "local_queue.enqueue({\"type\": \"process_data\", \"payload\": {\"data\": [\"foo\", \"bar\", \"baz\"]}})\n",
        "\n",
        "# Запускаем обработку задач\n",
        "manager.process_tasks()\n"
      ]
    },
    {
      "cell_type": "code",
      "execution_count": null,
      "metadata": {
        "id": "3-GS6ndRDVcC",
        "outputId": "5292ec79-f181-4a4b-ec09-3bd9066fc923"
      },
      "outputs": [
        {
          "name": "stdout",
          "output_type": "stream",
          "text": [
            "Connected to RabbitMQ queue 'task_queue'\n",
            "Task '{\"type\": \"send_email\", \"payload\": {\"email\": \"admin@example.com\", \"subject\": \"Alert\", \"content\": \"Server is down!\"}}' enqueued in RabbitMQQueue\n",
            "Task '{\"type\": \"generate_report\", \"payload\": {\"report_id\": 101}}' enqueued in RabbitMQQueue\n",
            "Task '{\"type\": \"process_data\", \"payload\": {\"data\": [\"apple\", \"banana\", \"cherry\"]}}' enqueued in RabbitMQQueue\n",
            "Task '{'type': 'send_email', 'payload': {'email': 'admin@example.com', 'subject': 'Alert', 'content': 'Server is down!'}}' dequeued from RabbitMQQueue\n",
            "Processing task: {'type': 'send_email', 'payload': {'email': 'admin@example.com', 'subject': 'Alert', 'content': 'Server is down!'}}\n",
            "Sending email to admin@example.com with subject 'Alert' and content 'Server is down!'\n",
            "Task '{'type': 'generate_report', 'payload': {'report_id': 101}}' dequeued from RabbitMQQueue\n",
            "Processing task: {'type': 'generate_report', 'payload': {'report_id': 101}}\n",
            "Generating report with ID 101...\n",
            "Report 101 generated\n",
            "Task '{'type': 'process_data', 'payload': {'data': ['apple', 'banana', 'cherry']}}' dequeued from RabbitMQQueue\n",
            "Processing task: {'type': 'process_data', 'payload': {'data': ['apple', 'banana', 'cherry']}}\n",
            "Processing data: ['apple', 'banana', 'cherry']\n",
            "Processed data: ['APPLE', 'BANANA', 'CHERRY']\n",
            "No tasks to process. Waiting...\n",
            "No tasks to process. Waiting...\n",
            "No tasks to process. Waiting...\n",
            "No tasks to process. Waiting...\n"
          ]
        },
        {
          "ename": "KeyboardInterrupt",
          "evalue": "",
          "output_type": "error",
          "traceback": [
            "\u001b[0;31m---------------------------------------------------------------------------\u001b[0m",
            "\u001b[0;31mKeyboardInterrupt\u001b[0m                         Traceback (most recent call last)",
            "Cell \u001b[0;32mIn[9], line 15\u001b[0m\n\u001b[1;32m     12\u001b[0m rabbit_queue\u001b[38;5;241m.\u001b[39menqueue({\u001b[38;5;124m\"\u001b[39m\u001b[38;5;124mtype\u001b[39m\u001b[38;5;124m\"\u001b[39m: \u001b[38;5;124m\"\u001b[39m\u001b[38;5;124mprocess_data\u001b[39m\u001b[38;5;124m\"\u001b[39m, \u001b[38;5;124m\"\u001b[39m\u001b[38;5;124mpayload\u001b[39m\u001b[38;5;124m\"\u001b[39m: {\u001b[38;5;124m\"\u001b[39m\u001b[38;5;124mdata\u001b[39m\u001b[38;5;124m\"\u001b[39m: [\u001b[38;5;124m\"\u001b[39m\u001b[38;5;124mapple\u001b[39m\u001b[38;5;124m\"\u001b[39m, \u001b[38;5;124m\"\u001b[39m\u001b[38;5;124mbanana\u001b[39m\u001b[38;5;124m\"\u001b[39m, \u001b[38;5;124m\"\u001b[39m\u001b[38;5;124mcherry\u001b[39m\u001b[38;5;124m\"\u001b[39m]}})\n\u001b[1;32m     14\u001b[0m \u001b[38;5;66;03m# Запускаем обработку задач\u001b[39;00m\n\u001b[0;32m---> 15\u001b[0m \u001b[43mmanager\u001b[49m\u001b[38;5;241;43m.\u001b[39;49m\u001b[43mprocess_tasks\u001b[49m\u001b[43m(\u001b[49m\u001b[43m)\u001b[49m\n",
            "Cell \u001b[0;32mIn[7], line 81\u001b[0m, in \u001b[0;36mTaskManager.process_tasks\u001b[0;34m(self)\u001b[0m\n\u001b[1;32m     79\u001b[0m     \u001b[38;5;28mprint\u001b[39m(\u001b[38;5;124m\"\u001b[39m\u001b[38;5;124mNo tasks to process. Waiting...\u001b[39m\u001b[38;5;124m\"\u001b[39m)\n\u001b[1;32m     80\u001b[0m     \u001b[38;5;28;01mimport\u001b[39;00m \u001b[38;5;21;01mtime\u001b[39;00m\n\u001b[0;32m---> 81\u001b[0m     \u001b[43mtime\u001b[49m\u001b[38;5;241;43m.\u001b[39;49m\u001b[43msleep\u001b[49m\u001b[43m(\u001b[49m\u001b[38;5;241;43m2\u001b[39;49m\u001b[43m)\u001b[49m\n\u001b[1;32m     82\u001b[0m \u001b[38;5;28;01melse\u001b[39;00m:\n\u001b[1;32m     83\u001b[0m     \u001b[38;5;28mprint\u001b[39m(\u001b[38;5;124mf\u001b[39m\u001b[38;5;124m\"\u001b[39m\u001b[38;5;124mProcessing task: \u001b[39m\u001b[38;5;132;01m{\u001b[39;00mtask\u001b[38;5;132;01m}\u001b[39;00m\u001b[38;5;124m\"\u001b[39m)\n",
            "\u001b[0;31mKeyboardInterrupt\u001b[0m: "
          ]
        }
      ],
      "source": [
        "# Создаем очередь RabbitMQ\n",
        "rabbit_queue = RabbitMQQueue(\"localhost\", \"task_queue\")\n",
        "rabbit_queue.connect()\n",
        "\n",
        "# Создаем обработчик задач и менеджер\n",
        "processor = TaskProcessor()\n",
        "manager = TaskManager(rabbit_queue, processor)\n",
        "\n",
        "# Добавляем задачи в очередь\n",
        "rabbit_queue.enqueue({\"type\": \"send_email\", \"payload\": {\"email\": \"admin@example.com\", \"subject\": \"Alert\", \"content\": \"Server is down!\"}})\n",
        "rabbit_queue.enqueue({\"type\": \"generate_report\", \"payload\": {\"report_id\": 101}})\n",
        "rabbit_queue.enqueue({\"type\": \"process_data\", \"payload\": {\"data\": [\"apple\", \"banana\", \"cherry\"]}})\n",
        "\n",
        "# Запускаем обработку задач\n",
        "manager.process_tasks()\n"
      ]
    },
    {
      "cell_type": "markdown",
      "source": [
        "**Проблемы:**\n",
        "\n",
        "1. **Нарушение SRP:**\n",
        "   - Класс `TaskProcessor` выполняет разные задачи: обработка email, генерация отчётов и обработка данных.\n",
        "\n",
        "2. **Нарушение OCP:**\n",
        "   - Добавление новых типов задач потребует изменения в методе `process_task`.\n",
        "\n",
        "3. **Нарушение DIP:**\n",
        "   - Зависимость от конкретной реализации очередей (`LocalQueue`, `RabbitMQQueue`) в менеджере задач.\n",
        "\n",
        "**Решение:**"
      ],
      "metadata": {
        "id": "Z6U4mZGzH8EY"
      }
    },
    {
      "cell_type": "code",
      "source": [
        "from abc import ABC, abstractmethod\n",
        "import json\n",
        "import pika\n",
        "import time\n",
        "\n",
        "class TaskHandler(ABC):\n",
        "    @abstractmethod\n",
        "    def handle(self, payload):\n",
        "        pass\n",
        "\n",
        "class EmailTaskHandler(TaskHandler):\n",
        "    def handle(self, payload):\n",
        "        email = payload.get(\"email\")\n",
        "        subject = payload.get(\"subject\")\n",
        "        content = payload.get(\"content\")\n",
        "        print(f\"Sending email to {email} with subject '{subject}' and content '{content}'\")\n",
        "\n",
        "class ReportTaskHandler(TaskHandler):\n",
        "    def handle(self, payload):\n",
        "        report_id = payload.get(\"report_id\")\n",
        "        print(f\"Generating report with ID {report_id}...\")\n",
        "        time.sleep(2)\n",
        "        print(f\"Report {report_id} generated\")\n",
        "\n",
        "class DataTaskHandler(TaskHandler):\n",
        "    def handle(self, payload):\n",
        "        data = payload.get(\"data\")\n",
        "        print(f\"Processing data: {data}\")\n",
        "        processed_data = [d.upper() for d in data]\n",
        "        print(f\"Processed data: {processed_data}\")\n",
        "\n",
        "class TaskProcessor:\n",
        "    def __init__(self):\n",
        "        self.handlers = {\n",
        "            \"send_email\": EmailTaskHandler(),\n",
        "            \"generate_report\": ReportTaskHandler(),\n",
        "            \"process_data\": DataTaskHandler()\n",
        "        }\n",
        "\n",
        "    def process_task(self, task):\n",
        "        task_type = task.get(\"type\")\n",
        "        handler = self.handlers.get(task_type)\n",
        "        if handler:\n",
        "            handler.handle(task.get(\"payload\"))\n",
        "        else:\n",
        "            print(f\"Unknown task type: {task_type}\")\n",
        "\n",
        "class TaskQueue(ABC):\n",
        "    @abstractmethod\n",
        "    def enqueue(self, task):\n",
        "        pass\n",
        "\n",
        "    @abstractmethod\n",
        "    def dequeue(self):\n",
        "        pass\n",
        "\n",
        "class LocalQueue(TaskQueue):\n",
        "    def __init__(self):\n",
        "        self.tasks = []\n",
        "\n",
        "    def enqueue(self, task):\n",
        "        self.tasks.append(task)\n",
        "\n",
        "    def dequeue(self):\n",
        "        if not self.tasks:\n",
        "            return None\n",
        "        return self.tasks.pop(0)\n",
        "\n",
        "class RabbitMQQueue(TaskQueue):\n",
        "    def __init__(self, broker_url, queue_name):\n",
        "        self.broker_url = broker_url\n",
        "        self.queue_name = queue_name\n",
        "        self.channel = None\n",
        "\n",
        "    def connect(self):\n",
        "        connection = pika.BlockingConnection(pika.ConnectionParameters(self.broker_url))\n",
        "        self.channel = connection.channel()\n",
        "        self.channel.queue_declare(queue=self.queue_name, durable=True)\n",
        "        print(f\"Connected to RabbitMQ queue '{self.queue_name}'\")\n",
        "\n",
        "    def enqueue(self, task):\n",
        "        if not self.channel:\n",
        "            raise ConnectionError(\"Not connected to RabbitMQ\")\n",
        "        task_str = json.dumps(task)\n",
        "        self.channel.basic_publish(\n",
        "            exchange=\"\",\n",
        "            routing_key=self.queue_name,\n",
        "            body=task_str,\n",
        "            properties=pika.BasicProperties(delivery_mode=2)\n",
        "        )\n",
        "        print(f\"Task '{task_str}' enqueued in RabbitMQQueue\")\n",
        "\n",
        "    def dequeue(self):\n",
        "        if not self.channel:\n",
        "            raise ConnectionError(\"Not connected to RabbitMQ\")\n",
        "        method_frame, header_frame, body = self.channel.basic_get(queue=self.queue_name)\n",
        "        if method_frame:\n",
        "            self.channel.basic_ack(method_frame.delivery_tag)\n",
        "            task = json.loads(body.decode())\n",
        "            print(f\"Task '{task}' dequeued from RabbitMQQueue\")\n",
        "            return task\n",
        "        return None\n",
        "\n",
        "class TaskManager:\n",
        "    def __init__(self, queue, processor):\n",
        "        self.queue = queue\n",
        "        self.processor = processor\n",
        "\n",
        "    def process_tasks(self):\n",
        "        while True:\n",
        "            task = self.queue.dequeue()\n",
        "            if task is None:\n",
        "                print(\"No tasks to process. Waiting...\")\n",
        "                time.sleep(2)\n",
        "            else:\n",
        "                print(f\"Processing task: {task}\")\n",
        "                self.processor.process_task(task)\n",
        "\n",
        "\n",
        "local_queue = LocalQueue()\n",
        "processor = TaskProcessor()\n",
        "manager = TaskManager(local_queue, processor)\n",
        "\n",
        "local_queue.enqueue({\"type\": \"send_email\", \"payload\": {\"email\": \"user@example.com\", \"subject\": \"Welcome\", \"content\": \"Thank you for joining!\"}})\n",
        "local_queue.enqueue({\"type\": \"generate_report\", \"payload\": {\"report_id\": 42}})\n",
        "local_queue.enqueue({\"type\": \"process_data\", \"payload\": {\"data\": [\"foo\", \"bar\", \"baz\"]}})\n",
        "\n",
        "manager.process_tasks()\n",
        "\n",
        "rabbit_queue = RabbitMQQueue(\"localhost\", \"task_queue\")\n",
        "rabbit_queue.connect()\n",
        "\n",
        "rabbit_queue.enqueue({\"type\": \"send_email\", \"payload\": {\"email\": \"admin@example.com\", \"subject\": \"Alert\", \"content\": \"Server is down!\"}})\n",
        "rabbit_queue.enqueue({\"type\": \"generate_report\", \"payload\": {\"report_id\": 101}})\n",
        "rabbit_queue.enqueue({\"type\": \"process_data\", \"payload\": {\"data\": [\"apple\", \"banana\", \"cherry\"]}})\n",
        "\n",
        "manager = TaskManager(rabbit_queue, processor)\n",
        "manager.process_tasks()"
      ],
      "metadata": {
        "id": "AqQkpXfWH5m9"
      },
      "execution_count": null,
      "outputs": []
    },
    {
      "cell_type": "markdown",
      "metadata": {
        "id": "RkHr13dgFi2F"
      },
      "source": [
        "Проверьте в веб-интерфейсе, что у вас появилась очередь сообщений `task_queue` и в ней было какое-то сообщение.\n",
        "\n",
        "После нескольких секунд для каждого обработчика можно его прерывать, поскольку каждый из них будет просто ожидать данных и писать `No tasks to process. Waiting...`\n",
        "\n",
        "Для удаления Docker-образа после использования вам нужно выполнить несколько шагов:\n",
        "\n",
        "#### 1. Остановить и удалить контейнер\n",
        "\n",
        "Если контейнер с RabbitMQ всё ещё работает, его нужно сначала остановить и удалить:\n",
        "\n",
        "```bash\n",
        "docker ps\n",
        "```\n",
        "\n",
        "Эта команда покажет список всех работающих контейнеров. Найдите контейнер RabbitMQ, например:\n",
        "\n",
        "```\n",
        "CONTAINER ID   IMAGE                COMMAND                  STATUS        NAMES\n",
        "e0db3c8c0d8f   rabbitmq:management  \"docker-entrypoint.s…\"   Up 3 minutes  some-rabbit\n",
        "```\n",
        "\n",
        "Чтобы остановить контейнер, выполните:\n",
        "\n",
        "```bash\n",
        "docker stop some-rabbit\n",
        "```\n",
        "\n",
        "Теперь удалите остановленный контейнер:\n",
        "\n",
        "```bash\n",
        "docker rm some-rabbit\n",
        "```\n",
        "\n",
        "#### 2. Удалить Docker-образ\n",
        "\n",
        "Сначала проверьте, какие образы загружены в вашей системе:\n",
        "\n",
        "```bash\n",
        "docker images\n",
        "```\n",
        "\n",
        "Вы увидите список образов:\n",
        "\n",
        "```\n",
        "REPOSITORY     TAG            IMAGE ID       CREATED        SIZE\n",
        "rabbitmq       management     f41c9db5c2c5   2 weeks ago    188MB\n",
        "```\n",
        "\n",
        "Удалите образ RabbitMQ:\n",
        "\n",
        "```bash\n",
        "docker rmi rabbitmq:management\n",
        "```\n"
      ]
    },
    {
      "cell_type": "markdown",
      "source": [
        "P.S. Для общего развития рекомендуется почитать про брокеры сообщений"
      ],
      "metadata": {
        "id": "fiqE80RLLlxE"
      }
    }
  ],
  "metadata": {
    "colab": {
      "provenance": []
    },
    "kernelspec": {
      "display_name": "Python 3 (ipykernel)",
      "language": "python",
      "name": "python3"
    },
    "language_info": {
      "codemirror_mode": {
        "name": "ipython",
        "version": 3
      },
      "file_extension": ".py",
      "mimetype": "text/x-python",
      "name": "python",
      "nbconvert_exporter": "python",
      "pygments_lexer": "ipython3",
      "version": "3.12.8"
    }
  },
  "nbformat": 4,
  "nbformat_minor": 0
}