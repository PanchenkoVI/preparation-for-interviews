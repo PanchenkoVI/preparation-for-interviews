{
  "nbformat": 4,
  "nbformat_minor": 0,
  "metadata": {
    "colab": {
      "provenance": []
    },
    "kernelspec": {
      "name": "python3",
      "display_name": "Python 3"
    },
    "language_info": {
      "name": "python"
    }
  },
  "cells": [
    {
      "cell_type": "markdown",
      "source": [
        "В этом домашнем задании вам необходимо будет использовать некоторый паттерн для того чтобы решить проблемы, описанные в условии. Для каждой задачи будет дан код, который должен работать после рефакторинга. В качестве решения напишите к какому паттерну проектирования вы будете приводить код и приведите отрефакторенный код."
      ],
      "metadata": {
        "id": "Ts1orshj-oPF"
      }
    },
    {
      "cell_type": "markdown",
      "source": [
        "### Задача 1: Динамическое управление шаблонами электронной почты (Decorator) – 0.5 б"
      ],
      "metadata": {
        "id": "F-rrnnRV-ciM"
      }
    },
    {
      "cell_type": "markdown",
      "source": [
        "#### Исходный код:\n",
        "```python\n",
        "class EmailTemplate:\n",
        "    def render(self):\n",
        "        return \"Hello, User!\"\n",
        "\n",
        "template = EmailTemplate()\n",
        "print(template.render())  # Hello, User!\n",
        "```\n",
        "\n",
        "#### Проблемы:\n",
        "1. Добавление новых элементов (например, \"Приветствие\" или \"Подпись\") требует изменения основного класса.\n",
        "2. Код становится негибким для динамических изменений.\n",
        "\n",
        "#### Исправленный код:\n",
        "```python\n",
        "class EmailTemplate:\n",
        "    def render(self):\n",
        "        return \"Hello, User!\"\n",
        "\n",
        "class HeaderDecorator:\n",
        "    def __init__(self, template):\n",
        "        self.template = template\n",
        "\n",
        "    def render(self):\n",
        "        return f\"--- Header ---\\n{self.template.render()}\"\n",
        "\n",
        "class FooterDecorator:\n",
        "    def __init__(self, template):\n",
        "        self.template = template\n",
        "\n",
        "    def render(self):\n",
        "        return f\"{self.template.render()}\\n--- Footer ---\"\n",
        "\n",
        "template = EmailTemplate()\n",
        "decorated_template = FooterDecorator(HeaderDecorator(template))\n",
        "print(decorated_template.render())\n",
        "```\n",
        "\n",
        "#### Обоснование:\n",
        "- Decorator позволяет добавлять функциональность шаблона без изменения основного класса.\n",
        "- Логика оформления становится модульной и легко расширяемой."
      ],
      "metadata": {
        "id": "TvrSAlw46Wzx"
      }
    },
    {
      "cell_type": "markdown",
      "source": [
        "### Задача 2: Управление сценариями выполнения (Command) – 1 б"
      ],
      "metadata": {
        "id": "T2jge005-eJF"
      }
    },
    {
      "cell_type": "markdown",
      "source": [
        "#### Исходный код:\n",
        "```python\n",
        "class TaskManager:\n",
        "    def deploy(self):\n",
        "        print(\"Deploying application...\")\n",
        "\n",
        "    def rollback(self):\n",
        "        print(\"Rolling back deployment...\")\n",
        "\n",
        "manager = TaskManager()\n",
        "action = input(\"Enter action (deploy/rollback): \")\n",
        "if action == \"deploy\":\n",
        "    manager.deploy()\n",
        "elif action == \"rollback\":\n",
        "    manager.rollback()\n",
        "else:\n",
        "    print(\"Unknown action\")\n",
        "```\n",
        "\n",
        "#### Проблемы:\n",
        "1. Каждый новый сценарий требует изменения `TaskManager`.\n",
        "2. Невозможно логировать или отменять команды.\n",
        "\n",
        "#### Исправленный код:\n",
        "```python\n",
        "class Command:\n",
        "    def execute(self):\n",
        "        pass\n",
        "\n",
        "class DeployCommand(Command):\n",
        "    def __init__(self, manager):\n",
        "        self.manager = manager\n",
        "\n",
        "    def execute(self):\n",
        "        self.manager.deploy()\n",
        "\n",
        "class RollbackCommand(Command):\n",
        "    def __init__(self, manager):\n",
        "        self.manager = manager\n",
        "\n",
        "    def execute(self):\n",
        "        self.manager.rollback()\n",
        "\n",
        "class TaskManager:\n",
        "    def deploy(self):\n",
        "        print(\"Deploying application...\")\n",
        "\n",
        "    def rollback(self):\n",
        "        print(\"Rolling back deployment...\")\n",
        "\n",
        "class CommandExecutor:\n",
        "    def __init__(self):\n",
        "        self.history = []\n",
        "\n",
        "    def execute_command(self, command):\n",
        "        command.execute()\n",
        "        self.history.append(command)\n",
        "\n",
        "manager = TaskManager()\n",
        "executor = CommandExecutor()\n",
        "\n",
        "deploy_command = DeployCommand(manager)\n",
        "rollback_command = RollbackCommand(manager)\n",
        "\n",
        "executor.execute_command(deploy_command)  # Deploying application...\n",
        "executor.execute_command(rollback_command)  # Rolling back deployment...\n",
        "```\n",
        "\n",
        "#### Обоснование:\n",
        "- Command изолирует действия, позволяя их логировать или комбинировать.\n",
        "- Новые команды легко добавляются без изменения основного кода."
      ],
      "metadata": {
        "id": "4CJq25Ku-Lb6"
      }
    },
    {
      "cell_type": "markdown",
      "source": [
        "### Задача 3: Выбор метода авторизации (Strategy) – 1 б\n"
      ],
      "metadata": {
        "id": "yfTR3iX--gL_"
      }
    },
    {
      "cell_type": "markdown",
      "source": [
        "#### Исходный код:\n",
        "```python\n",
        "def authenticate(auth_type, credentials):\n",
        "    if auth_type == \"basic\":\n",
        "        print(f\"Authenticating with username and password: {credentials}\")\n",
        "    elif auth_type == \"oauth\":\n",
        "        print(f\"Authenticating with OAuth token: {credentials}\")\n",
        "    else:\n",
        "        raise ValueError(\"Unknown authentication type\")\n",
        "\n",
        "authenticate(\"basic\", {\"username\": \"user\", \"password\": \"pass\"})\n",
        "authenticate(\"oauth\", {\"token\": \"abc123\"})\n",
        "```\n",
        "\n",
        "#### Проблемы:\n",
        "1. Новые методы авторизации требуют изменения функции.\n",
        "2. Код трудно расширять и тестировать.\n",
        "\n",
        "#### Исправленный код:\n",
        "```python\n",
        "class AuthStrategy:\n",
        "    def authenticate(self, credentials):\n",
        "        pass\n",
        "\n",
        "class BasicAuthStrategy(AuthStrategy):\n",
        "    def authenticate(self, credentials):\n",
        "        print(f\"Authenticating with username and password: {credentials}\")\n",
        "\n",
        "class OAuthStrategy(AuthStrategy):\n",
        "    def authenticate(self, credentials):\n",
        "        print(f\"Authenticating with OAuth token: {credentials}\")\n",
        "\n",
        "class AuthContext:\n",
        "    def __init__(self, strategy: AuthStrategy):\n",
        "        self._strategy = strategy\n",
        "\n",
        "    def set_strategy(self, strategy: AuthStrategy):\n",
        "        self._strategy = strategy\n",
        "\n",
        "    def authenticate(self, credentials):\n",
        "        self._strategy.authenticate(credentials)\n",
        "\n",
        "auth_context = AuthContext(BasicAuthStrategy())\n",
        "auth_context.authenticate({\"username\": \"user\", \"password\": \"pass\"})\n",
        "\n",
        "auth_context.set_strategy(OAuthStrategy())\n",
        "auth_context.authenticate({\"token\": \"abc123\"})\n",
        "```\n",
        "\n",
        "#### Обоснование:\n",
        "- Strategy изолирует алгоритмы авторизации, упрощая их добавление и тестирование.\n",
        "- Код становится гибким и легко масштабируемым."
      ],
      "metadata": {
        "id": "-K0eArNu-Oq6"
      }
    },
    {
      "cell_type": "markdown",
      "source": [
        "### Задача 4: Распределение задач между воркерами (Builder) – 0.5 б"
      ],
      "metadata": {
        "id": "YNrBxK7U-iUw"
      }
    },
    {
      "cell_type": "markdown",
      "source": [
        "#### Исходный код:\n",
        "```python\n",
        "class Worker:\n",
        "    def __init__(self, tasks):\n",
        "        self.tasks = tasks\n",
        "\n",
        "worker = Worker([\"task1\", \"task2\", \"task3\"])\n",
        "print(worker.tasks)\n",
        "```\n",
        "\n",
        "#### Проблемы:\n",
        "1. Нет возможности гибко настраивать воркеров.\n",
        "2. Список задач передаётся в конструктор, что затрудняет масштабирование.\n",
        "\n",
        "#### Исправленный код:\n",
        "```python\n",
        "class Worker:\n",
        "    def __init__(self):\n",
        "        self.tasks = []\n",
        "\n",
        "    def __str__(self):\n",
        "        return f\"Worker tasks: {', '.join(self.tasks)}\"\n",
        "\n",
        "class WorkerBuilder:\n",
        "    def __init__(self):\n",
        "        self.worker = Worker()\n",
        "\n",
        "    def add_task(self, task):\n",
        "        self.worker.tasks.append(task)\n",
        "        return self\n",
        "\n",
        "    def build(self):\n",
        "        return self.worker\n",
        "\n",
        "builder = WorkerBuilder()\n",
        "worker = builder.add_task(\"task1\").add_task(\"task2\").add_task(\"task3\").build()\n",
        "print(worker)\n",
        "```\n",
        "\n",
        "#### Обоснование:\n",
        "- Builder упрощает создание сложных объектов.\n",
        "- Добавление новых задач становится декларативным и понятным."
      ],
      "metadata": {
        "id": "Uy7Fg4W1-UWK"
      }
    },
    {
      "cell_type": "markdown",
      "source": [
        "### Задача 5: Контроль версии API с адаптерами (Adapter) – 0.5 б\n"
      ],
      "metadata": {
        "id": "OQIwP3HB-kQ8"
      }
    },
    {
      "cell_type": "markdown",
      "source": [
        "#### Исходный код:\n",
        "```python\n",
        "class APIv1:\n",
        "    def get_user(self):\n",
        "        return {\"id\": 1, \"name\": \"Alice\"}\n",
        "\n",
        "class APIv2:\n",
        "    def get_user_data(self):\n",
        "        return {\"user\": {\"id\": 1, \"full_name\": \"Alice Johnson\"}}\n",
        "\n",
        "api = APIv1()\n",
        "print(api.get_user())\n",
        "```\n",
        "\n",
        "#### Проблемы:\n",
        "1. Переход на новую версию API потребует изменения всей логики вызовов.\n",
        "2. Клиентский код не унифицирован для работы с разными версиями API.\n",
        "\n",
        "#### Исправленный код:\n",
        "```python\n",
        "class APIv1:\n",
        "    def get_user(self):\n",
        "        return {\"id\": 1, \"name\": \"Alice\"}\n",
        "\n",
        "class APIv2:\n",
        "    def get_user_data(self):\n",
        "        return {\"user\": {\"id\": 1, \"full_name\": \"Alice Johnson\"}}\n",
        "\n",
        "class APIAdapter:\n",
        "    def __init__(self, api):\n",
        "        self.api = api\n",
        "\n",
        "    def get_user(self):\n",
        "        if hasattr(self.api, \"get_user\"):\n",
        "            return self.api.get_user()\n",
        "        elif hasattr(self.api, \"get_user_data\"):\n",
        "            data = self.api.get_user_data()\n",
        "            return {\"id\": data[\"user\"][\"id\"], \"name\": data[\"user\"][\"full_name\"]}\n",
        "\n",
        "# Использование\n",
        "api_v1 = APIAdapter(APIv1())\n",
        "api_v2 = APIAdapter(APIv2())\n",
        "\n",
        "print(api_v1.get_user())  # {'id': 1, 'name': 'Alice'}\n",
        "print(api_v2.get_user())  # {'id': 1, 'name': 'Alice Johnson'}\n",
        "```\n",
        "\n",
        "#### Обоснование:\n",
        "- Adapter позволяет унифицировать интерфейсы разных версий API.\n",
        "- Клиентский код остаётся неизменным при переходе на новую версию.\n"
      ],
      "metadata": {
        "id": "oY1Cpffo-VOI"
      }
    },
    {
      "cell_type": "markdown",
      "source": [
        "### Задача 6: Контроль доступа к API (Proxy) – 0.5 б\n"
      ],
      "metadata": {
        "id": "wFNILVGI-mb5"
      }
    },
    {
      "cell_type": "markdown",
      "source": [
        "#### Исходный код:\n",
        "```python\n",
        "class ExternalAPI:\n",
        "    def fetch_data(self):\n",
        "        print(\"Fetching data from external API...\")\n",
        "        return {\"data\": \"external data\"}\n",
        "\n",
        "api = ExternalAPI()\n",
        "print(api.fetch_data())\n",
        "```\n",
        "\n",
        "#### Проблемы:\n",
        "1. Отсутствует контроль доступа: любой код может вызвать метод API.\n",
        "2. Нет логирования запросов.\n",
        "\n",
        "#### Исправленный код:\n",
        "```python\n",
        "class ExternalAPI:\n",
        "    def fetch_data(self):\n",
        "        print(\"Fetching data from external API...\")\n",
        "        return {\"data\": \"external data\"}\n",
        "\n",
        "class APIProxy:\n",
        "    def __init__(self, api, user_role):\n",
        "        self.api = api\n",
        "        self.user_role = user_role\n",
        "\n",
        "    def fetch_data(self):\n",
        "        if self.user_role != \"admin\":\n",
        "            print(\"Access denied: Insufficient permissions\")\n",
        "            return None\n",
        "        print(\"Logging: User accessed the API\")\n",
        "        return self.api.fetch_data()\n",
        "\n",
        "# Использование\n",
        "proxy = APIProxy(ExternalAPI(), user_role=\"user\")\n",
        "print(proxy.fetch_data())  # Access denied\n",
        "\n",
        "admin_proxy = APIProxy(ExternalAPI(), user_role=\"admin\")\n",
        "print(admin_proxy.fetch_data())  # Logging + Fetching data\n",
        "```\n",
        "\n",
        "#### Обоснование:\n",
        "- Proxy добавляет контроль доступа и логирование запросов.\n",
        "- Логика доступа изолирована от оригинального API.\n"
      ],
      "metadata": {
        "id": "dGDj_7XO6XXX"
      }
    }
  ]
}